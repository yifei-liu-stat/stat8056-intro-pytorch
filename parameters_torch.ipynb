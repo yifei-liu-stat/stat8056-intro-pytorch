{
  "nbformat": 4,
  "nbformat_minor": 0,
  "metadata": {
    "colab": {
      "provenance": []
    },
    "kernelspec": {
      "name": "python3",
      "display_name": "Python 3"
    },
    "language_info": {
      "name": "python"
    },
    "accelerator": "GPU",
    "gpuClass": "standard"
  },
  "cells": [
    {
      "cell_type": "code",
      "source": [
        "import torch\n",
        "from torch import nn\n",
        "\n",
        "! pip install pytorch-model-summary\n",
        "from pytorch_model_summary import summary"
      ],
      "metadata": {
        "id": "K5zJKEKEdrKZ",
        "outputId": "07973fae-fb3b-4b7d-b5a5-9620634af824",
        "colab": {
          "base_uri": "https://localhost:8080/"
        }
      },
      "execution_count": null,
      "outputs": [
        {
          "output_type": "stream",
          "name": "stdout",
          "text": [
            "Looking in indexes: https://pypi.org/simple, https://us-python.pkg.dev/colab-wheels/public/simple/\n",
            "Requirement already satisfied: pytorch-model-summary in /usr/local/lib/python3.9/dist-packages (0.1.2)\n",
            "Requirement already satisfied: numpy in /usr/local/lib/python3.9/dist-packages (from pytorch-model-summary) (1.22.4)\n",
            "Requirement already satisfied: torch in /usr/local/lib/python3.9/dist-packages (from pytorch-model-summary) (1.13.1+cu116)\n",
            "Requirement already satisfied: tqdm in /usr/local/lib/python3.9/dist-packages (from pytorch-model-summary) (4.65.0)\n",
            "Requirement already satisfied: typing-extensions in /usr/local/lib/python3.9/dist-packages (from torch->pytorch-model-summary) (4.5.0)\n"
          ]
        }
      ]
    },
    {
      "cell_type": "markdown",
      "source": [
        "# Hyperparameters (not trainable, and NOT registered in `model.parameters()`)\n",
        "\n",
        "Hyperparameters such as learning rate, momentum, regularization parameter, network structures, are not trainable, but they will not be registered in `model.parameters()` by default in PyTorch."
      ],
      "metadata": {
        "id": "En26f16qOc-F"
      }
    },
    {
      "cell_type": "code",
      "source": [
        "# hyperparameters\n",
        "learning_rate = 1e-3\n",
        "input_dim = 10\n",
        "n_hidden_units = 128\n",
        "output_dim = 1"
      ],
      "metadata": {
        "id": "GD4rFWGlObnr"
      },
      "execution_count": null,
      "outputs": []
    },
    {
      "cell_type": "markdown",
      "source": [
        "# Trainable parameters (registered in `model.parameters()`)\n",
        "\n",
        "Weights initialized by modules such as `nn.Linear()`, `nn.Conv2d()` are automatically trainable parameters since they have gradient tracing enabled by default upon initialization, and will be updated during the batch optimization."
      ],
      "metadata": {
        "id": "XGvXKfRZOtqU"
      }
    },
    {
      "cell_type": "code",
      "source": [
        "model = nn.Sequential(\n",
        "    nn.Linear(input_dim, n_hidden_units),\n",
        "    nn.ReLU(),\n",
        "    nn.Linear(n_hidden_units, output_dim)\n",
        ")\n",
        "optimizer = torch.optim.SGD(model.parameters(), lr = learning_rate)"
      ],
      "metadata": {
        "id": "A0bsISjsKl50"
      },
      "execution_count": null,
      "outputs": []
    },
    {
      "cell_type": "code",
      "source": [
        "# model summary\n",
        "print(summary(model, torch.zeros((1, input_dim)), show_input=True))"
      ],
      "metadata": {
        "colab": {
          "base_uri": "https://localhost:8080/"
        },
        "id": "2zK3gB68Kjsl",
        "outputId": "f0587583-5268-4419-d6a3-647f928cd3c4"
      },
      "execution_count": null,
      "outputs": [
        {
          "output_type": "stream",
          "name": "stdout",
          "text": [
            "-----------------------------------------------------------------------\n",
            "      Layer (type)         Input Shape         Param #     Tr. Param #\n",
            "=======================================================================\n",
            "          Linear-1             [1, 10]           1,408           1,408\n",
            "            ReLU-2            [1, 128]               0               0\n",
            "          Linear-3            [1, 128]             129             129\n",
            "=======================================================================\n",
            "Total params: 1,537\n",
            "Trainable params: 1,537\n",
            "Non-trainable params: 0\n",
            "-----------------------------------------------------------------------\n"
          ]
        }
      ]
    },
    {
      "cell_type": "markdown",
      "source": [
        "# Non-trainable parameters (not trainable, registered in `model.parameters()`)\n",
        "\n",
        "If we disable gradient tracing of some weights, they become non-trainable parameters (usually set manually), so that they are \"frozen\", meaning that they will not be updated during the batch optimization. This is useful if you want to freeze the embedding part of your network only, and train on the rest of the part."
      ],
      "metadata": {
        "id": "a-BOZoLNO8c0"
      }
    },
    {
      "cell_type": "code",
      "source": [
        "# freeze all weights of the first linear layer\n",
        "for param in model.named_parameters():\n",
        "    if param[0].__contains__('0'):\n",
        "        param[1].requires_grad = False\n",
        "\n",
        "# model summary\n",
        "print(summary(model, torch.zeros((1, input_dim)), show_input=True))"
      ],
      "metadata": {
        "colab": {
          "base_uri": "https://localhost:8080/"
        },
        "id": "iz1wP-uULst_",
        "outputId": "83c5bef5-beac-4de6-d0c7-5a01edf0baa4"
      },
      "execution_count": null,
      "outputs": [
        {
          "output_type": "stream",
          "name": "stdout",
          "text": [
            "-----------------------------------------------------------------------\n",
            "      Layer (type)         Input Shape         Param #     Tr. Param #\n",
            "=======================================================================\n",
            "          Linear-1             [1, 10]           1,408               0\n",
            "            ReLU-2            [1, 128]               0               0\n",
            "          Linear-3            [1, 128]             129             129\n",
            "=======================================================================\n",
            "Total params: 1,537\n",
            "Trainable params: 129\n",
            "Non-trainable params: 1,408\n",
            "-----------------------------------------------------------------------\n"
          ]
        }
      ]
    }
  ]
}