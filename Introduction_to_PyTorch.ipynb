{
  "nbformat": 4,
  "nbformat_minor": 0,
  "metadata": {
    "colab": {
      "provenance": []
    },
    "kernelspec": {
      "name": "python3",
      "display_name": "Python 3"
    },
    "language_info": {
      "name": "python"
    },
    "accelerator": "GPU",
    "gpuClass": "standard"
  },
  "cells": [
    {
      "cell_type": "markdown",
      "source": [
        "This is a complementary notebook for tutorial lectures on introduction to PyTorch for [STAT8056](http://users.stat.umn.edu/~xshen/stat8056.htm), 2023 Spring. To access the slides for this tutorial, please visit [https://github.umn.edu/liu00980/STAT8056_intro_pytorch](https://github.umn.edu/liu00980/STAT8056_intro_pytorch)."
      ],
      "metadata": {
        "id": "CO3escq1gLUJ"
      }
    },
    {
      "cell_type": "code",
      "source": [
        "# basic torch modules, classes and functions\n",
        "import torch\n",
        "from torch import nn, optim\n",
        "import torch.nn.functional as F\n",
        "from torch.utils.data import Dataset, DataLoader, Subset\n",
        "\n",
        "# image datasets and pre-processing\n",
        "import torchvision\n",
        "from torchvision import datasets\n",
        "import torchvision.transforms as transforms\n",
        "\n",
        "# other utils libraries\n",
        "import time\n",
        "import numpy as np\n",
        "import matplotlib.pyplot as plt"
      ],
      "metadata": {
        "id": "lS8ECVdvIaDh"
      },
      "execution_count": 2,
      "outputs": []
    },
    {
      "cell_type": "markdown",
      "source": [
        "# Tensor"
      ],
      "metadata": {
        "id": "wym0K-dJJWAa"
      }
    },
    {
      "cell_type": "markdown",
      "source": [
        "## Create tensors with gradient tracing"
      ],
      "metadata": {
        "id": "43U8df32JeY6"
      }
    },
    {
      "cell_type": "code",
      "source": [
        "t = torch.tensor(3.0, requires_grad = True)\n",
        "print(\"Tensor t:\", t)"
      ],
      "metadata": {
        "id": "CnNI-UWeIa90",
        "colab": {
          "base_uri": "https://localhost:8080/"
        },
        "outputId": "1e29741b-eec5-48f4-d489-016e2aef9f33"
      },
      "execution_count": null,
      "outputs": [
        {
          "output_type": "stream",
          "name": "stdout",
          "text": [
            "Tensor t: tensor(3., requires_grad=True)\n"
          ]
        }
      ]
    },
    {
      "cell_type": "markdown",
      "source": [
        "## Calculate and access the gradient"
      ],
      "metadata": {
        "id": "e6oZBKm4JkzS"
      }
    },
    {
      "cell_type": "code",
      "source": [
        "# create tensors, and enable gradient tracing\n",
        "c = torch.tensor(1.)\n",
        "t = torch.tensor(3., requires_grad = True)\n",
        "print(\"Tensor c:\", c)\n",
        "print(\"Tensor t:\", t)\n",
        "\n",
        "# do some calculation \n",
        "s = t**2\n",
        "f = 3 * s + c\n",
        "\n",
        "# calculate the gradient of f w.r.t. t\n",
        "f.backward()\n",
        "\n",
        "# access the gradient\n",
        "print(\"Gradient df/dt:\", t.grad)"
      ],
      "metadata": {
        "colab": {
          "base_uri": "https://localhost:8080/"
        },
        "id": "Ahm5TNASSrYv",
        "outputId": "f2827870-1314-46f5-8ba7-e6c1460857e4"
      },
      "execution_count": null,
      "outputs": [
        {
          "output_type": "stream",
          "name": "stdout",
          "text": [
            "Tensor c: tensor(1.)\n",
            "Tensor t: tensor(3., requires_grad=True)\n",
            "Gradient df/dt: tensor(18.)\n"
          ]
        }
      ]
    },
    {
      "cell_type": "markdown",
      "source": [
        "## Common MISTAKES regarding gradient and computation graph"
      ],
      "metadata": {
        "id": "arqw1924fBeW"
      }
    },
    {
      "cell_type": "markdown",
      "source": [
        "### Call `.backward` when there is no graph (or the graph has been destroyed)"
      ],
      "metadata": {
        "id": "taBvmfPwfGmg"
      }
    },
    {
      "cell_type": "code",
      "source": [
        "t = torch.tensor(3., requires_grad = True)\n",
        "s = t**2\n",
        "s.backward() # graph is destroyed\n",
        "\n",
        "s.backward() # error!"
      ],
      "metadata": {
        "colab": {
          "base_uri": "https://localhost:8080/",
          "height": 381
        },
        "id": "qmjCjM0dfNRX",
        "outputId": "6c13c90f-f90e-4947-e51a-7d69f8b4d02f"
      },
      "execution_count": null,
      "outputs": [
        {
          "output_type": "error",
          "ename": "RuntimeError",
          "evalue": "ignored",
          "traceback": [
            "\u001b[0;31m---------------------------------------------------------------------------\u001b[0m",
            "\u001b[0;31mRuntimeError\u001b[0m                              Traceback (most recent call last)",
            "\u001b[0;32m<ipython-input-4-f3e0d0766fdf>\u001b[0m in \u001b[0;36m<module>\u001b[0;34m\u001b[0m\n\u001b[1;32m      3\u001b[0m \u001b[0ms\u001b[0m\u001b[0;34m.\u001b[0m\u001b[0mbackward\u001b[0m\u001b[0;34m(\u001b[0m\u001b[0;34m)\u001b[0m \u001b[0;31m# graph is destroyed\u001b[0m\u001b[0;34m\u001b[0m\u001b[0;34m\u001b[0m\u001b[0m\n\u001b[1;32m      4\u001b[0m \u001b[0;34m\u001b[0m\u001b[0m\n\u001b[0;32m----> 5\u001b[0;31m \u001b[0ms\u001b[0m\u001b[0;34m.\u001b[0m\u001b[0mbackward\u001b[0m\u001b[0;34m(\u001b[0m\u001b[0;34m)\u001b[0m \u001b[0;31m# error!\u001b[0m\u001b[0;34m\u001b[0m\u001b[0;34m\u001b[0m\u001b[0m\n\u001b[0m",
            "\u001b[0;32m/usr/local/lib/python3.8/dist-packages/torch/_tensor.py\u001b[0m in \u001b[0;36mbackward\u001b[0;34m(self, gradient, retain_graph, create_graph, inputs)\u001b[0m\n\u001b[1;32m    486\u001b[0m                 \u001b[0minputs\u001b[0m\u001b[0;34m=\u001b[0m\u001b[0minputs\u001b[0m\u001b[0;34m,\u001b[0m\u001b[0;34m\u001b[0m\u001b[0;34m\u001b[0m\u001b[0m\n\u001b[1;32m    487\u001b[0m             )\n\u001b[0;32m--> 488\u001b[0;31m         torch.autograd.backward(\n\u001b[0m\u001b[1;32m    489\u001b[0m             \u001b[0mself\u001b[0m\u001b[0;34m,\u001b[0m \u001b[0mgradient\u001b[0m\u001b[0;34m,\u001b[0m \u001b[0mretain_graph\u001b[0m\u001b[0;34m,\u001b[0m \u001b[0mcreate_graph\u001b[0m\u001b[0;34m,\u001b[0m \u001b[0minputs\u001b[0m\u001b[0;34m=\u001b[0m\u001b[0minputs\u001b[0m\u001b[0;34m\u001b[0m\u001b[0;34m\u001b[0m\u001b[0m\n\u001b[1;32m    490\u001b[0m         )\n",
            "\u001b[0;32m/usr/local/lib/python3.8/dist-packages/torch/autograd/__init__.py\u001b[0m in \u001b[0;36mbackward\u001b[0;34m(tensors, grad_tensors, retain_graph, create_graph, grad_variables, inputs)\u001b[0m\n\u001b[1;32m    195\u001b[0m     \u001b[0;31m# some Python versions print out the first line of a multi-line function\u001b[0m\u001b[0;34m\u001b[0m\u001b[0;34m\u001b[0m\u001b[0;34m\u001b[0m\u001b[0m\n\u001b[1;32m    196\u001b[0m     \u001b[0;31m# calls in the traceback and some print out the last line\u001b[0m\u001b[0;34m\u001b[0m\u001b[0;34m\u001b[0m\u001b[0;34m\u001b[0m\u001b[0m\n\u001b[0;32m--> 197\u001b[0;31m     Variable._execution_engine.run_backward(  # Calls into the C++ engine to run the backward pass\n\u001b[0m\u001b[1;32m    198\u001b[0m         \u001b[0mtensors\u001b[0m\u001b[0;34m,\u001b[0m \u001b[0mgrad_tensors_\u001b[0m\u001b[0;34m,\u001b[0m \u001b[0mretain_graph\u001b[0m\u001b[0;34m,\u001b[0m \u001b[0mcreate_graph\u001b[0m\u001b[0;34m,\u001b[0m \u001b[0minputs\u001b[0m\u001b[0;34m,\u001b[0m\u001b[0;34m\u001b[0m\u001b[0;34m\u001b[0m\u001b[0m\n\u001b[1;32m    199\u001b[0m         allow_unreachable=True, accumulate_grad=True)  # Calls into the C++ engine to run the backward pass\n",
            "\u001b[0;31mRuntimeError\u001b[0m: Trying to backward through the graph a second time (or directly access saved tensors after they have already been freed). Saved intermediate values of the graph are freed when you call .backward() or autograd.grad(). Specify retain_graph=True if you need to backward through the graph a second time or if you need to access saved tensors after calling backward."
          ]
        }
      ]
    },
    {
      "cell_type": "markdown",
      "source": [
        "### Call `.grad` on non-leaf nodes"
      ],
      "metadata": {
        "id": "LlzNHCVcfojn"
      }
    },
    {
      "cell_type": "code",
      "source": [
        "t = torch.tensor(3., requires_grad = True) # the leaf node\n",
        "s = t**2 # the intermediate node\n",
        "\n",
        "# uncomment this to retran gradient of the non-leaf node s\n",
        "# s.retain_grad()\n",
        "\n",
        "f = 3 * s + 1 # the objective\n",
        "f.backward() \n",
        "\n",
        "s.grad # warning and no result"
      ],
      "metadata": {
        "id": "JRDnszIvfuvv"
      },
      "execution_count": null,
      "outputs": []
    },
    {
      "cell_type": "markdown",
      "source": [
        "### Gradient accumulation"
      ],
      "metadata": {
        "id": "68zFdBwzJrhB"
      }
    },
    {
      "cell_type": "code",
      "source": [
        "# first back propagation\n",
        "t = torch.tensor(3., requires_grad = True)\n",
        "s = t**2\n",
        "s.backward()\n",
        "print(\"Gradient ds/dt:\", t.grad)\n",
        "\n",
        "# second back propagation\n",
        "f = 5 * t + 1\n",
        "f.backward()\n",
        "print(\"Gradient df/dt (without emptying t.grad):\", t.grad)"
      ],
      "metadata": {
        "colab": {
          "base_uri": "https://localhost:8080/"
        },
        "id": "nQz6OzCUgDCo",
        "outputId": "12475b8a-6160-4b07-f2cd-f027aa4efc91"
      },
      "execution_count": null,
      "outputs": [
        {
          "output_type": "stream",
          "name": "stdout",
          "text": [
            "Gradient ds/dt: tensor(6.)\n",
            "Gradient df/dt (without emptying t.grad): tensor(11.)\n"
          ]
        }
      ]
    },
    {
      "cell_type": "code",
      "source": [
        "t.grad.zero_() # zero out the gradient\n",
        "f = 5 * t + 1\n",
        "f.backward()\n",
        "print(\"Gradient df/dt (after emptying t.grad):\", t.grad)"
      ],
      "metadata": {
        "colab": {
          "base_uri": "https://localhost:8080/"
        },
        "id": "w_Ayg_urjT8F",
        "outputId": "e948ce31-350c-47b2-fa0c-ded77fb5b84e"
      },
      "execution_count": null,
      "outputs": [
        {
          "output_type": "stream",
          "name": "stdout",
          "text": [
            "Gradient df/dt (after emptying t.grad): tensor(5.)\n"
          ]
        }
      ]
    },
    {
      "cell_type": "markdown",
      "source": [
        "# Tensor manipulation on GPU\n",
        "\n",
        "To use GPU of Google Colab, go to `Runtime|Change runtime type|Hardware accelerator|GPU|Save`."
      ],
      "metadata": {
        "id": "C3S4IMcMJx2h"
      }
    },
    {
      "cell_type": "markdown",
      "source": [
        "## Check GPU availability"
      ],
      "metadata": {
        "id": "Iv5QqzEiJ24w"
      }
    },
    {
      "cell_type": "code",
      "source": [
        "device = 'cuda' if torch.cuda.is_available() else 'cpu'\n",
        "print(device)"
      ],
      "metadata": {
        "colab": {
          "base_uri": "https://localhost:8080/"
        },
        "id": "YDwiA1cUnhjF",
        "outputId": "f8b81256-f073-4317-afdd-ef072f4ed5da"
      },
      "execution_count": null,
      "outputs": [
        {
          "output_type": "stream",
          "name": "stdout",
          "text": [
            "cuda\n"
          ]
        }
      ]
    },
    {
      "cell_type": "markdown",
      "source": [
        "## Matrix multiplication on CPU versus GPU"
      ],
      "metadata": {
        "id": "cf81OOjVJ6VK"
      }
    },
    {
      "cell_type": "code",
      "source": [
        "d = 3000\n",
        "\n",
        "# C = A B with numpy on CPU\n",
        "A = np.random.rand(d, d)\n",
        "B = np.random.rand(d, d)\n",
        "begin = time.time()\n",
        "C = A.dot(B)\n",
        "print(f\"CPU time (numpy): {time.time() - begin} s\")\n",
        "\n",
        "# C = A B with torch on CPU\n",
        "A_t_cpu = torch.tensor(A)\n",
        "B_t_cpu = torch.tensor(B)\n",
        "begin = time.time()\n",
        "C = torch.mm(A_t_cpu, B_t_cpu)\n",
        "print(f\"CPU time (torch): {time.time() - begin} s\")\n",
        "\n",
        "# C = A B with torch on GPU\n",
        "# make sure GPU is available\n",
        "# it takes some time to initialize using GPU for the first time, so run this cell for a second time\n",
        "A_t_gpu = torch.tensor(A).cuda()\n",
        "B_t_gpu = torch.tensor(B).cuda()\n",
        "begin = time.time()\n",
        "C = torch.mm(A_t_gpu, B_t_gpu)\n",
        "print(f\"GPU time (torch): {time.time() - begin} s\")"
      ],
      "metadata": {
        "colab": {
          "base_uri": "https://localhost:8080/"
        },
        "id": "s-0jdfztpqM1",
        "outputId": "a15add9a-9371-49cd-acf3-70064c48f72e"
      },
      "execution_count": null,
      "outputs": [
        {
          "output_type": "stream",
          "name": "stdout",
          "text": [
            "CPU time (numpy): 1.3395304679870605 s\n",
            "CPU time (torch): 0.996124267578125 s\n",
            "GPU time (torch): 0.0036780834197998047 s\n"
          ]
        }
      ]
    },
    {
      "cell_type": "markdown",
      "source": [
        "## Transfer time from CPU to GPU"
      ],
      "metadata": {
        "id": "ODmpDsYyJ_LJ"
      }
    },
    {
      "cell_type": "code",
      "source": [
        "d = 3000\n",
        "begin = time.time()\n",
        "A = torch.rand((d, d)).cuda()\n",
        "B = torch.rand((d, d)).cuda()\n",
        "print(f\"Time from CPU to GPU: {time.time() - begin} s\")\n",
        "begin = time.time()\n",
        "C = torch.mm(A, B)\n",
        "print(f\"GPU time (torch): {time.time() - begin} s\")"
      ],
      "metadata": {
        "colab": {
          "base_uri": "https://localhost:8080/"
        },
        "id": "gtXsYBPy28nu",
        "outputId": "76824635-f81d-4632-d6b0-7772a7d3093b"
      },
      "execution_count": null,
      "outputs": [
        {
          "output_type": "stream",
          "name": "stdout",
          "text": [
            "Time from CPU to GPU: 0.1774449348449707 s\n",
            "GPU time (torch): 0.012121200561523438 s\n"
          ]
        }
      ]
    },
    {
      "cell_type": "markdown",
      "source": [
        "# Linear regression in PyTorch"
      ],
      "metadata": {
        "id": "zaWyabaOKEe8"
      }
    },
    {
      "cell_type": "markdown",
      "source": [
        "## Linear regression --- the naive approach"
      ],
      "metadata": {
        "id": "gIJE1aDlKGrx"
      }
    },
    {
      "cell_type": "code",
      "source": [
        "n = 2000\n",
        "x = torch.rand(n)\n",
        "\n",
        "# create dataset with true model\n",
        "a0 = 2\n",
        "b0 = 1\n",
        "y = a0 * x + b0\n",
        "\n",
        "# set up optimization parameter of SGD\n",
        "a = torch.rand(1, requires_grad = True)\n",
        "b = torch.rand(1, requires_grad = True)\n",
        "nepochs = 10\n",
        "batch_size = 200\n",
        "lr = 0.5"
      ],
      "metadata": {
        "id": "Ae6zZ9b4Symz"
      },
      "execution_count": null,
      "outputs": []
    },
    {
      "cell_type": "code",
      "source": [
        "for epoch in range(nepochs):\n",
        "  for batch in range(round(n / batch_size)):\n",
        "    start = batch * batch_size\n",
        "    end = start + batch_size\n",
        "    # perform update on a batch\n",
        "    x_batch = x[start:end]\n",
        "    y_batch = y[start:end]\n",
        "\n",
        "    # build computation graph\n",
        "    y_hat = a * x_batch + b\n",
        "    myloss = torch.mean((y_batch - y_hat)**2)\n",
        "\n",
        "    # gradient calculation\n",
        "    myloss.backward()\n",
        "\n",
        "    # SGD update\n",
        "    with torch.no_grad():\n",
        "      a -= lr * a.grad\n",
        "      b -= lr * b.grad\n",
        "    \n",
        "    # avoid gradient accumulation\n",
        "    a.grad.zero_()\n",
        "    b.grad.zero_()\n",
        "\n",
        "  print(f\"Epoch: {epoch + 1} / {nepochs}\")\n",
        "  print(f\"MSE: {myloss: .2e}; a: {a.item():.4f}; b: {b.item():.4f}\")\n"
      ],
      "metadata": {
        "colab": {
          "base_uri": "https://localhost:8080/"
        },
        "id": "MFfUbTArYzqz",
        "outputId": "a6a281f4-e762-4360-9b00-cc22cfd8e074"
      },
      "execution_count": null,
      "outputs": [
        {
          "output_type": "stream",
          "name": "stdout",
          "text": [
            "Epoch: 1 / 10\n",
            "MSE:  3.60e-02; a: 1.4021; b: 1.2852\n",
            "Epoch: 2 / 10\n",
            "MSE:  9.22e-03; a: 1.6972; b: 1.1444\n",
            "Epoch: 3 / 10\n",
            "MSE:  2.37e-03; a: 1.8467; b: 1.0731\n",
            "Epoch: 4 / 10\n",
            "MSE:  6.07e-04; a: 1.9224; b: 1.0370\n",
            "Epoch: 5 / 10\n",
            "MSE:  1.56e-04; a: 1.9607; b: 1.0188\n",
            "Epoch: 6 / 10\n",
            "MSE:  3.99e-05; a: 1.9801; b: 1.0095\n",
            "Epoch: 7 / 10\n",
            "MSE:  1.02e-05; a: 1.9899; b: 1.0048\n",
            "Epoch: 8 / 10\n",
            "MSE:  2.62e-06; a: 1.9949; b: 1.0024\n",
            "Epoch: 9 / 10\n",
            "MSE:  6.72e-07; a: 1.9974; b: 1.0012\n",
            "Epoch: 10 / 10\n",
            "MSE:  1.72e-07; a: 1.9987; b: 1.0006\n"
          ]
        }
      ]
    },
    {
      "cell_type": "markdown",
      "source": [
        "## Linear regression --- the PyTorch way"
      ],
      "metadata": {
        "id": "Qnbnc_lfKUlN"
      }
    },
    {
      "cell_type": "code",
      "source": [
        "class SimpleLinear(Dataset):\n",
        "    def __init__(self, n, a, b, sigma = 0):\n",
        "      self.n = n\n",
        "      self.x = torch.rand(n, 1)\n",
        "      self.y = a * self.x + b + sigma * torch.randn(n, 1)\n",
        "\n",
        "    def __len__(self):\n",
        "        return self.n\n",
        "        \n",
        "    def __getitem__(self, idx):\n",
        "        return self.x[idx], self.y[idx]\n",
        "\n",
        "# create a training model\n",
        "# (cont.) also initializes a and b\n",
        "mymodel = nn.Sequential(nn.Linear(1, 1))\n",
        "\n",
        "# prepare dataset and dataloaders\n",
        "mydata = SimpleLinear(n = 2000, a = 2, b = 1)\n",
        "mydataloader = DataLoader(mydata, batch_size = 200)\n",
        "\n",
        "# set up optimization with SGD\n",
        "criterion = nn.MSELoss()\n",
        "optimizer = optim.SGD(mymodel.parameters(), lr = 0.5)"
      ],
      "metadata": {
        "id": "8MPbZu6xsOKQ"
      },
      "execution_count": null,
      "outputs": []
    },
    {
      "cell_type": "code",
      "source": [
        "nepochs = 10\n",
        "for epoch in range(nepochs):\n",
        "  for x_batch, y_batch in mydataloader:\n",
        "    # build computation graph\n",
        "    yhat = mymodel(x_batch)\n",
        "    myloss = criterion(y_batch, yhat)\n",
        "\n",
        "    # optimization\n",
        "    optimizer.zero_grad() # zero out gradient\n",
        "    myloss.backward() # back propagation\n",
        "    optimizer.step() # updata parameters\n",
        "\n",
        "  a = mymodel[0].weight.item()\n",
        "  b = mymodel[0].bias.item()\n",
        "  print(f\"Epoch: {epoch + 1} / {nepochs}\")\n",
        "  print(f\"MSE: {myloss: .2e}; a: {a:.4f}; b: {b:.4f}\")"
      ],
      "metadata": {
        "colab": {
          "base_uri": "https://localhost:8080/"
        },
        "id": "GZ35xOAOtCfS",
        "outputId": "3be76819-af45-4253-b5c9-fd6c27e215ce"
      },
      "execution_count": null,
      "outputs": [
        {
          "output_type": "stream",
          "name": "stdout",
          "text": [
            "Epoch: 1 / 10\n",
            "MSE:  1.13e-02; a: 1.6426; b: 1.1865\n",
            "Epoch: 2 / 10\n",
            "MSE:  2.84e-03; a: 1.8208; b: 1.0935\n",
            "Epoch: 3 / 10\n",
            "MSE:  7.13e-04; a: 1.9102; b: 1.0469\n",
            "Epoch: 4 / 10\n",
            "MSE:  1.79e-04; a: 1.9550; b: 1.0235\n",
            "Epoch: 5 / 10\n",
            "MSE:  4.51e-05; a: 1.9774; b: 1.0118\n",
            "Epoch: 6 / 10\n",
            "MSE:  1.13e-05; a: 1.9887; b: 1.0059\n",
            "Epoch: 7 / 10\n",
            "MSE:  2.85e-06; a: 1.9943; b: 1.0030\n",
            "Epoch: 8 / 10\n",
            "MSE:  7.16e-07; a: 1.9972; b: 1.0015\n",
            "Epoch: 9 / 10\n",
            "MSE:  1.80e-07; a: 1.9986; b: 1.0007\n",
            "Epoch: 10 / 10\n",
            "MSE:  4.53e-08; a: 1.9993; b: 1.0004\n"
          ]
        }
      ]
    },
    {
      "cell_type": "markdown",
      "source": [
        "# Regression with ReLU neural net"
      ],
      "metadata": {
        "id": "R8Fydg4OKZEJ"
      }
    },
    {
      "cell_type": "code",
      "source": [
        "class SinData(Dataset):\n",
        "    def __init__(self, n, p = 5, sigma = 0):\n",
        "      self.n = n\n",
        "      self.x = 2 * torch.rand(n, p) - 1\n",
        "      self.x1 = self.x[:, :1]\n",
        "      self.y = torch.sin(4 * self.x1) + sigma * torch.randn(n, 1)\n",
        "\n",
        "    def __len__(self):\n",
        "        return self.n\n",
        "        \n",
        "    def __getitem__(self, idx):\n",
        "        return self.x[idx], self.y[idx]\n",
        "\n",
        "\n",
        "# initialize a training model\n",
        "train_model = nn.Sequential(\n",
        "    nn.Linear(5, 256), \n",
        "    nn.ReLU(),\n",
        "    nn.Linear(256, 128),\n",
        "    nn.ReLU(),\n",
        "    nn.Linear(128, 1)\n",
        ")\n",
        "\n",
        "# prepare TRAINING dataset and dataloaders \n",
        "train_data = SinData(n = 200, sigma = 0.2)\n",
        "train_loader = DataLoader(train_data, batch_size = 200) # simple GD\n",
        "test_data = SinData(n = 200, sigma = 0.2)\n",
        "test_loader = DataLoader(test_data, batch_size = 200) # simple GD\n",
        "\n",
        "# set up optimization with SGD\n",
        "criterion = nn.MSELoss()\n",
        "\n",
        "# WITHOUT WEIGHT DECAY\n",
        "optimizer = optim.Adam(train_model.parameters(), lr = 0.001)\n",
        "# # WITH WEIGHT DECAY\n",
        "# optimizer = optim.Adam(train_model.parameters(), lr = 0.001, weight_decay = 0.01)"
      ],
      "metadata": {
        "id": "psX71cACP7pD"
      },
      "execution_count": null,
      "outputs": []
    },
    {
      "cell_type": "code",
      "source": [
        "nepochs = 3000\n",
        "for epoch in range(nepochs):\n",
        "  for x_batch, y_batch in train_loader:\n",
        "    # build computation graph\n",
        "    yhat = train_model(x_batch)\n",
        "    myloss = criterion(y_batch, yhat)\n",
        "\n",
        "    # optimizatin\n",
        "    optimizer.zero_grad() # zero out gradient\n",
        "    myloss.backward() # back propagation\n",
        "    optimizer.step() # updata parameters\n",
        "\n",
        "  if epoch % 300 == 299:\n",
        "    # evalulate MSE on the WHOLE traning / testing dataset\n",
        "    with torch.no_grad():\n",
        "      # training MSE\n",
        "      y_hat_train = train_model(train_data.x)\n",
        "      myloss_train = criterion(y_hat_train, train_data.y)\n",
        "      # testing MSE\n",
        "      x_test, y_test = next(iter(test_loader))\n",
        "      y_test_hat = train_model(x_test)\n",
        "      myloss_test = criterion(y_test_hat, y_test)\n",
        "    print(f\"Epoch: {epoch + 1} / {nepochs}; MSE (training): {myloss_train: .2e}; MSE (testing): {myloss_test: .2e}\")\n"
      ],
      "metadata": {
        "colab": {
          "base_uri": "https://localhost:8080/"
        },
        "id": "tBF2mHMFQjk7",
        "outputId": "0b6df056-940c-4559-dd35-3a0b0ee57d03"
      },
      "execution_count": null,
      "outputs": [
        {
          "output_type": "stream",
          "name": "stdout",
          "text": [
            "Epoch: 300 / 3000; MSE (training):  5.56e-04; MSE (testing):  1.29e-01\n",
            "Epoch: 600 / 3000; MSE (training):  1.28e-04; MSE (testing):  1.31e-01\n",
            "Epoch: 900 / 3000; MSE (training):  1.24e-04; MSE (testing):  1.32e-01\n",
            "Epoch: 1200 / 3000; MSE (training):  2.13e-05; MSE (testing):  1.31e-01\n",
            "Epoch: 1500 / 3000; MSE (training):  7.06e-06; MSE (testing):  1.31e-01\n",
            "Epoch: 1800 / 3000; MSE (training):  3.62e-05; MSE (testing):  1.30e-01\n",
            "Epoch: 2100 / 3000; MSE (training):  4.02e-06; MSE (testing):  1.31e-01\n",
            "Epoch: 2400 / 3000; MSE (training):  5.81e-06; MSE (testing):  1.31e-01\n",
            "Epoch: 2700 / 3000; MSE (training):  1.00e-03; MSE (testing):  1.29e-01\n",
            "Epoch: 3000 / 3000; MSE (training):  1.32e-04; MSE (testing):  1.30e-01\n"
          ]
        }
      ]
    },
    {
      "cell_type": "code",
      "source": [
        "# fitted value\n",
        "x1_train, y_train = train_data.x1, train_data.y\n",
        "x1_test, y_test = test_data.x1, test_data.y\n",
        "with torch.no_grad():\n",
        "  y_train_hat = train_model(train_data.x)\n",
        "  y_test_hat = train_model(test_data.x)"
      ],
      "metadata": {
        "id": "TR6Yzk6qFE8f"
      },
      "execution_count": null,
      "outputs": []
    },
    {
      "cell_type": "code",
      "source": [
        "#@title Visualization of training data\n",
        "plt.rcParams['figure.figsize'] = [6, 6]\n",
        "\n",
        "plt.plot(x1_train, y_train, '.')\n",
        "plt.ylim(-1.6, 1.6)\n",
        "plt.xlabel(\"x1\")\n",
        "plt.ylabel(\"y\")\n",
        "plt.title(\"True data (n = 200)\")"
      ],
      "metadata": {
        "colab": {
          "base_uri": "https://localhost:8080/",
          "height": 421
        },
        "id": "GN2exy1qkevt",
        "outputId": "de060268-afa8-4661-f731-133d423ada6a",
        "cellView": "form"
      },
      "execution_count": null,
      "outputs": [
        {
          "output_type": "execute_result",
          "data": {
            "text/plain": [
              "Text(0.5, 1.0, 'True data (n = 200)')"
            ]
          },
          "metadata": {},
          "execution_count": 20
        },
        {
          "output_type": "display_data",
          "data": {
            "text/plain": [
              "<Figure size 432x432 with 1 Axes>"
            ],
            "image/png": "[encoded data removed]"
          },
          "metadata": {
            "needs_background": "light"
          }
        }
      ]
    },
    {
      "cell_type": "code",
      "source": [
        "#@title Visulization of fitted values on training data\n",
        "plt.rcParams['figure.figsize'] = [15, 6]\n",
        "\n",
        "plt.subplot(1, 2, 1)\n",
        "plt.plot(x1_train, y_train_hat, '.')\n",
        "plt.ylim(-1.6, 1.6)\n",
        "plt.xlabel(\"x1\")\n",
        "plt.ylabel(\"fitted y\")\n",
        "plt.title(\"Fitted data\")\n",
        "\n",
        "plt.subplot(1, 2, 2)\n",
        "plt.plot(y_train, y_train_hat, '.')\n",
        "plt.xlim(-1.6, 1.6)\n",
        "plt.ylim(-1.6, 1.6)\n",
        "plt.xlabel(\"fitted y\")\n",
        "plt.ylabel(\"true y\")\n",
        "plt.title(\"Fitted y versus true y\")"
      ],
      "metadata": {
        "colab": {
          "base_uri": "https://localhost:8080/",
          "height": 421
        },
        "id": "m4xebrTAVJiI",
        "outputId": "dbb9b253-6663-46d9-a2a6-f7048312c949",
        "cellView": "form"
      },
      "execution_count": null,
      "outputs": [
        {
          "output_type": "execute_result",
          "data": {
            "text/plain": [
              "Text(0.5, 1.0, 'Fitted y versus true y')"
            ]
          },
          "metadata": {},
          "execution_count": 21
        },
        {
          "output_type": "display_data",
          "data": {
            "text/plain": [
              "<Figure size 1080x432 with 2 Axes>"
            ],
            "image/png": "[encoded data removed]"
          },
          "metadata": {
            "needs_background": "light"
          }
        }
      ]
    },
    {
      "cell_type": "code",
      "source": [
        "#@title Visualization of fitted value on test data\n",
        "plt.rcParams['figure.figsize'] = [15, 6]\n",
        "\n",
        "plt.subplot(1, 2, 1)\n",
        "plt.plot(x1_test, y_test_hat, '.')\n",
        "plt.ylim(-1.6, 1.6)\n",
        "plt.xlabel(\"x1\")\n",
        "plt.ylabel(\"fitted y\")\n",
        "plt.title(\"Fitted test data\")\n",
        "\n",
        "plt.subplot(1, 2, 2)\n",
        "plt.plot(y_test, y_test_hat, '.')\n",
        "plt.xlim(-1.6, 1.6)\n",
        "plt.ylim(-1.6, 1.6)\n",
        "plt.xlabel(\"fitted y\")\n",
        "plt.ylabel(\"true y\")\n",
        "plt.title(\"Fitted y versus true y\")"
      ],
      "metadata": {
        "colab": {
          "base_uri": "https://localhost:8080/",
          "height": 421
        },
        "id": "ttOfeIDoX5V8",
        "outputId": "99245388-3e7b-4db9-8920-af7ddd400a64",
        "cellView": "form"
      },
      "execution_count": null,
      "outputs": [
        {
          "output_type": "execute_result",
          "data": {
            "text/plain": [
              "Text(0.5, 1.0, 'Fitted y versus true y')"
            ]
          },
          "metadata": {},
          "execution_count": 22
        },
        {
          "output_type": "display_data",
          "data": {
            "text/plain": [
              "<Figure size 1080x432 with 2 Axes>"
            ],
            "image/png": "[encoded data removed]"
          },
          "metadata": {
            "needs_background": "light"
          }
        }
      ]
    },
    {
      "cell_type": "markdown",
      "source": [
        "# Image classification with CNN"
      ],
      "metadata": {
        "id": "32bDIdqmKeOC"
      }
    },
    {
      "cell_type": "markdown",
      "source": [
        "## Check GPU availability"
      ],
      "metadata": {
        "id": "XGvogMBDK9iJ"
      }
    },
    {
      "cell_type": "code",
      "source": [
        "# check device availability\n",
        "device = torch.device(\"cuda\" if torch.cuda.is_available() else \"cpu\")\n",
        "print(device)"
      ],
      "metadata": {
        "colab": {
          "base_uri": "https://localhost:8080/"
        },
        "id": "hAUgA8wOrV2b",
        "outputId": "94f01206-2df6-4e93-c965-d52b71ae7776"
      },
      "execution_count": 8,
      "outputs": [
        {
          "output_type": "stream",
          "name": "stdout",
          "text": [
            "cuda\n"
          ]
        }
      ]
    },
    {
      "cell_type": "markdown",
      "source": [
        "## Prepare datasets and data loaders"
      ],
      "metadata": {
        "id": "TC4GzO79LCNb"
      }
    },
    {
      "cell_type": "code",
      "source": [
        "# define preprocessing transforms for images\n",
        "\n",
        "# uncomment the first two transforms to introduce data augmentation\n",
        "transform = transforms.Compose([\n",
        "    # transforms.ColorJitter(brightness = 0.05, contrast = 0.05),\n",
        "    # transforms.RandomAffine(degrees = 10, translate = (0.1,0.1), scale = (0.9, 1.1)),\n",
        "    transforms.ToTensor(),\n",
        "    transforms.Normalize((0.1307,), (0.3081,))\n",
        "])\n",
        "\n",
        "# import MNIST dataset\n",
        "train_data = datasets.MNIST('../data', train = True, download = True, transform = transform)\n",
        "test_data = datasets.MNIST('../data', train = False, transform = transform)\n",
        "\n",
        "# prepare dataset loaders\n",
        "train_loader = torch.utils.data.DataLoader(train_data, batch_size = 256, shuffle = True)\n",
        "test_loader = torch.utils.data.DataLoader(test_data, batch_size = 256)"
      ],
      "metadata": {
        "id": "2ed6fVmz457c"
      },
      "execution_count": 9,
      "outputs": []
    },
    {
      "cell_type": "markdown",
      "source": [
        "## Visualize some images"
      ],
      "metadata": {
        "id": "nVJVdXLLLGdL"
      }
    },
    {
      "cell_type": "code",
      "source": [
        "#@title Visualize some digits\n",
        "examples = enumerate(test_loader)\n",
        "batch_idx, (example_data, example_targets) = next(examples)\n",
        "print(example_data.shape)\n",
        "\n",
        "plt.rcParams['figure.figsize'] = [9, 6]\n",
        "fig = plt.figure()\n",
        "for i in range(6):\n",
        "  plt.subplot(2,3,i+1)\n",
        "  plt.imshow(example_data[i][0], cmap='gray', interpolation='none')\n",
        "  plt.title(\"Ground Truth: {}\".format(example_targets[i]))\n",
        "  plt.xticks([])\n",
        "  plt.yticks([])"
      ],
      "metadata": {
        "colab": {
          "base_uri": "https://localhost:8080/",
          "height": 393
        },
        "id": "TtIIT-DYyTMv",
        "outputId": "8bcbf8dd-f3d4-45f8-e971-5f352c3c0a92",
        "cellView": "form"
      },
      "execution_count": 10,
      "outputs": [
        {
          "output_type": "stream",
          "name": "stdout",
          "text": [
            "torch.Size([256, 1, 28, 28])\n"
          ]
        },
        {
          "output_type": "display_data",
          "data": {
            "text/plain": [
              "<Figure size 648x432 with 6 Axes>"
            ],
            "image/png": "[encoded data removed]"
          },
          "metadata": {}
        }
      ]
    },
    {
      "cell_type": "markdown",
      "source": [
        "## Define CNN structure and some utils functions"
      ],
      "metadata": {
        "id": "mkpii3MBLKOA"
      }
    },
    {
      "cell_type": "code",
      "source": [
        "# our CNN network structure, initialize the CNN model\n",
        "class myCNN(nn.Module):\n",
        "    def __init__(self):\n",
        "        super(myCNN, self).__init__()\n",
        "        self.model = nn.Sequential(\n",
        "            nn.Conv2d(1, 32, 3, 1),\n",
        "            nn.ReLU(),\n",
        "            nn.Conv2d(32, 64, 3, 1),\n",
        "            nn.ReLU(),\n",
        "            nn.MaxPool2d(2),\n",
        "            nn.Dropout(0.25),\n",
        "            nn.Flatten(),\n",
        "            nn.Linear(9216, 128),\n",
        "            nn.ReLU(),\n",
        "            nn.Dropout(0.25),\n",
        "            nn.Linear(128, 10),\n",
        "            nn.LogSoftmax(dim = 1)\n",
        "        )\n",
        "        \n",
        "    def forward(self, x):\n",
        "        return self.model(x)\n",
        "\n",
        "# a utils function for training\n",
        "def train(model, device, train_loader, optimizer, epoch):\n",
        "    model.train() # enable dropout\n",
        "    correct = 0\n",
        "    for batch_idx, (data, target) in enumerate(train_loader):\n",
        "        # transfer batches of data to specified device\n",
        "        data, target = data.to(device), target.to(device)\n",
        "\n",
        "        # build computation graph\n",
        "        output = model(data)\n",
        "        loss = F.nll_loss(output, target)\n",
        "\n",
        "        # the optimization part\n",
        "        optimizer.zero_grad()\n",
        "        loss.backward()\n",
        "        optimizer.step()\n",
        "\n",
        "        # count the corrected classified cases\n",
        "        pred = output.argmax(dim = 1, keepdim = True)  # get the index of the max log-probability\n",
        "        correct += pred.eq(target.view_as(pred)).sum().item()\n",
        "\n",
        "    print(f\"Epoch {epoch + 1}:\", end = \"\")\n",
        "    print(f\" Training accuracy: {100. * correct / len(train_loader.dataset): .2f} %\", end = \";\")\n",
        "\n",
        "# a utils function for evaluation on test dataset\n",
        "def test(model, device, test_loader):\n",
        "    model.eval() # disable dropout\n",
        "    test_loss = 0\n",
        "    correct = 0\n",
        "    with torch.no_grad():\n",
        "        for data, target in test_loader:\n",
        "            data, target = data.to(device), target.to(device)\n",
        "            output = model(data)\n",
        "            test_loss += F.nll_loss(output, target, reduction='sum').item()  # sum up batch loss\n",
        "            pred = output.argmax(dim=1, keepdim=True)  # get the index of the max log-probability\n",
        "            correct += pred.eq(target.view_as(pred)).sum().item()\n",
        "\n",
        "    test_loss /= len(test_loader.dataset)\n",
        "\n",
        "    print(' Testing accuracy: {}/{} ({:.0f}%)'.format(\n",
        "        correct, len(test_loader.dataset),\n",
        "        100. * correct / len(test_loader.dataset)))\n"
      ],
      "metadata": {
        "id": "iqLrjqPzrUgb"
      },
      "execution_count": 11,
      "outputs": []
    },
    {
      "cell_type": "markdown",
      "source": [
        "## Train CNN"
      ],
      "metadata": {
        "id": "QgwDZcPRLOgq"
      }
    },
    {
      "cell_type": "code",
      "source": [
        "device"
      ],
      "metadata": {
        "colab": {
          "base_uri": "https://localhost:8080/"
        },
        "id": "Lx24mSf_XvG1",
        "outputId": "a14f52b1-5d33-4b10-9166-0b85cd2eefef"
      },
      "execution_count": 12,
      "outputs": [
        {
          "output_type": "execute_result",
          "data": {
            "text/plain": [
              "device(type='cuda')"
            ]
          },
          "metadata": {},
          "execution_count": 12
        }
      ]
    },
    {
      "cell_type": "code",
      "source": [
        "# the training\n",
        "model = myCNN() # initialize our model\n",
        "model = model.to(device)\n",
        "optimizer = optim.Adam(model.parameters(), lr = 0.005)\n",
        "\n",
        "nepochs = 10\n",
        "for epoch in range(nepochs):\n",
        "  train(model, device, train_loader, optimizer, epoch)\n",
        "  test(model, device, test_loader)"
      ],
      "metadata": {
        "colab": {
          "base_uri": "https://localhost:8080/"
        },
        "id": "3dVJzkQisV11",
        "outputId": "aafbfb6b-914e-42ac-b378-54eea860e312"
      },
      "execution_count": 13,
      "outputs": [
        {
          "output_type": "stream",
          "name": "stdout",
          "text": [
            "Epoch 1: Training accuracy:  93.75 %; Testing accuracy: 9847/10000 (98%)\n",
            "Epoch 2: Training accuracy:  97.94 %; Testing accuracy: 9856/10000 (99%)\n",
            "Epoch 3: Training accuracy:  98.33 %; Testing accuracy: 9891/10000 (99%)\n",
            "Epoch 4: Training accuracy:  98.72 %; Testing accuracy: 9883/10000 (99%)\n",
            "Epoch 5: Training accuracy:  98.74 %; Testing accuracy: 9890/10000 (99%)\n",
            "Epoch 6: Training accuracy:  98.85 %; Testing accuracy: 9888/10000 (99%)\n",
            "Epoch 7: Training accuracy:  98.88 %; Testing accuracy: 9879/10000 (99%)\n",
            "Epoch 8: Training accuracy:  99.07 %; Testing accuracy: 9906/10000 (99%)\n",
            "Epoch 9: Training accuracy:  99.14 %; Testing accuracy: 9909/10000 (99%)\n",
            "Epoch 10: Training accuracy:  99.24 %; Testing accuracy: 9893/10000 (99%)\n"
          ]
        }
      ]
    },
    {
      "cell_type": "markdown",
      "source": [
        "## Evaluate CNN on digit images (written and taken from iPad, not from MNIST test dataset)"
      ],
      "metadata": {
        "id": "AQCkMYgPm4FR"
      }
    },
    {
      "cell_type": "markdown",
      "source": [
        "MAKE SURE you have already downloaded the `test.pkl` file from https://github.umn.edu/liu00980/STAT8056_intro_pytorch. Also, MAKE SURE you have uploaded it in Colab's current working directory."
      ],
      "metadata": {
        "id": "riQfF_Y7_vNZ"
      }
    },
    {
      "cell_type": "code",
      "source": [
        "#@title Visualization of self-written digits\n",
        "\n",
        "import pickle\n",
        "testdata = pickle.load(open(\"test.pkl\", \"rb\"))\n",
        "\n",
        "# digit images (written by myself and taken from my iPad)\n",
        "# (cont.) will be served as an additional test dataset to evaluate the CNN\n",
        "plt.rcParams['figure.figsize'] = [12, 6]\n",
        "for i in range(10):\n",
        "  plt.subplot(2,5,i + 1)\n",
        "  plt.imshow(testdata[i][0][0], cmap='gray', interpolation='none')\n",
        "  plt.title(\"Label: {}\".format(testdata[i][1].item()))\n",
        "  plt.xticks([])\n",
        "  plt.yticks([])"
      ],
      "metadata": {
        "colab": {
          "base_uri": "https://localhost:8080/",
          "height": 344
        },
        "id": "0AkUYkionF9T",
        "outputId": "df32c2cb-3690-4d48-c70d-05350723fe4b",
        "cellView": "form"
      },
      "execution_count": 15,
      "outputs": [
        {
          "output_type": "display_data",
          "data": {
            "text/plain": [
              "<Figure size 864x432 with 10 Axes>"
            ],
            "image/png": "[encoded data removed]"
          },
          "metadata": {}
        }
      ]
    },
    {
      "cell_type": "code",
      "source": [
        "# prepare dataset and dataloader for this test dataset\n",
        "class myMNIST(Dataset):\n",
        "    def __init__(self, dataset):\n",
        "      self.sample_size = len(dataset)\n",
        "      self.dataset = dataset\n",
        "    \n",
        "    def __len__(self):\n",
        "        return self.sample_size\n",
        "        \n",
        "    def __getitem__(self, idx):\n",
        "        return self.dataset[idx][0], self.dataset[idx][1]\n",
        "\n",
        "mytestdataset = myMNIST(testdata)\n",
        "mytestloader = DataLoader(mytestdataset, batch_size = 10)\n",
        "\n",
        "# prediction\n",
        "with torch.no_grad():\n",
        "  data, target = next(iter(mytestloader))\n",
        "  data, target = data.to(device), target.to(device)\n",
        "  output = model(data)\n",
        "  pred = output.argmax(dim=1, keepdim = True)  # get the index of the max log-probability"
      ],
      "metadata": {
        "id": "jbXNe-nDlg6q"
      },
      "execution_count": 16,
      "outputs": []
    },
    {
      "cell_type": "code",
      "source": [
        "#@title Visualize the prediction result\n",
        "plt.rcParams['figure.figsize'] = [12, 6]\n",
        "for i in range(10):\n",
        "  plt.subplot(2,5,i + 1)\n",
        "  plt.imshow(testdata[i][0][0], cmap='gray', interpolation='none')\n",
        "  plt.title(\"Truth: {}; Pred: {}\".format(testdata[i][1].item(), pred[i][0]))\n",
        "  plt.xticks([])\n",
        "  plt.yticks([])\n",
        "\n",
        "print(f\"Test accuracy on my own test images: {pred.eq(target.view_as(pred)).sum().item() / 10}\")"
      ],
      "metadata": {
        "colab": {
          "base_uri": "https://localhost:8080/",
          "height": 361
        },
        "id": "HNj1M07JmIlp",
        "outputId": "2d284dae-c4cc-498d-b127-22665aab4626",
        "cellView": "form"
      },
      "execution_count": 17,
      "outputs": [
        {
          "output_type": "stream",
          "name": "stdout",
          "text": [
            "Test accuracy on my own test images: 0.8\n"
          ]
        },
        {
          "output_type": "display_data",
          "data": {
            "text/plain": [
              "<Figure size 864x432 with 10 Axes>"
            ],
            "image/png": "[encoded data removed]"
          },
          "metadata": {}
        }
      ]
    },
    {
      "cell_type": "markdown",
      "source": [
        "## Model summary using pytorch-model-summary"
      ],
      "metadata": {
        "id": "qhKbBVOZK5PR"
      }
    },
    {
      "cell_type": "code",
      "source": [
        "# model summary\n",
        "! pip install pytorch-model-summary\n",
        "from pytorch_model_summary import summary\n",
        "print(summary(model.cpu(), torch.zeros((1, 1, 28, 28)), show_input=True))"
      ],
      "metadata": {
        "colab": {
          "base_uri": "https://localhost:8080/"
        },
        "id": "gMMTwgwg3l1T",
        "outputId": "c1fb2e46-bfc8-4bda-e56f-ac2a76c5506e"
      },
      "execution_count": null,
      "outputs": [
        {
          "output_type": "stream",
          "name": "stdout",
          "text": [
            "Looking in indexes: https://pypi.org/simple, https://us-python.pkg.dev/colab-wheels/public/simple/\n",
            "Collecting pytorch-model-summary\n",
            "  Downloading pytorch_model_summary-0.1.2-py3-none-any.whl (9.3 kB)\n",
            "Requirement already satisfied: tqdm in /usr/local/lib/python3.8/dist-packages (from pytorch-model-summary) (4.64.1)\n",
            "Requirement already satisfied: torch in /usr/local/lib/python3.8/dist-packages (from pytorch-model-summary) (1.13.1+cu116)\n",
            "Requirement already satisfied: numpy in /usr/local/lib/python3.8/dist-packages (from pytorch-model-summary) (1.22.4)\n",
            "Requirement already satisfied: typing-extensions in /usr/local/lib/python3.8/dist-packages (from torch->pytorch-model-summary) (4.5.0)\n",
            "Installing collected packages: pytorch-model-summary\n",
            "Successfully installed pytorch-model-summary-0.1.2\n",
            "-----------------------------------------------------------------------\n",
            "      Layer (type)         Input Shape         Param #     Tr. Param #\n",
            "=======================================================================\n",
            "          Conv2d-1      [1, 1, 28, 28]             320             320\n",
            "            ReLU-2     [1, 32, 26, 26]               0               0\n",
            "          Conv2d-3     [1, 32, 26, 26]          18,496          18,496\n",
            "            ReLU-4     [1, 64, 24, 24]               0               0\n",
            "       MaxPool2d-5     [1, 64, 24, 24]               0               0\n",
            "         Dropout-6     [1, 64, 12, 12]               0               0\n",
            "         Flatten-7     [1, 64, 12, 12]               0               0\n",
            "          Linear-8           [1, 9216]       1,179,776       1,179,776\n",
            "            ReLU-9            [1, 128]               0               0\n",
            "        Dropout-10            [1, 128]               0               0\n",
            "         Linear-11            [1, 128]           1,290           1,290\n",
            "     LogSoftmax-12             [1, 10]               0               0\n",
            "=======================================================================\n",
            "Total params: 1,199,882\n",
            "Trainable params: 1,199,882\n",
            "Non-trainable params: 0\n",
            "-----------------------------------------------------------------------\n"
          ]
        }
      ]
    },
    {
      "cell_type": "markdown",
      "source": [
        "## Save models"
      ],
      "metadata": {
        "id": "ipQEn8QsKsDZ"
      }
    },
    {
      "cell_type": "markdown",
      "source": [
        "### The state dictionary method"
      ],
      "metadata": {
        "id": "cmuKn3gXKvsR"
      }
    },
    {
      "cell_type": "code",
      "source": [
        "# save parameter values\n",
        "torch.save(model.state_dict(), \"model_dict.pt\")\n",
        "\n",
        "# When one wants to use saved model next time:\n",
        "# 1. initialize the same CNN model\n",
        "model_new = myCNN()\n",
        "# 2. load parameter values\n",
        "model_new.load_state_dict(torch.load(\"model_dict.pt\"))\n",
        "model_new.eval()"
      ],
      "metadata": {
        "colab": {
          "base_uri": "https://localhost:8080/"
        },
        "id": "BgCAjkCTA0mK",
        "outputId": "d6de625a-1b16-4e70-b9b5-0f499acf2f53"
      },
      "execution_count": 18,
      "outputs": [
        {
          "output_type": "execute_result",
          "data": {
            "text/plain": [
              "myCNN(\n",
              "  (model): Sequential(\n",
              "    (0): Conv2d(1, 32, kernel_size=(3, 3), stride=(1, 1))\n",
              "    (1): ReLU()\n",
              "    (2): Conv2d(32, 64, kernel_size=(3, 3), stride=(1, 1))\n",
              "    (3): ReLU()\n",
              "    (4): MaxPool2d(kernel_size=2, stride=2, padding=0, dilation=1, ceil_mode=False)\n",
              "    (5): Dropout(p=0.25, inplace=False)\n",
              "    (6): Flatten(start_dim=1, end_dim=-1)\n",
              "    (7): Linear(in_features=9216, out_features=128, bias=True)\n",
              "    (8): ReLU()\n",
              "    (9): Dropout(p=0.25, inplace=False)\n",
              "    (10): Linear(in_features=128, out_features=10, bias=True)\n",
              "    (11): LogSoftmax(dim=1)\n",
              "  )\n",
              ")"
            ]
          },
          "metadata": {},
          "execution_count": 18
        }
      ]
    },
    {
      "cell_type": "markdown",
      "source": [
        "### The checkpoint method"
      ],
      "metadata": {
        "id": "JLtaIIg8KybB"
      }
    },
    {
      "cell_type": "code",
      "source": [
        "# save checkpoint for resuming training\n",
        "torch.save({\n",
        "            'epoch': epoch,\n",
        "            'model_state_dict': model.state_dict(),\n",
        "            'optimizer_state_dict': optimizer.state_dict()\n",
        "            }, \"model_checkpoint.pt\")\n",
        "\n",
        "# When one wants to use saved model next time:\n",
        "# 1. initialize class and optimizer\n",
        "model_new = myCNN()\n",
        "optimizer_new = optim.Adam(model_new.parameters(), lr = 0.005)\n",
        "# 2. load checkpoints for both model and optimizer\n",
        "checkpoint = torch.load(\"model_checkpoint.pt\")\n",
        "model_new.load_state_dict(checkpoint['model_state_dict'])\n",
        "optimizer_new.load_state_dict(checkpoint['optimizer_state_dict'])\n",
        "epoch = checkpoint['epoch']\n",
        "# 3. do whatever you like :)\n",
        "# - either - evaluate the mode and do some inference\n",
        "model_new.eval()\n",
        "# - or - resume training from your last checkpoint\n",
        "model_new.train()"
      ],
      "metadata": {
        "colab": {
          "base_uri": "https://localhost:8080/"
        },
        "id": "xtObwHkxA6KR",
        "outputId": "df322b5f-ea72-431e-d0de-e2583789bf98"
      },
      "execution_count": 22,
      "outputs": [
        {
          "output_type": "execute_result",
          "data": {
            "text/plain": [
              "myCNN(\n",
              "  (model): Sequential(\n",
              "    (0): Conv2d(1, 32, kernel_size=(3, 3), stride=(1, 1))\n",
              "    (1): ReLU()\n",
              "    (2): Conv2d(32, 64, kernel_size=(3, 3), stride=(1, 1))\n",
              "    (3): ReLU()\n",
              "    (4): MaxPool2d(kernel_size=2, stride=2, padding=0, dilation=1, ceil_mode=False)\n",
              "    (5): Dropout(p=0.25, inplace=False)\n",
              "    (6): Flatten(start_dim=1, end_dim=-1)\n",
              "    (7): Linear(in_features=9216, out_features=128, bias=True)\n",
              "    (8): ReLU()\n",
              "    (9): Dropout(p=0.25, inplace=False)\n",
              "    (10): Linear(in_features=128, out_features=10, bias=True)\n",
              "    (11): LogSoftmax(dim=1)\n",
              "  )\n",
              ")"
            ]
          },
          "metadata": {},
          "execution_count": 22
        }
      ]
    },
    {
      "cell_type": "code",
      "source": [
        "print(optimizer.state_dict()['param_groups'][0].keys())\n",
        "print(optimizer.state_dict()['state'][0].keys())"
      ],
      "metadata": {
        "colab": {
          "base_uri": "https://localhost:8080/"
        },
        "id": "kj8s2dnFXyBc",
        "outputId": "c18f775b-38a1-4be5-fbbb-0c938905e733"
      },
      "execution_count": 38,
      "outputs": [
        {
          "output_type": "stream",
          "name": "stdout",
          "text": [
            "dict_keys(['lr', 'betas', 'eps', 'weight_decay', 'amsgrad', 'maximize', 'foreach', 'capturable', 'differentiable', 'fused', 'params'])\n",
            "dict_keys(['step', 'exp_avg', 'exp_avg_sq'])\n"
          ]
        }
      ]
    }
  ]
}