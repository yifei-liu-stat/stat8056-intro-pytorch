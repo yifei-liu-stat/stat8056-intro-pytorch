{
  "nbformat": 4,
  "nbformat_minor": 0,
  "metadata": {
    "colab": {
      "provenance": [],
      "toc_visible": true
    },
    "kernelspec": {
      "name": "python3",
      "display_name": "Python 3"
    },
    "language_info": {
      "name": "python"
    },
    "accelerator": "GPU",
    "gpuClass": "standard",
    "widgets": {
      "application/vnd.jupyter.widget-state+json": {
        "4d5b2b7e350e41e68b82fefa42db1e86": {
          "model_module": "@jupyter-widgets/controls",
          "model_name": "HBoxModel",
          "model_module_version": "1.5.0",
          "state": {
            "_dom_classes": [],
            "_model_module": "@jupyter-widgets/controls",
            "_model_module_version": "1.5.0",
            "_model_name": "HBoxModel",
            "_view_count": null,
            "_view_module": "@jupyter-widgets/controls",
            "_view_module_version": "1.5.0",
            "_view_name": "HBoxView",
            "box_style": "",
            "children": [
              "IPY_MODEL_64302fdcd4864bbbb4602e46ba5d206a",
              "IPY_MODEL_f5f52f4333bd49318f88a09e388740ca",
              "IPY_MODEL_c84ec43b12ed4e5ab51be1e97c63494c"
            ],
            "layout": "IPY_MODEL_687ce2c9fa7c4e8999ff78f231e91277"
          }
        },
        "64302fdcd4864bbbb4602e46ba5d206a": {
          "model_module": "@jupyter-widgets/controls",
          "model_name": "HTMLModel",
          "model_module_version": "1.5.0",
          "state": {
            "_dom_classes": [],
            "_model_module": "@jupyter-widgets/controls",
            "_model_module_version": "1.5.0",
            "_model_name": "HTMLModel",
            "_view_count": null,
            "_view_module": "@jupyter-widgets/controls",
            "_view_module_version": "1.5.0",
            "_view_name": "HTMLView",
            "description": "",
            "description_tooltip": null,
            "layout": "IPY_MODEL_aa19a4fb88914073b4b24da22c1505ce",
            "placeholder": "​",
            "style": "IPY_MODEL_2292b40f4d144559bd4210617fb3661c",
            "value": "100%"
          }
        },
        "f5f52f4333bd49318f88a09e388740ca": {
          "model_module": "@jupyter-widgets/controls",
          "model_name": "FloatProgressModel",
          "model_module_version": "1.5.0",
          "state": {
            "_dom_classes": [],
            "_model_module": "@jupyter-widgets/controls",
            "_model_module_version": "1.5.0",
            "_model_name": "FloatProgressModel",
            "_view_count": null,
            "_view_module": "@jupyter-widgets/controls",
            "_view_module_version": "1.5.0",
            "_view_name": "ProgressView",
            "bar_style": "success",
            "description": "",
            "description_tooltip": null,
            "layout": "IPY_MODEL_aa5403bfb5b4436d8440d5cf46068248",
            "max": 9912422,
            "min": 0,
            "orientation": "horizontal",
            "style": "IPY_MODEL_47abab098c5d41d0918ed4f3edd9bc2d",
            "value": 9912422
          }
        },
        "c84ec43b12ed4e5ab51be1e97c63494c": {
          "model_module": "@jupyter-widgets/controls",
          "model_name": "HTMLModel",
          "model_module_version": "1.5.0",
          "state": {
            "_dom_classes": [],
            "_model_module": "@jupyter-widgets/controls",
            "_model_module_version": "1.5.0",
            "_model_name": "HTMLModel",
            "_view_count": null,
            "_view_module": "@jupyter-widgets/controls",
            "_view_module_version": "1.5.0",
            "_view_name": "HTMLView",
            "description": "",
            "description_tooltip": null,
            "layout": "IPY_MODEL_547a33c4500e40149df2b80700fa3e77",
            "placeholder": "​",
            "style": "IPY_MODEL_36f7cb188daf4fac8268fb7da9eb03ed",
            "value": " 9912422/9912422 [00:00&lt;00:00, 154541035.82it/s]"
          }
        },
        "687ce2c9fa7c4e8999ff78f231e91277": {
          "model_module": "@jupyter-widgets/base",
          "model_name": "LayoutModel",
          "model_module_version": "1.2.0",
          "state": {
            "_model_module": "@jupyter-widgets/base",
            "_model_module_version": "1.2.0",
            "_model_name": "LayoutModel",
            "_view_count": null,
            "_view_module": "@jupyter-widgets/base",
            "_view_module_version": "1.2.0",
            "_view_name": "LayoutView",
            "align_content": null,
            "align_items": null,
            "align_self": null,
            "border": null,
            "bottom": null,
            "display": null,
            "flex": null,
            "flex_flow": null,
            "grid_area": null,
            "grid_auto_columns": null,
            "grid_auto_flow": null,
            "grid_auto_rows": null,
            "grid_column": null,
            "grid_gap": null,
            "grid_row": null,
            "grid_template_areas": null,
            "grid_template_columns": null,
            "grid_template_rows": null,
            "height": null,
            "justify_content": null,
            "justify_items": null,
            "left": null,
            "margin": null,
            "max_height": null,
            "max_width": null,
            "min_height": null,
            "min_width": null,
            "object_fit": null,
            "object_position": null,
            "order": null,
            "overflow": null,
            "overflow_x": null,
            "overflow_y": null,
            "padding": null,
            "right": null,
            "top": null,
            "visibility": null,
            "width": null
          }
        },
        "aa19a4fb88914073b4b24da22c1505ce": {
          "model_module": "@jupyter-widgets/base",
          "model_name": "LayoutModel",
          "model_module_version": "1.2.0",
          "state": {
            "_model_module": "@jupyter-widgets/base",
            "_model_module_version": "1.2.0",
            "_model_name": "LayoutModel",
            "_view_count": null,
            "_view_module": "@jupyter-widgets/base",
            "_view_module_version": "1.2.0",
            "_view_name": "LayoutView",
            "align_content": null,
            "align_items": null,
            "align_self": null,
            "border": null,
            "bottom": null,
            "display": null,
            "flex": null,
            "flex_flow": null,
            "grid_area": null,
            "grid_auto_columns": null,
            "grid_auto_flow": null,
            "grid_auto_rows": null,
            "grid_column": null,
            "grid_gap": null,
            "grid_row": null,
            "grid_template_areas": null,
            "grid_template_columns": null,
            "grid_template_rows": null,
            "height": null,
            "justify_content": null,
            "justify_items": null,
            "left": null,
            "margin": null,
            "max_height": null,
            "max_width": null,
            "min_height": null,
            "min_width": null,
            "object_fit": null,
            "object_position": null,
            "order": null,
            "overflow": null,
            "overflow_x": null,
            "overflow_y": null,
            "padding": null,
            "right": null,
            "top": null,
            "visibility": null,
            "width": null
          }
        },
        "2292b40f4d144559bd4210617fb3661c": {
          "model_module": "@jupyter-widgets/controls",
          "model_name": "DescriptionStyleModel",
          "model_module_version": "1.5.0",
          "state": {
            "_model_module": "@jupyter-widgets/controls",
            "_model_module_version": "1.5.0",
            "_model_name": "DescriptionStyleModel",
            "_view_count": null,
            "_view_module": "@jupyter-widgets/base",
            "_view_module_version": "1.2.0",
            "_view_name": "StyleView",
            "description_width": ""
          }
        },
        "aa5403bfb5b4436d8440d5cf46068248": {
          "model_module": "@jupyter-widgets/base",
          "model_name": "LayoutModel",
          "model_module_version": "1.2.0",
          "state": {
            "_model_module": "@jupyter-widgets/base",
            "_model_module_version": "1.2.0",
            "_model_name": "LayoutModel",
            "_view_count": null,
            "_view_module": "@jupyter-widgets/base",
            "_view_module_version": "1.2.0",
            "_view_name": "LayoutView",
            "align_content": null,
            "align_items": null,
            "align_self": null,
            "border": null,
            "bottom": null,
            "display": null,
            "flex": null,
            "flex_flow": null,
            "grid_area": null,
            "grid_auto_columns": null,
            "grid_auto_flow": null,
            "grid_auto_rows": null,
            "grid_column": null,
            "grid_gap": null,
            "grid_row": null,
            "grid_template_areas": null,
            "grid_template_columns": null,
            "grid_template_rows": null,
            "height": null,
            "justify_content": null,
            "justify_items": null,
            "left": null,
            "margin": null,
            "max_height": null,
            "max_width": null,
            "min_height": null,
            "min_width": null,
            "object_fit": null,
            "object_position": null,
            "order": null,
            "overflow": null,
            "overflow_x": null,
            "overflow_y": null,
            "padding": null,
            "right": null,
            "top": null,
            "visibility": null,
            "width": null
          }
        },
        "47abab098c5d41d0918ed4f3edd9bc2d": {
          "model_module": "@jupyter-widgets/controls",
          "model_name": "ProgressStyleModel",
          "model_module_version": "1.5.0",
          "state": {
            "_model_module": "@jupyter-widgets/controls",
            "_model_module_version": "1.5.0",
            "_model_name": "ProgressStyleModel",
            "_view_count": null,
            "_view_module": "@jupyter-widgets/base",
            "_view_module_version": "1.2.0",
            "_view_name": "StyleView",
            "bar_color": null,
            "description_width": ""
          }
        },
        "547a33c4500e40149df2b80700fa3e77": {
          "model_module": "@jupyter-widgets/base",
          "model_name": "LayoutModel",
          "model_module_version": "1.2.0",
          "state": {
            "_model_module": "@jupyter-widgets/base",
            "_model_module_version": "1.2.0",
            "_model_name": "LayoutModel",
            "_view_count": null,
            "_view_module": "@jupyter-widgets/base",
            "_view_module_version": "1.2.0",
            "_view_name": "LayoutView",
            "align_content": null,
            "align_items": null,
            "align_self": null,
            "border": null,
            "bottom": null,
            "display": null,
            "flex": null,
            "flex_flow": null,
            "grid_area": null,
            "grid_auto_columns": null,
            "grid_auto_flow": null,
            "grid_auto_rows": null,
            "grid_column": null,
            "grid_gap": null,
            "grid_row": null,
            "grid_template_areas": null,
            "grid_template_columns": null,
            "grid_template_rows": null,
            "height": null,
            "justify_content": null,
            "justify_items": null,
            "left": null,
            "margin": null,
            "max_height": null,
            "max_width": null,
            "min_height": null,
            "min_width": null,
            "object_fit": null,
            "object_position": null,
            "order": null,
            "overflow": null,
            "overflow_x": null,
            "overflow_y": null,
            "padding": null,
            "right": null,
            "top": null,
            "visibility": null,
            "width": null
          }
        },
        "36f7cb188daf4fac8268fb7da9eb03ed": {
          "model_module": "@jupyter-widgets/controls",
          "model_name": "DescriptionStyleModel",
          "model_module_version": "1.5.0",
          "state": {
            "_model_module": "@jupyter-widgets/controls",
            "_model_module_version": "1.5.0",
            "_model_name": "DescriptionStyleModel",
            "_view_count": null,
            "_view_module": "@jupyter-widgets/base",
            "_view_module_version": "1.2.0",
            "_view_name": "StyleView",
            "description_width": ""
          }
        },
        "54e774d762b24ca9a7cb280fd87b5258": {
          "model_module": "@jupyter-widgets/controls",
          "model_name": "HBoxModel",
          "model_module_version": "1.5.0",
          "state": {
            "_dom_classes": [],
            "_model_module": "@jupyter-widgets/controls",
            "_model_module_version": "1.5.0",
            "_model_name": "HBoxModel",
            "_view_count": null,
            "_view_module": "@jupyter-widgets/controls",
            "_view_module_version": "1.5.0",
            "_view_name": "HBoxView",
            "box_style": "",
            "children": [
              "IPY_MODEL_dcd9fa23f51a4ecd8fd5f09de6077c35",
              "IPY_MODEL_a5d4e7bdf70e4f3b934777968547b012",
              "IPY_MODEL_a01d3518018446428e1ec4d8a08c185a"
            ],
            "layout": "IPY_MODEL_e0fd279c925c4a0ab266f5c04e9bec84"
          }
        },
        "dcd9fa23f51a4ecd8fd5f09de6077c35": {
          "model_module": "@jupyter-widgets/controls",
          "model_name": "HTMLModel",
          "model_module_version": "1.5.0",
          "state": {
            "_dom_classes": [],
            "_model_module": "@jupyter-widgets/controls",
            "_model_module_version": "1.5.0",
            "_model_name": "HTMLModel",
            "_view_count": null,
            "_view_module": "@jupyter-widgets/controls",
            "_view_module_version": "1.5.0",
            "_view_name": "HTMLView",
            "description": "",
            "description_tooltip": null,
            "layout": "IPY_MODEL_05342af788b54a1d907e0230432c7e4a",
            "placeholder": "​",
            "style": "IPY_MODEL_7a04b534886841f98071144583f6161d",
            "value": "100%"
          }
        },
        "a5d4e7bdf70e4f3b934777968547b012": {
          "model_module": "@jupyter-widgets/controls",
          "model_name": "FloatProgressModel",
          "model_module_version": "1.5.0",
          "state": {
            "_dom_classes": [],
            "_model_module": "@jupyter-widgets/controls",
            "_model_module_version": "1.5.0",
            "_model_name": "FloatProgressModel",
            "_view_count": null,
            "_view_module": "@jupyter-widgets/controls",
            "_view_module_version": "1.5.0",
            "_view_name": "ProgressView",
            "bar_style": "success",
            "description": "",
            "description_tooltip": null,
            "layout": "IPY_MODEL_86f03f0305ca4d90aad9c7116dc1c367",
            "max": 28881,
            "min": 0,
            "orientation": "horizontal",
            "style": "IPY_MODEL_a27b6438ccc243c1a5a3118a1afeed7f",
            "value": 28881
          }
        },
        "a01d3518018446428e1ec4d8a08c185a": {
          "model_module": "@jupyter-widgets/controls",
          "model_name": "HTMLModel",
          "model_module_version": "1.5.0",
          "state": {
            "_dom_classes": [],
            "_model_module": "@jupyter-widgets/controls",
            "_model_module_version": "1.5.0",
            "_model_name": "HTMLModel",
            "_view_count": null,
            "_view_module": "@jupyter-widgets/controls",
            "_view_module_version": "1.5.0",
            "_view_name": "HTMLView",
            "description": "",
            "description_tooltip": null,
            "layout": "IPY_MODEL_b715e5c63b1b45e69aee818870a01dbe",
            "placeholder": "​",
            "style": "IPY_MODEL_c385973a35a24912a3fb0a867988269f",
            "value": " 28881/28881 [00:00&lt;00:00, 2019466.75it/s]"
          }
        },
        "e0fd279c925c4a0ab266f5c04e9bec84": {
          "model_module": "@jupyter-widgets/base",
          "model_name": "LayoutModel",
          "model_module_version": "1.2.0",
          "state": {
            "_model_module": "@jupyter-widgets/base",
            "_model_module_version": "1.2.0",
            "_model_name": "LayoutModel",
            "_view_count": null,
            "_view_module": "@jupyter-widgets/base",
            "_view_module_version": "1.2.0",
            "_view_name": "LayoutView",
            "align_content": null,
            "align_items": null,
            "align_self": null,
            "border": null,
            "bottom": null,
            "display": null,
            "flex": null,
            "flex_flow": null,
            "grid_area": null,
            "grid_auto_columns": null,
            "grid_auto_flow": null,
            "grid_auto_rows": null,
            "grid_column": null,
            "grid_gap": null,
            "grid_row": null,
            "grid_template_areas": null,
            "grid_template_columns": null,
            "grid_template_rows": null,
            "height": null,
            "justify_content": null,
            "justify_items": null,
            "left": null,
            "margin": null,
            "max_height": null,
            "max_width": null,
            "min_height": null,
            "min_width": null,
            "object_fit": null,
            "object_position": null,
            "order": null,
            "overflow": null,
            "overflow_x": null,
            "overflow_y": null,
            "padding": null,
            "right": null,
            "top": null,
            "visibility": null,
            "width": null
          }
        },
        "05342af788b54a1d907e0230432c7e4a": {
          "model_module": "@jupyter-widgets/base",
          "model_name": "LayoutModel",
          "model_module_version": "1.2.0",
          "state": {
            "_model_module": "@jupyter-widgets/base",
            "_model_module_version": "1.2.0",
            "_model_name": "LayoutModel",
            "_view_count": null,
            "_view_module": "@jupyter-widgets/base",
            "_view_module_version": "1.2.0",
            "_view_name": "LayoutView",
            "align_content": null,
            "align_items": null,
            "align_self": null,
            "border": null,
            "bottom": null,
            "display": null,
            "flex": null,
            "flex_flow": null,
            "grid_area": null,
            "grid_auto_columns": null,
            "grid_auto_flow": null,
            "grid_auto_rows": null,
            "grid_column": null,
            "grid_gap": null,
            "grid_row": null,
            "grid_template_areas": null,
            "grid_template_columns": null,
            "grid_template_rows": null,
            "height": null,
            "justify_content": null,
            "justify_items": null,
            "left": null,
            "margin": null,
            "max_height": null,
            "max_width": null,
            "min_height": null,
            "min_width": null,
            "object_fit": null,
            "object_position": null,
            "order": null,
            "overflow": null,
            "overflow_x": null,
            "overflow_y": null,
            "padding": null,
            "right": null,
            "top": null,
            "visibility": null,
            "width": null
          }
        },
        "7a04b534886841f98071144583f6161d": {
          "model_module": "@jupyter-widgets/controls",
          "model_name": "DescriptionStyleModel",
          "model_module_version": "1.5.0",
          "state": {
            "_model_module": "@jupyter-widgets/controls",
            "_model_module_version": "1.5.0",
            "_model_name": "DescriptionStyleModel",
            "_view_count": null,
            "_view_module": "@jupyter-widgets/base",
            "_view_module_version": "1.2.0",
            "_view_name": "StyleView",
            "description_width": ""
          }
        },
        "86f03f0305ca4d90aad9c7116dc1c367": {
          "model_module": "@jupyter-widgets/base",
          "model_name": "LayoutModel",
          "model_module_version": "1.2.0",
          "state": {
            "_model_module": "@jupyter-widgets/base",
            "_model_module_version": "1.2.0",
            "_model_name": "LayoutModel",
            "_view_count": null,
            "_view_module": "@jupyter-widgets/base",
            "_view_module_version": "1.2.0",
            "_view_name": "LayoutView",
            "align_content": null,
            "align_items": null,
            "align_self": null,
            "border": null,
            "bottom": null,
            "display": null,
            "flex": null,
            "flex_flow": null,
            "grid_area": null,
            "grid_auto_columns": null,
            "grid_auto_flow": null,
            "grid_auto_rows": null,
            "grid_column": null,
            "grid_gap": null,
            "grid_row": null,
            "grid_template_areas": null,
            "grid_template_columns": null,
            "grid_template_rows": null,
            "height": null,
            "justify_content": null,
            "justify_items": null,
            "left": null,
            "margin": null,
            "max_height": null,
            "max_width": null,
            "min_height": null,
            "min_width": null,
            "object_fit": null,
            "object_position": null,
            "order": null,
            "overflow": null,
            "overflow_x": null,
            "overflow_y": null,
            "padding": null,
            "right": null,
            "top": null,
            "visibility": null,
            "width": null
          }
        },
        "a27b6438ccc243c1a5a3118a1afeed7f": {
          "model_module": "@jupyter-widgets/controls",
          "model_name": "ProgressStyleModel",
          "model_module_version": "1.5.0",
          "state": {
            "_model_module": "@jupyter-widgets/controls",
            "_model_module_version": "1.5.0",
            "_model_name": "ProgressStyleModel",
            "_view_count": null,
            "_view_module": "@jupyter-widgets/base",
            "_view_module_version": "1.2.0",
            "_view_name": "StyleView",
            "bar_color": null,
            "description_width": ""
          }
        },
        "b715e5c63b1b45e69aee818870a01dbe": {
          "model_module": "@jupyter-widgets/base",
          "model_name": "LayoutModel",
          "model_module_version": "1.2.0",
          "state": {
            "_model_module": "@jupyter-widgets/base",
            "_model_module_version": "1.2.0",
            "_model_name": "LayoutModel",
            "_view_count": null,
            "_view_module": "@jupyter-widgets/base",
            "_view_module_version": "1.2.0",
            "_view_name": "LayoutView",
            "align_content": null,
            "align_items": null,
            "align_self": null,
            "border": null,
            "bottom": null,
            "display": null,
            "flex": null,
            "flex_flow": null,
            "grid_area": null,
            "grid_auto_columns": null,
            "grid_auto_flow": null,
            "grid_auto_rows": null,
            "grid_column": null,
            "grid_gap": null,
            "grid_row": null,
            "grid_template_areas": null,
            "grid_template_columns": null,
            "grid_template_rows": null,
            "height": null,
            "justify_content": null,
            "justify_items": null,
            "left": null,
            "margin": null,
            "max_height": null,
            "max_width": null,
            "min_height": null,
            "min_width": null,
            "object_fit": null,
            "object_position": null,
            "order": null,
            "overflow": null,
            "overflow_x": null,
            "overflow_y": null,
            "padding": null,
            "right": null,
            "top": null,
            "visibility": null,
            "width": null
          }
        },
        "c385973a35a24912a3fb0a867988269f": {
          "model_module": "@jupyter-widgets/controls",
          "model_name": "DescriptionStyleModel",
          "model_module_version": "1.5.0",
          "state": {
            "_model_module": "@jupyter-widgets/controls",
            "_model_module_version": "1.5.0",
            "_model_name": "DescriptionStyleModel",
            "_view_count": null,
            "_view_module": "@jupyter-widgets/base",
            "_view_module_version": "1.2.0",
            "_view_name": "StyleView",
            "description_width": ""
          }
        },
        "f78edb8dc59842faa17782e7df125b13": {
          "model_module": "@jupyter-widgets/controls",
          "model_name": "HBoxModel",
          "model_module_version": "1.5.0",
          "state": {
            "_dom_classes": [],
            "_model_module": "@jupyter-widgets/controls",
            "_model_module_version": "1.5.0",
            "_model_name": "HBoxModel",
            "_view_count": null,
            "_view_module": "@jupyter-widgets/controls",
            "_view_module_version": "1.5.0",
            "_view_name": "HBoxView",
            "box_style": "",
            "children": [
              "IPY_MODEL_8df6bc030dfa4bf68e448938a2079c8f",
              "IPY_MODEL_d5ffb3537dcb49a1aeb2cd9995a863e0",
              "IPY_MODEL_491ea1d019fa4bc1a5d8f254abe16505"
            ],
            "layout": "IPY_MODEL_d76853b97b5c4086a05c032372cf5346"
          }
        },
        "8df6bc030dfa4bf68e448938a2079c8f": {
          "model_module": "@jupyter-widgets/controls",
          "model_name": "HTMLModel",
          "model_module_version": "1.5.0",
          "state": {
            "_dom_classes": [],
            "_model_module": "@jupyter-widgets/controls",
            "_model_module_version": "1.5.0",
            "_model_name": "HTMLModel",
            "_view_count": null,
            "_view_module": "@jupyter-widgets/controls",
            "_view_module_version": "1.5.0",
            "_view_name": "HTMLView",
            "description": "",
            "description_tooltip": null,
            "layout": "IPY_MODEL_e36ef36526b7498995e281b005705a96",
            "placeholder": "​",
            "style": "IPY_MODEL_b83600622df34aa0a2074b1b39a205a8",
            "value": "100%"
          }
        },
        "d5ffb3537dcb49a1aeb2cd9995a863e0": {
          "model_module": "@jupyter-widgets/controls",
          "model_name": "FloatProgressModel",
          "model_module_version": "1.5.0",
          "state": {
            "_dom_classes": [],
            "_model_module": "@jupyter-widgets/controls",
            "_model_module_version": "1.5.0",
            "_model_name": "FloatProgressModel",
            "_view_count": null,
            "_view_module": "@jupyter-widgets/controls",
            "_view_module_version": "1.5.0",
            "_view_name": "ProgressView",
            "bar_style": "success",
            "description": "",
            "description_tooltip": null,
            "layout": "IPY_MODEL_ac648a74ecdc49018e88f3058dbd965c",
            "max": 1648877,
            "min": 0,
            "orientation": "horizontal",
            "style": "IPY_MODEL_1e0773ab54e440e59caa4cda1bed5c69",
            "value": 1648877
          }
        },
        "491ea1d019fa4bc1a5d8f254abe16505": {
          "model_module": "@jupyter-widgets/controls",
          "model_name": "HTMLModel",
          "model_module_version": "1.5.0",
          "state": {
            "_dom_classes": [],
            "_model_module": "@jupyter-widgets/controls",
            "_model_module_version": "1.5.0",
            "_model_name": "HTMLModel",
            "_view_count": null,
            "_view_module": "@jupyter-widgets/controls",
            "_view_module_version": "1.5.0",
            "_view_name": "HTMLView",
            "description": "",
            "description_tooltip": null,
            "layout": "IPY_MODEL_9fcb5a30903a4aa28d147f12b5aece75",
            "placeholder": "​",
            "style": "IPY_MODEL_c824e6546eae483a9ed36b21cc3a320f",
            "value": " 1648877/1648877 [00:00&lt;00:00, 39009359.89it/s]"
          }
        },
        "d76853b97b5c4086a05c032372cf5346": {
          "model_module": "@jupyter-widgets/base",
          "model_name": "LayoutModel",
          "model_module_version": "1.2.0",
          "state": {
            "_model_module": "@jupyter-widgets/base",
            "_model_module_version": "1.2.0",
            "_model_name": "LayoutModel",
            "_view_count": null,
            "_view_module": "@jupyter-widgets/base",
            "_view_module_version": "1.2.0",
            "_view_name": "LayoutView",
            "align_content": null,
            "align_items": null,
            "align_self": null,
            "border": null,
            "bottom": null,
            "display": null,
            "flex": null,
            "flex_flow": null,
            "grid_area": null,
            "grid_auto_columns": null,
            "grid_auto_flow": null,
            "grid_auto_rows": null,
            "grid_column": null,
            "grid_gap": null,
            "grid_row": null,
            "grid_template_areas": null,
            "grid_template_columns": null,
            "grid_template_rows": null,
            "height": null,
            "justify_content": null,
            "justify_items": null,
            "left": null,
            "margin": null,
            "max_height": null,
            "max_width": null,
            "min_height": null,
            "min_width": null,
            "object_fit": null,
            "object_position": null,
            "order": null,
            "overflow": null,
            "overflow_x": null,
            "overflow_y": null,
            "padding": null,
            "right": null,
            "top": null,
            "visibility": null,
            "width": null
          }
        },
        "e36ef36526b7498995e281b005705a96": {
          "model_module": "@jupyter-widgets/base",
          "model_name": "LayoutModel",
          "model_module_version": "1.2.0",
          "state": {
            "_model_module": "@jupyter-widgets/base",
            "_model_module_version": "1.2.0",
            "_model_name": "LayoutModel",
            "_view_count": null,
            "_view_module": "@jupyter-widgets/base",
            "_view_module_version": "1.2.0",
            "_view_name": "LayoutView",
            "align_content": null,
            "align_items": null,
            "align_self": null,
            "border": null,
            "bottom": null,
            "display": null,
            "flex": null,
            "flex_flow": null,
            "grid_area": null,
            "grid_auto_columns": null,
            "grid_auto_flow": null,
            "grid_auto_rows": null,
            "grid_column": null,
            "grid_gap": null,
            "grid_row": null,
            "grid_template_areas": null,
            "grid_template_columns": null,
            "grid_template_rows": null,
            "height": null,
            "justify_content": null,
            "justify_items": null,
            "left": null,
            "margin": null,
            "max_height": null,
            "max_width": null,
            "min_height": null,
            "min_width": null,
            "object_fit": null,
            "object_position": null,
            "order": null,
            "overflow": null,
            "overflow_x": null,
            "overflow_y": null,
            "padding": null,
            "right": null,
            "top": null,
            "visibility": null,
            "width": null
          }
        },
        "b83600622df34aa0a2074b1b39a205a8": {
          "model_module": "@jupyter-widgets/controls",
          "model_name": "DescriptionStyleModel",
          "model_module_version": "1.5.0",
          "state": {
            "_model_module": "@jupyter-widgets/controls",
            "_model_module_version": "1.5.0",
            "_model_name": "DescriptionStyleModel",
            "_view_count": null,
            "_view_module": "@jupyter-widgets/base",
            "_view_module_version": "1.2.0",
            "_view_name": "StyleView",
            "description_width": ""
          }
        },
        "ac648a74ecdc49018e88f3058dbd965c": {
          "model_module": "@jupyter-widgets/base",
          "model_name": "LayoutModel",
          "model_module_version": "1.2.0",
          "state": {
            "_model_module": "@jupyter-widgets/base",
            "_model_module_version": "1.2.0",
            "_model_name": "LayoutModel",
            "_view_count": null,
            "_view_module": "@jupyter-widgets/base",
            "_view_module_version": "1.2.0",
            "_view_name": "LayoutView",
            "align_content": null,
            "align_items": null,
            "align_self": null,
            "border": null,
            "bottom": null,
            "display": null,
            "flex": null,
            "flex_flow": null,
            "grid_area": null,
            "grid_auto_columns": null,
            "grid_auto_flow": null,
            "grid_auto_rows": null,
            "grid_column": null,
            "grid_gap": null,
            "grid_row": null,
            "grid_template_areas": null,
            "grid_template_columns": null,
            "grid_template_rows": null,
            "height": null,
            "justify_content": null,
            "justify_items": null,
            "left": null,
            "margin": null,
            "max_height": null,
            "max_width": null,
            "min_height": null,
            "min_width": null,
            "object_fit": null,
            "object_position": null,
            "order": null,
            "overflow": null,
            "overflow_x": null,
            "overflow_y": null,
            "padding": null,
            "right": null,
            "top": null,
            "visibility": null,
            "width": null
          }
        },
        "1e0773ab54e440e59caa4cda1bed5c69": {
          "model_module": "@jupyter-widgets/controls",
          "model_name": "ProgressStyleModel",
          "model_module_version": "1.5.0",
          "state": {
            "_model_module": "@jupyter-widgets/controls",
            "_model_module_version": "1.5.0",
            "_model_name": "ProgressStyleModel",
            "_view_count": null,
            "_view_module": "@jupyter-widgets/base",
            "_view_module_version": "1.2.0",
            "_view_name": "StyleView",
            "bar_color": null,
            "description_width": ""
          }
        },
        "9fcb5a30903a4aa28d147f12b5aece75": {
          "model_module": "@jupyter-widgets/base",
          "model_name": "LayoutModel",
          "model_module_version": "1.2.0",
          "state": {
            "_model_module": "@jupyter-widgets/base",
            "_model_module_version": "1.2.0",
            "_model_name": "LayoutModel",
            "_view_count": null,
            "_view_module": "@jupyter-widgets/base",
            "_view_module_version": "1.2.0",
            "_view_name": "LayoutView",
            "align_content": null,
            "align_items": null,
            "align_self": null,
            "border": null,
            "bottom": null,
            "display": null,
            "flex": null,
            "flex_flow": null,
            "grid_area": null,
            "grid_auto_columns": null,
            "grid_auto_flow": null,
            "grid_auto_rows": null,
            "grid_column": null,
            "grid_gap": null,
            "grid_row": null,
            "grid_template_areas": null,
            "grid_template_columns": null,
            "grid_template_rows": null,
            "height": null,
            "justify_content": null,
            "justify_items": null,
            "left": null,
            "margin": null,
            "max_height": null,
            "max_width": null,
            "min_height": null,
            "min_width": null,
            "object_fit": null,
            "object_position": null,
            "order": null,
            "overflow": null,
            "overflow_x": null,
            "overflow_y": null,
            "padding": null,
            "right": null,
            "top": null,
            "visibility": null,
            "width": null
          }
        },
        "c824e6546eae483a9ed36b21cc3a320f": {
          "model_module": "@jupyter-widgets/controls",
          "model_name": "DescriptionStyleModel",
          "model_module_version": "1.5.0",
          "state": {
            "_model_module": "@jupyter-widgets/controls",
            "_model_module_version": "1.5.0",
            "_model_name": "DescriptionStyleModel",
            "_view_count": null,
            "_view_module": "@jupyter-widgets/base",
            "_view_module_version": "1.2.0",
            "_view_name": "StyleView",
            "description_width": ""
          }
        },
        "b6bb6ce71f924dad96929eede2766b91": {
          "model_module": "@jupyter-widgets/controls",
          "model_name": "HBoxModel",
          "model_module_version": "1.5.0",
          "state": {
            "_dom_classes": [],
            "_model_module": "@jupyter-widgets/controls",
            "_model_module_version": "1.5.0",
            "_model_name": "HBoxModel",
            "_view_count": null,
            "_view_module": "@jupyter-widgets/controls",
            "_view_module_version": "1.5.0",
            "_view_name": "HBoxView",
            "box_style": "",
            "children": [
              "IPY_MODEL_59b89faf9b1b4ee4a9677f3fa5b5a5d8",
              "IPY_MODEL_da5f9a7bdd6244feb33a3494dd43a74e",
              "IPY_MODEL_100b74c47fd74e1ab32996d95b372744"
            ],
            "layout": "IPY_MODEL_b889d070e8214c909672bbd998dd7790"
          }
        },
        "59b89faf9b1b4ee4a9677f3fa5b5a5d8": {
          "model_module": "@jupyter-widgets/controls",
          "model_name": "HTMLModel",
          "model_module_version": "1.5.0",
          "state": {
            "_dom_classes": [],
            "_model_module": "@jupyter-widgets/controls",
            "_model_module_version": "1.5.0",
            "_model_name": "HTMLModel",
            "_view_count": null,
            "_view_module": "@jupyter-widgets/controls",
            "_view_module_version": "1.5.0",
            "_view_name": "HTMLView",
            "description": "",
            "description_tooltip": null,
            "layout": "IPY_MODEL_6bf58e8b9438496ea9f7952f6a06a509",
            "placeholder": "​",
            "style": "IPY_MODEL_fdbbd130cf4344398eb3211e4cad91e5",
            "value": "100%"
          }
        },
        "da5f9a7bdd6244feb33a3494dd43a74e": {
          "model_module": "@jupyter-widgets/controls",
          "model_name": "FloatProgressModel",
          "model_module_version": "1.5.0",
          "state": {
            "_dom_classes": [],
            "_model_module": "@jupyter-widgets/controls",
            "_model_module_version": "1.5.0",
            "_model_name": "FloatProgressModel",
            "_view_count": null,
            "_view_module": "@jupyter-widgets/controls",
            "_view_module_version": "1.5.0",
            "_view_name": "ProgressView",
            "bar_style": "success",
            "description": "",
            "description_tooltip": null,
            "layout": "IPY_MODEL_eae60eb22f4a47e393dfec99fe5ef229",
            "max": 4542,
            "min": 0,
            "orientation": "horizontal",
            "style": "IPY_MODEL_51e8f7c35e734f90a8f6a5a1a0750b56",
            "value": 4542
          }
        },
        "100b74c47fd74e1ab32996d95b372744": {
          "model_module": "@jupyter-widgets/controls",
          "model_name": "HTMLModel",
          "model_module_version": "1.5.0",
          "state": {
            "_dom_classes": [],
            "_model_module": "@jupyter-widgets/controls",
            "_model_module_version": "1.5.0",
            "_model_name": "HTMLModel",
            "_view_count": null,
            "_view_module": "@jupyter-widgets/controls",
            "_view_module_version": "1.5.0",
            "_view_name": "HTMLView",
            "description": "",
            "description_tooltip": null,
            "layout": "IPY_MODEL_f7f597f27b294ad18dc5a579c58368d6",
            "placeholder": "​",
            "style": "IPY_MODEL_f38c3c0663fd4b8a8103c3423acd2ee6",
            "value": " 4542/4542 [00:00&lt;00:00, 250470.41it/s]"
          }
        },
        "b889d070e8214c909672bbd998dd7790": {
          "model_module": "@jupyter-widgets/base",
          "model_name": "LayoutModel",
          "model_module_version": "1.2.0",
          "state": {
            "_model_module": "@jupyter-widgets/base",
            "_model_module_version": "1.2.0",
            "_model_name": "LayoutModel",
            "_view_count": null,
            "_view_module": "@jupyter-widgets/base",
            "_view_module_version": "1.2.0",
            "_view_name": "LayoutView",
            "align_content": null,
            "align_items": null,
            "align_self": null,
            "border": null,
            "bottom": null,
            "display": null,
            "flex": null,
            "flex_flow": null,
            "grid_area": null,
            "grid_auto_columns": null,
            "grid_auto_flow": null,
            "grid_auto_rows": null,
            "grid_column": null,
            "grid_gap": null,
            "grid_row": null,
            "grid_template_areas": null,
            "grid_template_columns": null,
            "grid_template_rows": null,
            "height": null,
            "justify_content": null,
            "justify_items": null,
            "left": null,
            "margin": null,
            "max_height": null,
            "max_width": null,
            "min_height": null,
            "min_width": null,
            "object_fit": null,
            "object_position": null,
            "order": null,
            "overflow": null,
            "overflow_x": null,
            "overflow_y": null,
            "padding": null,
            "right": null,
            "top": null,
            "visibility": null,
            "width": null
          }
        },
        "6bf58e8b9438496ea9f7952f6a06a509": {
          "model_module": "@jupyter-widgets/base",
          "model_name": "LayoutModel",
          "model_module_version": "1.2.0",
          "state": {
            "_model_module": "@jupyter-widgets/base",
            "_model_module_version": "1.2.0",
            "_model_name": "LayoutModel",
            "_view_count": null,
            "_view_module": "@jupyter-widgets/base",
            "_view_module_version": "1.2.0",
            "_view_name": "LayoutView",
            "align_content": null,
            "align_items": null,
            "align_self": null,
            "border": null,
            "bottom": null,
            "display": null,
            "flex": null,
            "flex_flow": null,
            "grid_area": null,
            "grid_auto_columns": null,
            "grid_auto_flow": null,
            "grid_auto_rows": null,
            "grid_column": null,
            "grid_gap": null,
            "grid_row": null,
            "grid_template_areas": null,
            "grid_template_columns": null,
            "grid_template_rows": null,
            "height": null,
            "justify_content": null,
            "justify_items": null,
            "left": null,
            "margin": null,
            "max_height": null,
            "max_width": null,
            "min_height": null,
            "min_width": null,
            "object_fit": null,
            "object_position": null,
            "order": null,
            "overflow": null,
            "overflow_x": null,
            "overflow_y": null,
            "padding": null,
            "right": null,
            "top": null,
            "visibility": null,
            "width": null
          }
        },
        "fdbbd130cf4344398eb3211e4cad91e5": {
          "model_module": "@jupyter-widgets/controls",
          "model_name": "DescriptionStyleModel",
          "model_module_version": "1.5.0",
          "state": {
            "_model_module": "@jupyter-widgets/controls",
            "_model_module_version": "1.5.0",
            "_model_name": "DescriptionStyleModel",
            "_view_count": null,
            "_view_module": "@jupyter-widgets/base",
            "_view_module_version": "1.2.0",
            "_view_name": "StyleView",
            "description_width": ""
          }
        },
        "eae60eb22f4a47e393dfec99fe5ef229": {
          "model_module": "@jupyter-widgets/base",
          "model_name": "LayoutModel",
          "model_module_version": "1.2.0",
          "state": {
            "_model_module": "@jupyter-widgets/base",
            "_model_module_version": "1.2.0",
            "_model_name": "LayoutModel",
            "_view_count": null,
            "_view_module": "@jupyter-widgets/base",
            "_view_module_version": "1.2.0",
            "_view_name": "LayoutView",
            "align_content": null,
            "align_items": null,
            "align_self": null,
            "border": null,
            "bottom": null,
            "display": null,
            "flex": null,
            "flex_flow": null,
            "grid_area": null,
            "grid_auto_columns": null,
            "grid_auto_flow": null,
            "grid_auto_rows": null,
            "grid_column": null,
            "grid_gap": null,
            "grid_row": null,
            "grid_template_areas": null,
            "grid_template_columns": null,
            "grid_template_rows": null,
            "height": null,
            "justify_content": null,
            "justify_items": null,
            "left": null,
            "margin": null,
            "max_height": null,
            "max_width": null,
            "min_height": null,
            "min_width": null,
            "object_fit": null,
            "object_position": null,
            "order": null,
            "overflow": null,
            "overflow_x": null,
            "overflow_y": null,
            "padding": null,
            "right": null,
            "top": null,
            "visibility": null,
            "width": null
          }
        },
        "51e8f7c35e734f90a8f6a5a1a0750b56": {
          "model_module": "@jupyter-widgets/controls",
          "model_name": "ProgressStyleModel",
          "model_module_version": "1.5.0",
          "state": {
            "_model_module": "@jupyter-widgets/controls",
            "_model_module_version": "1.5.0",
            "_model_name": "ProgressStyleModel",
            "_view_count": null,
            "_view_module": "@jupyter-widgets/base",
            "_view_module_version": "1.2.0",
            "_view_name": "StyleView",
            "bar_color": null,
            "description_width": ""
          }
        },
        "f7f597f27b294ad18dc5a579c58368d6": {
          "model_module": "@jupyter-widgets/base",
          "model_name": "LayoutModel",
          "model_module_version": "1.2.0",
          "state": {
            "_model_module": "@jupyter-widgets/base",
            "_model_module_version": "1.2.0",
            "_model_name": "LayoutModel",
            "_view_count": null,
            "_view_module": "@jupyter-widgets/base",
            "_view_module_version": "1.2.0",
            "_view_name": "LayoutView",
            "align_content": null,
            "align_items": null,
            "align_self": null,
            "border": null,
            "bottom": null,
            "display": null,
            "flex": null,
            "flex_flow": null,
            "grid_area": null,
            "grid_auto_columns": null,
            "grid_auto_flow": null,
            "grid_auto_rows": null,
            "grid_column": null,
            "grid_gap": null,
            "grid_row": null,
            "grid_template_areas": null,
            "grid_template_columns": null,
            "grid_template_rows": null,
            "height": null,
            "justify_content": null,
            "justify_items": null,
            "left": null,
            "margin": null,
            "max_height": null,
            "max_width": null,
            "min_height": null,
            "min_width": null,
            "object_fit": null,
            "object_position": null,
            "order": null,
            "overflow": null,
            "overflow_x": null,
            "overflow_y": null,
            "padding": null,
            "right": null,
            "top": null,
            "visibility": null,
            "width": null
          }
        },
        "f38c3c0663fd4b8a8103c3423acd2ee6": {
          "model_module": "@jupyter-widgets/controls",
          "model_name": "DescriptionStyleModel",
          "model_module_version": "1.5.0",
          "state": {
            "_model_module": "@jupyter-widgets/controls",
            "_model_module_version": "1.5.0",
            "_model_name": "DescriptionStyleModel",
            "_view_count": null,
            "_view_module": "@jupyter-widgets/base",
            "_view_module_version": "1.2.0",
            "_view_name": "StyleView",
            "description_width": ""
          }
        }
      }
    }
  },
  "cells": [
    {
      "cell_type": "markdown",
      "source": [
        "This is a complementary notebook for tutorial lectures on introduction to PyTorch for [STAT8056](http://users.stat.umn.edu/~xshen/stat8056.htm), 2023 Spring. To access the slides for this tutorial, please visit [https://github.umn.edu/liu00980/STAT8056_intro_pytorch](https://github.umn.edu/liu00980/STAT8056_intro_pytorch)."
      ],
      "metadata": {
        "id": "CO3escq1gLUJ"
      }
    },
    {
      "cell_type": "code",
      "source": [
        "# basic torch modules, classes and functions\n",
        "import torch\n",
        "from torch import nn, optim\n",
        "import torch.nn.functional as F\n",
        "from torch.utils.data import Dataset, DataLoader, Subset\n",
        "\n",
        "# image datasets and pre-processing\n",
        "import torchvision\n",
        "from torchvision import datasets\n",
        "import torchvision.transforms as transforms\n",
        "\n",
        "# other utils libraries\n",
        "import time\n",
        "import numpy as np\n",
        "import matplotlib.pyplot as plt"
      ],
      "metadata": {
        "id": "lS8ECVdvIaDh"
      },
      "execution_count": 1,
      "outputs": []
    },
    {
      "cell_type": "markdown",
      "source": [
        "# Tensor"
      ],
      "metadata": {
        "id": "wym0K-dJJWAa"
      }
    },
    {
      "cell_type": "markdown",
      "source": [
        "## Create tensors with gradient tracing"
      ],
      "metadata": {
        "id": "43U8df32JeY6"
      }
    },
    {
      "cell_type": "code",
      "source": [
        "t = torch.tensor(3.0, requires_grad = True)\n",
        "print(\"Tensor t:\", t)"
      ],
      "metadata": {
        "id": "CnNI-UWeIa90",
        "colab": {
          "base_uri": "https://localhost:8080/"
        },
        "outputId": "08224c19-93ce-4c38-ed0c-5ffa59bf94b2"
      },
      "execution_count": 2,
      "outputs": [
        {
          "output_type": "stream",
          "name": "stdout",
          "text": [
            "Tensor t: tensor(3., requires_grad=True)\n"
          ]
        }
      ]
    },
    {
      "cell_type": "markdown",
      "source": [
        "## Calculate and access the gradient"
      ],
      "metadata": {
        "id": "e6oZBKm4JkzS"
      }
    },
    {
      "cell_type": "code",
      "source": [
        "# create tensors, and enable gradient tracing\n",
        "c = torch.tensor(1.)\n",
        "t = torch.tensor(3., requires_grad = True)\n",
        "print(\"Tensor c:\", c)\n",
        "print(\"Tensor t:\", t)\n",
        "\n",
        "# do some calculation\n",
        "s = t**2\n",
        "f = 3 * s + c\n",
        "\n",
        "# calculate the gradient of f w.r.t. t\n",
        "f.backward()\n",
        "\n",
        "# access the gradient\n",
        "print(\"Gradient df/dt:\", t.grad)"
      ],
      "metadata": {
        "colab": {
          "base_uri": "https://localhost:8080/"
        },
        "id": "Ahm5TNASSrYv",
        "outputId": "27630d26-e16f-4910-daac-bda630a38af6"
      },
      "execution_count": 3,
      "outputs": [
        {
          "output_type": "stream",
          "name": "stdout",
          "text": [
            "Tensor c: tensor(1.)\n",
            "Tensor t: tensor(3., requires_grad=True)\n",
            "Gradient df/dt: tensor(18.)\n"
          ]
        }
      ]
    },
    {
      "cell_type": "markdown",
      "source": [
        "## Common MISTAKES regarding gradient and computation graph"
      ],
      "metadata": {
        "id": "arqw1924fBeW"
      }
    },
    {
      "cell_type": "markdown",
      "source": [
        "### Call `.backward` when there is no graph (or the graph has been destroyed)"
      ],
      "metadata": {
        "id": "taBvmfPwfGmg"
      }
    },
    {
      "cell_type": "code",
      "source": [
        "t = torch.tensor(3., requires_grad = True)\n",
        "s = t**2\n",
        "s.backward() # graph is destroyed\n",
        "\n",
        "s.backward() # error!"
      ],
      "metadata": {
        "colab": {
          "base_uri": "https://localhost:8080/",
          "height": 374
        },
        "id": "qmjCjM0dfNRX",
        "outputId": "a98525d9-ab7c-4011-e2de-a25356bb57a0"
      },
      "execution_count": 23,
      "outputs": [
        {
          "output_type": "error",
          "ename": "RuntimeError",
          "evalue": "Trying to backward through the graph a second time (or directly access saved tensors after they have already been freed). Saved intermediate values of the graph are freed when you call .backward() or autograd.grad(). Specify retain_graph=True if you need to backward through the graph a second time or if you need to access saved tensors after calling backward.",
          "traceback": [
            "\u001b[0;31m---------------------------------------------------------------------------\u001b[0m",
            "\u001b[0;31mRuntimeError\u001b[0m                              Traceback (most recent call last)",
            "\u001b[0;32m<ipython-input-23-f3e0d0766fdf>\u001b[0m in \u001b[0;36m<cell line: 5>\u001b[0;34m()\u001b[0m\n\u001b[1;32m      3\u001b[0m \u001b[0ms\u001b[0m\u001b[0;34m.\u001b[0m\u001b[0mbackward\u001b[0m\u001b[0;34m(\u001b[0m\u001b[0;34m)\u001b[0m \u001b[0;31m# graph is destroyed\u001b[0m\u001b[0;34m\u001b[0m\u001b[0;34m\u001b[0m\u001b[0m\n\u001b[1;32m      4\u001b[0m \u001b[0;34m\u001b[0m\u001b[0m\n\u001b[0;32m----> 5\u001b[0;31m \u001b[0ms\u001b[0m\u001b[0;34m.\u001b[0m\u001b[0mbackward\u001b[0m\u001b[0;34m(\u001b[0m\u001b[0;34m)\u001b[0m \u001b[0;31m# error!\u001b[0m\u001b[0;34m\u001b[0m\u001b[0;34m\u001b[0m\u001b[0m\n\u001b[0m",
            "\u001b[0;32m/usr/local/lib/python3.10/dist-packages/torch/_tensor.py\u001b[0m in \u001b[0;36mbackward\u001b[0;34m(self, gradient, retain_graph, create_graph, inputs)\u001b[0m\n\u001b[1;32m    490\u001b[0m                 \u001b[0minputs\u001b[0m\u001b[0;34m=\u001b[0m\u001b[0minputs\u001b[0m\u001b[0;34m,\u001b[0m\u001b[0;34m\u001b[0m\u001b[0;34m\u001b[0m\u001b[0m\n\u001b[1;32m    491\u001b[0m             )\n\u001b[0;32m--> 492\u001b[0;31m         torch.autograd.backward(\n\u001b[0m\u001b[1;32m    493\u001b[0m             \u001b[0mself\u001b[0m\u001b[0;34m,\u001b[0m \u001b[0mgradient\u001b[0m\u001b[0;34m,\u001b[0m \u001b[0mretain_graph\u001b[0m\u001b[0;34m,\u001b[0m \u001b[0mcreate_graph\u001b[0m\u001b[0;34m,\u001b[0m \u001b[0minputs\u001b[0m\u001b[0;34m=\u001b[0m\u001b[0minputs\u001b[0m\u001b[0;34m\u001b[0m\u001b[0;34m\u001b[0m\u001b[0m\n\u001b[1;32m    494\u001b[0m         )\n",
            "\u001b[0;32m/usr/local/lib/python3.10/dist-packages/torch/autograd/__init__.py\u001b[0m in \u001b[0;36mbackward\u001b[0;34m(tensors, grad_tensors, retain_graph, create_graph, grad_variables, inputs)\u001b[0m\n\u001b[1;32m    249\u001b[0m     \u001b[0;31m# some Python versions print out the first line of a multi-line function\u001b[0m\u001b[0;34m\u001b[0m\u001b[0;34m\u001b[0m\u001b[0m\n\u001b[1;32m    250\u001b[0m     \u001b[0;31m# calls in the traceback and some print out the last line\u001b[0m\u001b[0;34m\u001b[0m\u001b[0;34m\u001b[0m\u001b[0m\n\u001b[0;32m--> 251\u001b[0;31m     Variable._execution_engine.run_backward(  # Calls into the C++ engine to run the backward pass\n\u001b[0m\u001b[1;32m    252\u001b[0m         \u001b[0mtensors\u001b[0m\u001b[0;34m,\u001b[0m\u001b[0;34m\u001b[0m\u001b[0;34m\u001b[0m\u001b[0m\n\u001b[1;32m    253\u001b[0m         \u001b[0mgrad_tensors_\u001b[0m\u001b[0;34m,\u001b[0m\u001b[0;34m\u001b[0m\u001b[0;34m\u001b[0m\u001b[0m\n",
            "\u001b[0;31mRuntimeError\u001b[0m: Trying to backward through the graph a second time (or directly access saved tensors after they have already been freed). Saved intermediate values of the graph are freed when you call .backward() or autograd.grad(). Specify retain_graph=True if you need to backward through the graph a second time or if you need to access saved tensors after calling backward."
          ]
        }
      ]
    },
    {
      "cell_type": "markdown",
      "source": [
        "### Call `.grad` on non-leaf nodes"
      ],
      "metadata": {
        "id": "LlzNHCVcfojn"
      }
    },
    {
      "cell_type": "code",
      "source": [
        "t = torch.tensor(3., requires_grad = True) # the leaf node\n",
        "s = t**2 # the intermediate node\n",
        "\n",
        "# uncomment this to retain gradient of the non-leaf node s\n",
        "# s.retain_grad()\n",
        "\n",
        "f = 3 * s + 1 # the objective\n",
        "f.backward()\n",
        "\n",
        "s.grad # warning and no result"
      ],
      "metadata": {
        "id": "JRDnszIvfuvv",
        "colab": {
          "base_uri": "https://localhost:8080/"
        },
        "outputId": "53893834-cd45-494c-c89b-27348e24e56f"
      },
      "execution_count": 5,
      "outputs": [
        {
          "output_type": "stream",
          "name": "stderr",
          "text": [
            "<ipython-input-5-36a34069fd9c>:10: UserWarning: The .grad attribute of a Tensor that is not a leaf Tensor is being accessed. Its .grad attribute won't be populated during autograd.backward(). If you indeed want the .grad field to be populated for a non-leaf Tensor, use .retain_grad() on the non-leaf Tensor. If you access the non-leaf Tensor by mistake, make sure you access the leaf Tensor instead. See github.com/pytorch/pytorch/pull/30531 for more informations. (Triggered internally at aten/src/ATen/core/TensorBody.h:489.)\n",
            "  s.grad # warning and no result\n"
          ]
        }
      ]
    },
    {
      "cell_type": "markdown",
      "source": [
        "### Gradient accumulation"
      ],
      "metadata": {
        "id": "68zFdBwzJrhB"
      }
    },
    {
      "cell_type": "code",
      "source": [
        "# first back propagation\n",
        "t = torch.tensor(3., requires_grad = True)\n",
        "s = t**2\n",
        "s.backward()\n",
        "print(\"Gradient ds/dt:\", t.grad)\n",
        "\n",
        "# second back propagation\n",
        "f = 5 * t + 1\n",
        "f.backward()\n",
        "print(\"Gradient df/dt (without emptying t.grad):\", t.grad)"
      ],
      "metadata": {
        "colab": {
          "base_uri": "https://localhost:8080/"
        },
        "id": "nQz6OzCUgDCo",
        "outputId": "7a889be8-92ea-4e19-ba8a-ad4d5a1d7c85"
      },
      "execution_count": 6,
      "outputs": [
        {
          "output_type": "stream",
          "name": "stdout",
          "text": [
            "Gradient ds/dt: tensor(6.)\n",
            "Gradient df/dt (without emptying t.grad): tensor(11.)\n"
          ]
        }
      ]
    },
    {
      "cell_type": "code",
      "source": [
        "t.grad.zero_() # zero out the gradient\n",
        "f = 5 * t + 1\n",
        "f.backward()\n",
        "print(\"Gradient df/dt (after emptying t.grad):\", t.grad)"
      ],
      "metadata": {
        "colab": {
          "base_uri": "https://localhost:8080/"
        },
        "id": "w_Ayg_urjT8F",
        "outputId": "3d9a5384-c5ce-4e8e-8bb9-3c5ec7317bf7"
      },
      "execution_count": 7,
      "outputs": [
        {
          "output_type": "stream",
          "name": "stdout",
          "text": [
            "Gradient df/dt (after emptying t.grad): tensor(5.)\n"
          ]
        }
      ]
    },
    {
      "cell_type": "markdown",
      "source": [
        "# Tensor manipulation on GPU\n",
        "\n",
        "To use GPU of Google Colab, go to `Runtime|Change runtime type|Hardware accelerator|GPU|Save`."
      ],
      "metadata": {
        "id": "C3S4IMcMJx2h"
      }
    },
    {
      "cell_type": "markdown",
      "source": [
        "## Check GPU availability"
      ],
      "metadata": {
        "id": "Iv5QqzEiJ24w"
      }
    },
    {
      "cell_type": "code",
      "source": [
        "device = 'cuda' if torch.cuda.is_available() else 'cpu'\n",
        "print(device)"
      ],
      "metadata": {
        "colab": {
          "base_uri": "https://localhost:8080/"
        },
        "id": "YDwiA1cUnhjF",
        "outputId": "e44fca93-95d6-4b71-a52d-0fa0a7edef22"
      },
      "execution_count": 8,
      "outputs": [
        {
          "output_type": "stream",
          "name": "stdout",
          "text": [
            "cuda\n"
          ]
        }
      ]
    },
    {
      "cell_type": "markdown",
      "source": [
        "## Matrix multiplication on CPU versus GPU"
      ],
      "metadata": {
        "id": "cf81OOjVJ6VK"
      }
    },
    {
      "cell_type": "code",
      "source": [
        "d = 3000\n",
        "\n",
        "# C = A B with numpy on CPU\n",
        "A = np.random.rand(d, d)\n",
        "B = np.random.rand(d, d)\n",
        "begin = time.time()\n",
        "C = A.dot(B)\n",
        "print(f\"CPU time (numpy): {time.time() - begin} s\")\n",
        "\n",
        "# C = A B with torch on CPU\n",
        "A_t_cpu = torch.tensor(A)\n",
        "B_t_cpu = torch.tensor(B)\n",
        "begin = time.time()\n",
        "C = torch.mm(A_t_cpu, B_t_cpu)\n",
        "print(f\"CPU time (torch): {time.time() - begin} s\")\n",
        "\n",
        "# C = A B with torch on GPU\n",
        "# make sure GPU is available\n",
        "# it takes some time to initialize using GPU for the first time, so run this cell for a second time\n",
        "A_t_gpu = torch.tensor(A).cuda()\n",
        "B_t_gpu = torch.tensor(B).cuda()\n",
        "begin = time.time()\n",
        "C = torch.mm(A_t_gpu, B_t_gpu)\n",
        "print(f\"GPU time (torch): {time.time() - begin} s\")"
      ],
      "metadata": {
        "colab": {
          "base_uri": "https://localhost:8080/"
        },
        "id": "s-0jdfztpqM1",
        "outputId": "03ba5cf4-5afd-4387-a33a-8b26bbaed2c5"
      },
      "execution_count": 9,
      "outputs": [
        {
          "output_type": "stream",
          "name": "stdout",
          "text": [
            "CPU time (numpy): 1.0210199356079102 s\n",
            "CPU time (torch): 0.9666247367858887 s\n",
            "GPU time (torch): 0.10964751243591309 s\n"
          ]
        }
      ]
    },
    {
      "cell_type": "markdown",
      "source": [
        "## Transfer time from CPU to GPU"
      ],
      "metadata": {
        "id": "ODmpDsYyJ_LJ"
      }
    },
    {
      "cell_type": "code",
      "source": [
        "d = 3000\n",
        "begin = time.time()\n",
        "A = torch.rand((d, d)).cuda()\n",
        "B = torch.rand((d, d)).cuda()\n",
        "print(f\"Time from CPU to GPU: {time.time() - begin} s\")\n",
        "begin = time.time()\n",
        "C = torch.mm(A, B)\n",
        "print(f\"GPU time (torch): {time.time() - begin} s\")"
      ],
      "metadata": {
        "colab": {
          "base_uri": "https://localhost:8080/"
        },
        "id": "gtXsYBPy28nu",
        "outputId": "b0a6ca0f-38ba-42ca-bcc6-b2c9e6a06bb3"
      },
      "execution_count": 10,
      "outputs": [
        {
          "output_type": "stream",
          "name": "stdout",
          "text": [
            "Time from CPU to GPU: 0.16915678977966309 s\n",
            "GPU time (torch): 0.02577805519104004 s\n"
          ]
        }
      ]
    },
    {
      "cell_type": "markdown",
      "source": [
        "# Linear regression in PyTorch"
      ],
      "metadata": {
        "id": "zaWyabaOKEe8"
      }
    },
    {
      "cell_type": "markdown",
      "source": [
        "## Linear regression --- the naive approach"
      ],
      "metadata": {
        "id": "gIJE1aDlKGrx"
      }
    },
    {
      "cell_type": "code",
      "source": [
        "n = 2000\n",
        "x = torch.rand(n)\n",
        "\n",
        "# create dataset with true model\n",
        "a0 = 2\n",
        "b0 = 1\n",
        "y = a0 * x + b0\n",
        "\n",
        "# set up optimization parameter of SGD\n",
        "a = torch.rand(1, requires_grad = True)\n",
        "b = torch.rand(1, requires_grad = True)\n",
        "nepochs = 10\n",
        "batch_size = 200\n",
        "lr = 0.5"
      ],
      "metadata": {
        "id": "Ae6zZ9b4Symz"
      },
      "execution_count": 11,
      "outputs": []
    },
    {
      "cell_type": "code",
      "source": [
        "for epoch in range(nepochs):\n",
        "  for batch in range(round(n / batch_size)):\n",
        "    start = batch * batch_size\n",
        "    end = start + batch_size\n",
        "    # perform update on a batch\n",
        "    x_batch = x[start:end]\n",
        "    y_batch = y[start:end]\n",
        "\n",
        "    # build computation graph\n",
        "    y_hat = a * x_batch + b\n",
        "    myloss = torch.mean((y_batch - y_hat)**2)\n",
        "\n",
        "    # gradient calculation\n",
        "    myloss.backward()\n",
        "\n",
        "    # SGD update\n",
        "    with torch.no_grad():\n",
        "      a -= lr * a.grad\n",
        "      b -= lr * b.grad\n",
        "\n",
        "    # avoid gradient accumulation\n",
        "    a.grad.zero_()\n",
        "    b.grad.zero_()\n",
        "\n",
        "  print(f\"Epoch: {epoch + 1} / {nepochs}\")\n",
        "  print(f\"MSE: {myloss: .2e}; a: {a.item():.4f}; b: {b.item():.4f}\")\n"
      ],
      "metadata": {
        "colab": {
          "base_uri": "https://localhost:8080/"
        },
        "id": "MFfUbTArYzqz",
        "outputId": "74c9b861-7502-42e5-cdd1-366e18d5d335"
      },
      "execution_count": 12,
      "outputs": [
        {
          "output_type": "stream",
          "name": "stdout",
          "text": [
            "Epoch: 1 / 10\n",
            "MSE:  1.82e-02; a: 1.5684; b: 1.2227\n",
            "Epoch: 2 / 10\n",
            "MSE:  4.79e-03; a: 1.7787; b: 1.1142\n",
            "Epoch: 3 / 10\n",
            "MSE:  1.26e-03; a: 1.8865; b: 1.0585\n",
            "Epoch: 4 / 10\n",
            "MSE:  3.31e-04; a: 1.9418; b: 1.0300\n",
            "Epoch: 5 / 10\n",
            "MSE:  8.70e-05; a: 1.9702; b: 1.0154\n",
            "Epoch: 6 / 10\n",
            "MSE:  2.29e-05; a: 1.9847; b: 1.0079\n",
            "Epoch: 7 / 10\n",
            "MSE:  6.01e-06; a: 1.9922; b: 1.0040\n",
            "Epoch: 8 / 10\n",
            "MSE:  1.58e-06; a: 1.9960; b: 1.0021\n",
            "Epoch: 9 / 10\n",
            "MSE:  4.16e-07; a: 1.9979; b: 1.0011\n",
            "Epoch: 10 / 10\n",
            "MSE:  1.09e-07; a: 1.9989; b: 1.0005\n"
          ]
        }
      ]
    },
    {
      "cell_type": "markdown",
      "source": [
        "## Linear regression --- the PyTorch way"
      ],
      "metadata": {
        "id": "Qnbnc_lfKUlN"
      }
    },
    {
      "cell_type": "code",
      "source": [
        "class SimpleLinear(Dataset):\n",
        "    def __init__(self, n, a, b, sigma = 0):\n",
        "      self.n = n\n",
        "      self.x = torch.rand(n, 1)\n",
        "      self.y = a * self.x + b + sigma * torch.randn(n, 1)\n",
        "\n",
        "    def __len__(self):\n",
        "        return self.n\n",
        "\n",
        "    def __getitem__(self, idx):\n",
        "        return self.x[idx], self.y[idx]\n",
        "\n",
        "# create a training model\n",
        "# (cont.) also initializes a and b\n",
        "mymodel = nn.Sequential(nn.Linear(1, 1))\n",
        "\n",
        "# prepare dataset and dataloaders\n",
        "mydata = SimpleLinear(n = 2000, a = 2, b = 1)\n",
        "mydataloader = DataLoader(mydata, batch_size = 200)\n",
        "\n",
        "# set up optimization with SGD\n",
        "criterion = nn.MSELoss()\n",
        "optimizer = optim.SGD(mymodel.parameters(), lr = 0.5)"
      ],
      "metadata": {
        "id": "8MPbZu6xsOKQ"
      },
      "execution_count": 13,
      "outputs": []
    },
    {
      "cell_type": "code",
      "source": [
        "nepochs = 10\n",
        "for epoch in range(nepochs):\n",
        "  for x_batch, y_batch in mydataloader:\n",
        "    # build computation graph\n",
        "    yhat = mymodel(x_batch)\n",
        "    myloss = criterion(y_batch, yhat)\n",
        "\n",
        "    # optimization\n",
        "    optimizer.zero_grad() # zero out gradient\n",
        "    myloss.backward() # back propagation\n",
        "    optimizer.step() # updata parameters\n",
        "\n",
        "  a = mymodel[0].weight.item()\n",
        "  b = mymodel[0].bias.item()\n",
        "  print(f\"Epoch: {epoch + 1} / {nepochs}\")\n",
        "  print(f\"MSE: {myloss: .2e}; a: {a:.4f}; b: {b:.4f}\")"
      ],
      "metadata": {
        "colab": {
          "base_uri": "https://localhost:8080/"
        },
        "id": "GZ35xOAOtCfS",
        "outputId": "d7777e76-d002-49a8-9a93-f295cd2a1c63"
      },
      "execution_count": 14,
      "outputs": [
        {
          "output_type": "stream",
          "name": "stdout",
          "text": [
            "Epoch: 1 / 10\n",
            "MSE:  1.57e-02; a: 1.5951; b: 1.2081\n",
            "Epoch: 2 / 10\n",
            "MSE:  4.06e-03; a: 1.7941; b: 1.1058\n",
            "Epoch: 3 / 10\n",
            "MSE:  1.05e-03; a: 1.8953; b: 1.0538\n",
            "Epoch: 4 / 10\n",
            "MSE:  2.71e-04; a: 1.9468; b: 1.0274\n",
            "Epoch: 5 / 10\n",
            "MSE:  7.01e-05; a: 1.9729; b: 1.0139\n",
            "Epoch: 6 / 10\n",
            "MSE:  1.81e-05; a: 1.9862; b: 1.0071\n",
            "Epoch: 7 / 10\n",
            "MSE:  4.69e-06; a: 1.9930; b: 1.0036\n",
            "Epoch: 8 / 10\n",
            "MSE:  1.21e-06; a: 1.9964; b: 1.0018\n",
            "Epoch: 9 / 10\n",
            "MSE:  3.13e-07; a: 1.9982; b: 1.0009\n",
            "Epoch: 10 / 10\n",
            "MSE:  8.10e-08; a: 1.9991; b: 1.0005\n"
          ]
        }
      ]
    },
    {
      "cell_type": "markdown",
      "source": [
        "# Regression with ReLU neural net"
      ],
      "metadata": {
        "id": "R8Fydg4OKZEJ"
      }
    },
    {
      "cell_type": "code",
      "source": [
        "class SinData(Dataset):\n",
        "    def __init__(self, n, p = 5, sigma = 0):\n",
        "      self.n = n\n",
        "      self.x = 2 * torch.rand(n, p) - 1\n",
        "      self.x1 = self.x[:, :1]\n",
        "      self.y = torch.sin(4 * self.x1) + sigma * torch.randn(n, 1)\n",
        "\n",
        "    def __len__(self):\n",
        "        return self.n\n",
        "\n",
        "    def __getitem__(self, idx):\n",
        "        return self.x[idx], self.y[idx]\n",
        "\n",
        "\n",
        "# initialize a training model\n",
        "train_model = nn.Sequential(\n",
        "    nn.Linear(5, 256),\n",
        "    nn.ReLU(),\n",
        "    nn.Linear(256, 128),\n",
        "    nn.ReLU(),\n",
        "    nn.Linear(128, 1)\n",
        ")\n",
        "\n",
        "# prepare TRAINING dataset and dataloaders\n",
        "train_data = SinData(n = 200, sigma = 0.2)\n",
        "train_loader = DataLoader(train_data, batch_size = 200) # simple GD\n",
        "test_data = SinData(n = 200, sigma = 0.2)\n",
        "test_loader = DataLoader(test_data, batch_size = 200) # simple GD\n",
        "\n",
        "# set up optimization with SGD\n",
        "criterion = nn.MSELoss()\n",
        "\n",
        "# WITHOUT WEIGHT DECAY\n",
        "optimizer = optim.Adam(train_model.parameters(), lr = 0.001)\n",
        "# # WITH WEIGHT DECAY\n",
        "# optimizer = optim.Adam(train_model.parameters(), lr = 0.001, weight_decay = 0.01)"
      ],
      "metadata": {
        "id": "psX71cACP7pD"
      },
      "execution_count": 15,
      "outputs": []
    },
    {
      "cell_type": "code",
      "source": [
        "nepochs = 3000\n",
        "for epoch in range(nepochs):\n",
        "  for x_batch, y_batch in train_loader:\n",
        "    # build computation graph\n",
        "    yhat = train_model(x_batch)\n",
        "    myloss = criterion(y_batch, yhat)\n",
        "\n",
        "    # optimizatin\n",
        "    optimizer.zero_grad() # zero out gradient\n",
        "    myloss.backward() # back propagation\n",
        "    optimizer.step() # updata parameters\n",
        "\n",
        "  if epoch % 300 == 299:\n",
        "    # evalulate MSE on the WHOLE traning / testing dataset\n",
        "    with torch.no_grad():\n",
        "      # training MSE\n",
        "      y_hat_train = train_model(train_data.x)\n",
        "      myloss_train = criterion(y_hat_train, train_data.y)\n",
        "      # testing MSE\n",
        "      x_test, y_test = next(iter(test_loader))\n",
        "      y_test_hat = train_model(x_test)\n",
        "      myloss_test = criterion(y_test_hat, y_test)\n",
        "    print(f\"Epoch: {epoch + 1} / {nepochs}; MSE (training): {myloss_train: .2e}; MSE (testing): {myloss_test: .2e}\")\n"
      ],
      "metadata": {
        "colab": {
          "base_uri": "https://localhost:8080/"
        },
        "id": "tBF2mHMFQjk7",
        "outputId": "a91889da-7a84-4252-e125-dfc4bc58cc8c"
      },
      "execution_count": 16,
      "outputs": [
        {
          "output_type": "stream",
          "name": "stdout",
          "text": [
            "Epoch: 300 / 3000; MSE (training):  1.24e-03; MSE (testing):  1.41e-01\n",
            "Epoch: 600 / 3000; MSE (training):  1.61e-04; MSE (testing):  1.42e-01\n",
            "Epoch: 900 / 3000; MSE (training):  5.29e-05; MSE (testing):  1.43e-01\n",
            "Epoch: 1200 / 3000; MSE (training):  3.34e-06; MSE (testing):  1.42e-01\n",
            "Epoch: 1500 / 3000; MSE (training):  7.52e-07; MSE (testing):  1.42e-01\n",
            "Epoch: 1800 / 3000; MSE (training):  4.33e-05; MSE (testing):  1.41e-01\n",
            "Epoch: 2100 / 3000; MSE (training):  6.22e-05; MSE (testing):  1.41e-01\n",
            "Epoch: 2400 / 3000; MSE (training):  3.66e-04; MSE (testing):  1.42e-01\n",
            "Epoch: 2700 / 3000; MSE (training):  3.87e-12; MSE (testing):  1.40e-01\n",
            "Epoch: 3000 / 3000; MSE (training):  1.23e-14; MSE (testing):  1.40e-01\n"
          ]
        }
      ]
    },
    {
      "cell_type": "code",
      "source": [
        "# fitted value\n",
        "x1_train, y_train = train_data.x1, train_data.y\n",
        "x1_test, y_test = test_data.x1, test_data.y\n",
        "with torch.no_grad():\n",
        "  y_train_hat = train_model(train_data.x)\n",
        "  y_test_hat = train_model(test_data.x)"
      ],
      "metadata": {
        "id": "TR6Yzk6qFE8f"
      },
      "execution_count": 17,
      "outputs": []
    },
    {
      "cell_type": "code",
      "source": [
        "#@title Visualization of training data\n",
        "plt.rcParams['figure.figsize'] = [6, 6]\n",
        "\n",
        "plt.plot(x1_train, y_train, '.')\n",
        "plt.ylim(-1.6, 1.6)\n",
        "plt.xlabel(\"x1\")\n",
        "plt.ylabel(\"y\")\n",
        "plt.title(\"True data (n = 200)\")"
      ],
      "metadata": {
        "colab": {
          "base_uri": "https://localhost:8080/",
          "height": 581
        },
        "id": "GN2exy1qkevt",
        "outputId": "907d68af-f044-484d-c854-310b7b3697d5",
        "cellView": "form"
      },
      "execution_count": 18,
      "outputs": [
        {
          "output_type": "execute_result",
          "data": {
            "text/plain": [
              "Text(0.5, 1.0, 'True data (n = 200)')"
            ]
          },
          "metadata": {},
          "execution_count": 18
        },
        {
          "output_type": "display_data",
          "data": {
            "text/plain": [
              "<Figure size 600x600 with 1 Axes>"
            ],
            "image/png": "[encoded data removed]"
          },
          "metadata": {}
        }
      ]
    },
    {
      "cell_type": "code",
      "source": [
        "#@title Visulization of fitted values on training data\n",
        "plt.rcParams['figure.figsize'] = [15, 6]\n",
        "\n",
        "plt.subplot(1, 2, 1)\n",
        "plt.plot(x1_train, y_train_hat, '.')\n",
        "plt.ylim(-1.6, 1.6)\n",
        "plt.xlabel(\"x1\")\n",
        "plt.ylabel(\"fitted y\")\n",
        "plt.title(\"Fitted data\")\n",
        "\n",
        "plt.subplot(1, 2, 2)\n",
        "plt.plot(y_train, y_train_hat, '.')\n",
        "plt.xlim(-1.6, 1.6)\n",
        "plt.ylim(-1.6, 1.6)\n",
        "plt.xlabel(\"fitted y\")\n",
        "plt.ylabel(\"true y\")\n",
        "plt.title(\"Fitted y versus true y\")"
      ],
      "metadata": {
        "colab": {
          "base_uri": "https://localhost:8080/",
          "height": 581
        },
        "id": "m4xebrTAVJiI",
        "outputId": "1e47a8d7-20b6-402b-a7c2-584d7c03bd31",
        "cellView": "form"
      },
      "execution_count": 19,
      "outputs": [
        {
          "output_type": "execute_result",
          "data": {
            "text/plain": [
              "Text(0.5, 1.0, 'Fitted y versus true y')"
            ]
          },
          "metadata": {},
          "execution_count": 19
        },
        {
          "output_type": "display_data",
          "data": {
            "text/plain": [
              "<Figure size 1500x600 with 2 Axes>"
            ],
            "image/png": "[encoded data removed]"
          },
          "metadata": {}
        }
      ]
    },
    {
      "cell_type": "code",
      "source": [
        "#@title Visualization of fitted value on test data\n",
        "plt.rcParams['figure.figsize'] = [15, 6]\n",
        "\n",
        "plt.subplot(1, 2, 1)\n",
        "plt.plot(x1_test, y_test_hat, '.')\n",
        "plt.ylim(-1.6, 1.6)\n",
        "plt.xlabel(\"x1\")\n",
        "plt.ylabel(\"fitted y\")\n",
        "plt.title(\"Fitted test data\")\n",
        "\n",
        "plt.subplot(1, 2, 2)\n",
        "plt.plot(y_test, y_test_hat, '.')\n",
        "plt.xlim(-1.6, 1.6)\n",
        "plt.ylim(-1.6, 1.6)\n",
        "plt.xlabel(\"fitted y\")\n",
        "plt.ylabel(\"true y\")\n",
        "plt.title(\"Fitted y versus true y\")"
      ],
      "metadata": {
        "colab": {
          "base_uri": "https://localhost:8080/",
          "height": 581
        },
        "id": "ttOfeIDoX5V8",
        "outputId": "cd96e77d-cc79-4ca9-9791-4a3c225c00f7",
        "cellView": "form"
      },
      "execution_count": 20,
      "outputs": [
        {
          "output_type": "execute_result",
          "data": {
            "text/plain": [
              "Text(0.5, 1.0, 'Fitted y versus true y')"
            ]
          },
          "metadata": {},
          "execution_count": 20
        },
        {
          "output_type": "display_data",
          "data": {
            "text/plain": [
              "<Figure size 1500x600 with 2 Axes>"
            ],
            "image/png": "[encoded data removed]"
          },
          "metadata": {}
        }
      ]
    },
    {
      "cell_type": "markdown",
      "source": [
        "# Image classification with CNN"
      ],
      "metadata": {
        "id": "32bDIdqmKeOC"
      }
    },
    {
      "cell_type": "markdown",
      "source": [
        "## Check GPU availability"
      ],
      "metadata": {
        "id": "XGvogMBDK9iJ"
      }
    },
    {
      "cell_type": "code",
      "source": [
        "# check device availability\n",
        "device = torch.device(\"cuda\" if torch.cuda.is_available() else \"cpu\")\n",
        "print(device)"
      ],
      "metadata": {
        "colab": {
          "base_uri": "https://localhost:8080/"
        },
        "id": "hAUgA8wOrV2b",
        "outputId": "8188d1a7-bcda-44bd-a4ef-243d88e7594d"
      },
      "execution_count": 21,
      "outputs": [
        {
          "output_type": "stream",
          "name": "stdout",
          "text": [
            "cuda\n"
          ]
        }
      ]
    },
    {
      "cell_type": "markdown",
      "source": [
        "## Prepare datasets and data loaders"
      ],
      "metadata": {
        "id": "TC4GzO79LCNb"
      }
    },
    {
      "cell_type": "code",
      "source": [
        "# define preprocessing transforms for images\n",
        "\n",
        "# uncomment the first two transforms to introduce data augmentation\n",
        "transform = transforms.Compose([\n",
        "    # transforms.ColorJitter(brightness = 0.05, contrast = 0.05),\n",
        "    # transforms.RandomAffine(degrees = 10, translate = (0.1,0.1), scale = (0.9, 1.1)),\n",
        "    transforms.ToTensor(),\n",
        "    transforms.Normalize((0.1307,), (0.3081,))\n",
        "])\n",
        "\n",
        "# import MNIST dataset\n",
        "train_data = datasets.MNIST('../data', train = True, download = True, transform = transform)\n",
        "test_data = datasets.MNIST('../data', train = False, transform = transform)\n",
        "\n",
        "# prepare dataset loaders\n",
        "train_loader = torch.utils.data.DataLoader(train_data, batch_size = 256, shuffle = True)\n",
        "test_loader = torch.utils.data.DataLoader(test_data, batch_size = 256)"
      ],
      "metadata": {
        "id": "2ed6fVmz457c",
        "outputId": "8412bcd2-4f8e-4c73-c40b-d378afd533a9",
        "colab": {
          "base_uri": "https://localhost:8080/",
          "height": 443,
          "referenced_widgets": [
            "4d5b2b7e350e41e68b82fefa42db1e86",
            "64302fdcd4864bbbb4602e46ba5d206a",
            "f5f52f4333bd49318f88a09e388740ca",
            "c84ec43b12ed4e5ab51be1e97c63494c",
            "687ce2c9fa7c4e8999ff78f231e91277",
            "aa19a4fb88914073b4b24da22c1505ce",
            "2292b40f4d144559bd4210617fb3661c",
            "aa5403bfb5b4436d8440d5cf46068248",
            "47abab098c5d41d0918ed4f3edd9bc2d",
            "547a33c4500e40149df2b80700fa3e77",
            "36f7cb188daf4fac8268fb7da9eb03ed",
            "54e774d762b24ca9a7cb280fd87b5258",
            "dcd9fa23f51a4ecd8fd5f09de6077c35",
            "a5d4e7bdf70e4f3b934777968547b012",
            "a01d3518018446428e1ec4d8a08c185a",
            "e0fd279c925c4a0ab266f5c04e9bec84",
            "05342af788b54a1d907e0230432c7e4a",
            "7a04b534886841f98071144583f6161d",
            "86f03f0305ca4d90aad9c7116dc1c367",
            "a27b6438ccc243c1a5a3118a1afeed7f",
            "b715e5c63b1b45e69aee818870a01dbe",
            "c385973a35a24912a3fb0a867988269f",
            "f78edb8dc59842faa17782e7df125b13",
            "8df6bc030dfa4bf68e448938a2079c8f",
            "d5ffb3537dcb49a1aeb2cd9995a863e0",
            "491ea1d019fa4bc1a5d8f254abe16505",
            "d76853b97b5c4086a05c032372cf5346",
            "e36ef36526b7498995e281b005705a96",
            "b83600622df34aa0a2074b1b39a205a8",
            "ac648a74ecdc49018e88f3058dbd965c",
            "1e0773ab54e440e59caa4cda1bed5c69",
            "9fcb5a30903a4aa28d147f12b5aece75",
            "c824e6546eae483a9ed36b21cc3a320f",
            "b6bb6ce71f924dad96929eede2766b91",
            "59b89faf9b1b4ee4a9677f3fa5b5a5d8",
            "da5f9a7bdd6244feb33a3494dd43a74e",
            "100b74c47fd74e1ab32996d95b372744",
            "b889d070e8214c909672bbd998dd7790",
            "6bf58e8b9438496ea9f7952f6a06a509",
            "fdbbd130cf4344398eb3211e4cad91e5",
            "eae60eb22f4a47e393dfec99fe5ef229",
            "51e8f7c35e734f90a8f6a5a1a0750b56",
            "f7f597f27b294ad18dc5a579c58368d6",
            "f38c3c0663fd4b8a8103c3423acd2ee6"
          ]
        }
      },
      "execution_count": null,
      "outputs": [
        {
          "output_type": "stream",
          "name": "stdout",
          "text": [
            "Downloading http://yann.lecun.com/exdb/mnist/train-images-idx3-ubyte.gz\n",
            "Downloading http://yann.lecun.com/exdb/mnist/train-images-idx3-ubyte.gz to ../data/MNIST/raw/train-images-idx3-ubyte.gz\n"
          ]
        },
        {
          "output_type": "display_data",
          "data": {
            "text/plain": [
              "  0%|          | 0/9912422 [00:00<?, ?it/s]"
            ],
            "application/vnd.jupyter.widget-view+json": {
              "version_major": 2,
              "version_minor": 0,
              "model_id": "4d5b2b7e350e41e68b82fefa42db1e86"
            }
          },
          "metadata": {}
        },
        {
          "output_type": "stream",
          "name": "stdout",
          "text": [
            "Extracting ../data/MNIST/raw/train-images-idx3-ubyte.gz to ../data/MNIST/raw\n",
            "\n",
            "Downloading http://yann.lecun.com/exdb/mnist/train-labels-idx1-ubyte.gz\n",
            "Downloading http://yann.lecun.com/exdb/mnist/train-labels-idx1-ubyte.gz to ../data/MNIST/raw/train-labels-idx1-ubyte.gz\n"
          ]
        },
        {
          "output_type": "display_data",
          "data": {
            "text/plain": [
              "  0%|          | 0/28881 [00:00<?, ?it/s]"
            ],
            "application/vnd.jupyter.widget-view+json": {
              "version_major": 2,
              "version_minor": 0,
              "model_id": "54e774d762b24ca9a7cb280fd87b5258"
            }
          },
          "metadata": {}
        },
        {
          "output_type": "stream",
          "name": "stdout",
          "text": [
            "Extracting ../data/MNIST/raw/train-labels-idx1-ubyte.gz to ../data/MNIST/raw\n",
            "\n",
            "Downloading http://yann.lecun.com/exdb/mnist/t10k-images-idx3-ubyte.gz\n",
            "Downloading http://yann.lecun.com/exdb/mnist/t10k-images-idx3-ubyte.gz to ../data/MNIST/raw/t10k-images-idx3-ubyte.gz\n"
          ]
        },
        {
          "output_type": "display_data",
          "data": {
            "text/plain": [
              "  0%|          | 0/1648877 [00:00<?, ?it/s]"
            ],
            "application/vnd.jupyter.widget-view+json": {
              "version_major": 2,
              "version_minor": 0,
              "model_id": "f78edb8dc59842faa17782e7df125b13"
            }
          },
          "metadata": {}
        },
        {
          "output_type": "stream",
          "name": "stdout",
          "text": [
            "Extracting ../data/MNIST/raw/t10k-images-idx3-ubyte.gz to ../data/MNIST/raw\n",
            "\n",
            "Downloading http://yann.lecun.com/exdb/mnist/t10k-labels-idx1-ubyte.gz\n",
            "Downloading http://yann.lecun.com/exdb/mnist/t10k-labels-idx1-ubyte.gz to ../data/MNIST/raw/t10k-labels-idx1-ubyte.gz\n"
          ]
        },
        {
          "output_type": "display_data",
          "data": {
            "text/plain": [
              "  0%|          | 0/4542 [00:00<?, ?it/s]"
            ],
            "application/vnd.jupyter.widget-view+json": {
              "version_major": 2,
              "version_minor": 0,
              "model_id": "b6bb6ce71f924dad96929eede2766b91"
            }
          },
          "metadata": {}
        },
        {
          "output_type": "stream",
          "name": "stdout",
          "text": [
            "Extracting ../data/MNIST/raw/t10k-labels-idx1-ubyte.gz to ../data/MNIST/raw\n",
            "\n"
          ]
        }
      ]
    },
    {
      "cell_type": "markdown",
      "source": [
        "## Visualize some images"
      ],
      "metadata": {
        "id": "nVJVdXLLLGdL"
      }
    },
    {
      "cell_type": "code",
      "source": [
        "#@title Visualize some digits\n",
        "examples = enumerate(test_loader)\n",
        "batch_idx, (example_data, example_targets) = next(examples)\n",
        "print(example_data.shape)\n",
        "\n",
        "plt.rcParams['figure.figsize'] = [9, 6]\n",
        "fig = plt.figure()\n",
        "for i in range(6):\n",
        "  plt.subplot(2,3,i+1)\n",
        "  plt.imshow(example_data[i][0], cmap='gray', interpolation='none')\n",
        "  plt.title(\"Ground Truth: {}\".format(example_targets[i]))\n",
        "  plt.xticks([])\n",
        "  plt.yticks([])"
      ],
      "metadata": {
        "colab": {
          "base_uri": "https://localhost:8080/",
          "height": 393
        },
        "id": "TtIIT-DYyTMv",
        "outputId": "8bcbf8dd-f3d4-45f8-e971-5f352c3c0a92",
        "cellView": "form"
      },
      "execution_count": null,
      "outputs": [
        {
          "output_type": "stream",
          "name": "stdout",
          "text": [
            "torch.Size([256, 1, 28, 28])\n"
          ]
        },
        {
          "output_type": "display_data",
          "data": {
            "text/plain": [
              "<Figure size 648x432 with 6 Axes>"
            ],
            "image/png": "[encoded data removed]"
          },
          "metadata": {}
        }
      ]
    },
    {
      "cell_type": "markdown",
      "source": [
        "## Define CNN structure and some utils functions"
      ],
      "metadata": {
        "id": "mkpii3MBLKOA"
      }
    },
    {
      "cell_type": "code",
      "source": [
        "# our CNN network structure, initialize the CNN model\n",
        "class myCNN(nn.Module):\n",
        "    def __init__(self):\n",
        "        super(myCNN, self).__init__()\n",
        "        self.model = nn.Sequential(\n",
        "            nn.Conv2d(1, 32, 3, 1),\n",
        "            nn.ReLU(),\n",
        "            nn.Conv2d(32, 64, 3, 1),\n",
        "            nn.ReLU(),\n",
        "            nn.MaxPool2d(2),\n",
        "            nn.Dropout(0.25),\n",
        "            nn.Flatten(),\n",
        "            nn.Linear(9216, 128),\n",
        "            nn.ReLU(),\n",
        "            nn.Dropout(0.25),\n",
        "            nn.Linear(128, 10),\n",
        "            nn.LogSoftmax(dim = 1)\n",
        "        )\n",
        "\n",
        "    def forward(self, x):\n",
        "        return self.model(x)\n",
        "\n",
        "# a utils function for training\n",
        "def train(model, device, train_loader, optimizer, epoch):\n",
        "    model.train() # enable dropout\n",
        "    correct = 0\n",
        "    for batch_idx, (data, target) in enumerate(train_loader):\n",
        "        # transfer batches of data to specified device\n",
        "        data, target = data.to(device), target.to(device)\n",
        "\n",
        "        # build computation graph\n",
        "        output = model(data)\n",
        "        loss = F.nll_loss(output, target)\n",
        "\n",
        "        # the optimization part\n",
        "        optimizer.zero_grad()\n",
        "        loss.backward()\n",
        "        optimizer.step()\n",
        "\n",
        "        # count the corrected classified cases\n",
        "        pred = output.argmax(dim = 1, keepdim = True)  # get the index of the max log-probability\n",
        "        correct += pred.eq(target.view_as(pred)).sum().item()\n",
        "\n",
        "    print(f\"Epoch {epoch + 1}:\", end = \"\")\n",
        "    print(f\" Training accuracy: {100. * correct / len(train_loader.dataset): .2f} %\", end = \";\")\n",
        "\n",
        "# a utils function for evaluation on test dataset\n",
        "def test(model, device, test_loader):\n",
        "    model.eval() # disable dropout\n",
        "    test_loss = 0\n",
        "    correct = 0\n",
        "    with torch.no_grad():\n",
        "        for data, target in test_loader:\n",
        "            data, target = data.to(device), target.to(device)\n",
        "            output = model(data)\n",
        "            test_loss += F.nll_loss(output, target, reduction='sum').item()  # sum up batch loss\n",
        "            pred = output.argmax(dim=1, keepdim=True)  # get the index of the max log-probability\n",
        "            correct += pred.eq(target.view_as(pred)).sum().item()\n",
        "\n",
        "    test_loss /= len(test_loader.dataset)\n",
        "\n",
        "    print(' Testing accuracy: {}/{} ({:.0f}%)'.format(\n",
        "        correct, len(test_loader.dataset),\n",
        "        100. * correct / len(test_loader.dataset)))\n"
      ],
      "metadata": {
        "id": "iqLrjqPzrUgb"
      },
      "execution_count": null,
      "outputs": []
    },
    {
      "cell_type": "markdown",
      "source": [
        "## Train CNN"
      ],
      "metadata": {
        "id": "QgwDZcPRLOgq"
      }
    },
    {
      "cell_type": "code",
      "source": [
        "device"
      ],
      "metadata": {
        "colab": {
          "base_uri": "https://localhost:8080/"
        },
        "id": "Lx24mSf_XvG1",
        "outputId": "a14f52b1-5d33-4b10-9166-0b85cd2eefef"
      },
      "execution_count": null,
      "outputs": [
        {
          "output_type": "execute_result",
          "data": {
            "text/plain": [
              "device(type='cuda')"
            ]
          },
          "metadata": {},
          "execution_count": 12
        }
      ]
    },
    {
      "cell_type": "code",
      "source": [
        "# the training\n",
        "model = myCNN() # initialize our model\n",
        "model = model.to(device)\n",
        "optimizer = optim.Adam(model.parameters(), lr = 0.005)\n",
        "\n",
        "nepochs = 10\n",
        "for epoch in range(nepochs):\n",
        "  train(model, device, train_loader, optimizer, epoch)\n",
        "  test(model, device, test_loader)"
      ],
      "metadata": {
        "colab": {
          "base_uri": "https://localhost:8080/"
        },
        "id": "3dVJzkQisV11",
        "outputId": "aafbfb6b-914e-42ac-b378-54eea860e312"
      },
      "execution_count": null,
      "outputs": [
        {
          "output_type": "stream",
          "name": "stdout",
          "text": [
            "Epoch 1: Training accuracy:  93.75 %; Testing accuracy: 9847/10000 (98%)\n",
            "Epoch 2: Training accuracy:  97.94 %; Testing accuracy: 9856/10000 (99%)\n",
            "Epoch 3: Training accuracy:  98.33 %; Testing accuracy: 9891/10000 (99%)\n",
            "Epoch 4: Training accuracy:  98.72 %; Testing accuracy: 9883/10000 (99%)\n",
            "Epoch 5: Training accuracy:  98.74 %; Testing accuracy: 9890/10000 (99%)\n",
            "Epoch 6: Training accuracy:  98.85 %; Testing accuracy: 9888/10000 (99%)\n",
            "Epoch 7: Training accuracy:  98.88 %; Testing accuracy: 9879/10000 (99%)\n",
            "Epoch 8: Training accuracy:  99.07 %; Testing accuracy: 9906/10000 (99%)\n",
            "Epoch 9: Training accuracy:  99.14 %; Testing accuracy: 9909/10000 (99%)\n",
            "Epoch 10: Training accuracy:  99.24 %; Testing accuracy: 9893/10000 (99%)\n"
          ]
        }
      ]
    },
    {
      "cell_type": "markdown",
      "source": [
        "## Evaluate CNN on digit images (written and taken from iPad, not from MNIST test dataset)"
      ],
      "metadata": {
        "id": "AQCkMYgPm4FR"
      }
    },
    {
      "cell_type": "markdown",
      "source": [
        "MAKE SURE you have already downloaded the `test.pkl` file from https://github.umn.edu/liu00980/STAT8056_intro_pytorch. Also, MAKE SURE you have uploaded it in Colab's current working directory."
      ],
      "metadata": {
        "id": "riQfF_Y7_vNZ"
      }
    },
    {
      "cell_type": "code",
      "source": [
        "#@title Visualization of self-written digits\n",
        "\n",
        "import pickle\n",
        "testdata = pickle.load(open(\"test.pkl\", \"rb\"))\n",
        "\n",
        "# digit images (written by myself and taken from my iPad)\n",
        "# (cont.) will be served as an additional test dataset to evaluate the CNN\n",
        "plt.rcParams['figure.figsize'] = [12, 6]\n",
        "for i in range(10):\n",
        "  plt.subplot(2,5,i + 1)\n",
        "  plt.imshow(testdata[i][0][0], cmap='gray', interpolation='none')\n",
        "  plt.title(\"Label: {}\".format(testdata[i][1].item()))\n",
        "  plt.xticks([])\n",
        "  plt.yticks([])"
      ],
      "metadata": {
        "colab": {
          "base_uri": "https://localhost:8080/",
          "height": 344
        },
        "id": "0AkUYkionF9T",
        "outputId": "df32c2cb-3690-4d48-c70d-05350723fe4b",
        "cellView": "form"
      },
      "execution_count": null,
      "outputs": [
        {
          "output_type": "display_data",
          "data": {
            "text/plain": [
              "<Figure size 864x432 with 10 Axes>"
            ],
            "image/png": "[encoded data removed]"
          },
          "metadata": {}
        }
      ]
    },
    {
      "cell_type": "code",
      "source": [
        "# prepare dataset and dataloader for this test dataset\n",
        "class myMNIST(Dataset):\n",
        "    def __init__(self, dataset):\n",
        "      self.sample_size = len(dataset)\n",
        "      self.dataset = dataset\n",
        "\n",
        "    def __len__(self):\n",
        "        return self.sample_size\n",
        "\n",
        "    def __getitem__(self, idx):\n",
        "        return self.dataset[idx][0], self.dataset[idx][1]\n",
        "\n",
        "mytestdataset = myMNIST(testdata)\n",
        "mytestloader = DataLoader(mytestdataset, batch_size = 10)\n",
        "\n",
        "# prediction\n",
        "with torch.no_grad():\n",
        "  data, target = next(iter(mytestloader))\n",
        "  data, target = data.to(device), target.to(device)\n",
        "  output = model(data)\n",
        "  pred = output.argmax(dim=1, keepdim = True)  # get the index of the max log-probability"
      ],
      "metadata": {
        "id": "jbXNe-nDlg6q"
      },
      "execution_count": null,
      "outputs": []
    },
    {
      "cell_type": "code",
      "source": [
        "#@title Visualize the prediction result\n",
        "plt.rcParams['figure.figsize'] = [12, 6]\n",
        "for i in range(10):\n",
        "  plt.subplot(2,5,i + 1)\n",
        "  plt.imshow(testdata[i][0][0], cmap='gray', interpolation='none')\n",
        "  plt.title(\"Truth: {}; Pred: {}\".format(testdata[i][1].item(), pred[i][0]))\n",
        "  plt.xticks([])\n",
        "  plt.yticks([])\n",
        "\n",
        "print(f\"Test accuracy on my own test images: {pred.eq(target.view_as(pred)).sum().item() / 10}\")"
      ],
      "metadata": {
        "colab": {
          "base_uri": "https://localhost:8080/",
          "height": 361
        },
        "id": "HNj1M07JmIlp",
        "outputId": "2d284dae-c4cc-498d-b127-22665aab4626",
        "cellView": "form"
      },
      "execution_count": null,
      "outputs": [
        {
          "output_type": "stream",
          "name": "stdout",
          "text": [
            "Test accuracy on my own test images: 0.8\n"
          ]
        },
        {
          "output_type": "display_data",
          "data": {
            "text/plain": [
              "<Figure size 864x432 with 10 Axes>"
            ],
            "image/png": "[encoded data removed]"
          },
          "metadata": {}
        }
      ]
    },
    {
      "cell_type": "markdown",
      "source": [
        "## Model summary using pytorch-model-summary"
      ],
      "metadata": {
        "id": "qhKbBVOZK5PR"
      }
    },
    {
      "cell_type": "code",
      "source": [
        "# model summary\n",
        "! pip install pytorch-model-summary\n",
        "from pytorch_model_summary import summary\n",
        "print(summary(model.cpu(), torch.zeros((1, 1, 28, 28)), show_input=True))"
      ],
      "metadata": {
        "colab": {
          "base_uri": "https://localhost:8080/"
        },
        "id": "gMMTwgwg3l1T",
        "outputId": "c1fb2e46-bfc8-4bda-e56f-ac2a76c5506e"
      },
      "execution_count": null,
      "outputs": [
        {
          "output_type": "stream",
          "name": "stdout",
          "text": [
            "Looking in indexes: https://pypi.org/simple, https://us-python.pkg.dev/colab-wheels/public/simple/\n",
            "Collecting pytorch-model-summary\n",
            "  Downloading pytorch_model_summary-0.1.2-py3-none-any.whl (9.3 kB)\n",
            "Requirement already satisfied: tqdm in /usr/local/lib/python3.8/dist-packages (from pytorch-model-summary) (4.64.1)\n",
            "Requirement already satisfied: torch in /usr/local/lib/python3.8/dist-packages (from pytorch-model-summary) (1.13.1+cu116)\n",
            "Requirement already satisfied: numpy in /usr/local/lib/python3.8/dist-packages (from pytorch-model-summary) (1.22.4)\n",
            "Requirement already satisfied: typing-extensions in /usr/local/lib/python3.8/dist-packages (from torch->pytorch-model-summary) (4.5.0)\n",
            "Installing collected packages: pytorch-model-summary\n",
            "Successfully installed pytorch-model-summary-0.1.2\n",
            "-----------------------------------------------------------------------\n",
            "      Layer (type)         Input Shape         Param #     Tr. Param #\n",
            "=======================================================================\n",
            "          Conv2d-1      [1, 1, 28, 28]             320             320\n",
            "            ReLU-2     [1, 32, 26, 26]               0               0\n",
            "          Conv2d-3     [1, 32, 26, 26]          18,496          18,496\n",
            "            ReLU-4     [1, 64, 24, 24]               0               0\n",
            "       MaxPool2d-5     [1, 64, 24, 24]               0               0\n",
            "         Dropout-6     [1, 64, 12, 12]               0               0\n",
            "         Flatten-7     [1, 64, 12, 12]               0               0\n",
            "          Linear-8           [1, 9216]       1,179,776       1,179,776\n",
            "            ReLU-9            [1, 128]               0               0\n",
            "        Dropout-10            [1, 128]               0               0\n",
            "         Linear-11            [1, 128]           1,290           1,290\n",
            "     LogSoftmax-12             [1, 10]               0               0\n",
            "=======================================================================\n",
            "Total params: 1,199,882\n",
            "Trainable params: 1,199,882\n",
            "Non-trainable params: 0\n",
            "-----------------------------------------------------------------------\n"
          ]
        }
      ]
    },
    {
      "cell_type": "markdown",
      "source": [
        "## Save models"
      ],
      "metadata": {
        "id": "ipQEn8QsKsDZ"
      }
    },
    {
      "cell_type": "markdown",
      "source": [
        "### The state dictionary method"
      ],
      "metadata": {
        "id": "cmuKn3gXKvsR"
      }
    },
    {
      "cell_type": "code",
      "source": [
        "# save parameter values\n",
        "torch.save(model.state_dict(), \"model_dict.pt\")\n",
        "\n",
        "# When one wants to use saved model next time:\n",
        "# 1. initialize the same CNN model\n",
        "model_new = myCNN()\n",
        "# 2. load parameter values\n",
        "model_new.load_state_dict(torch.load(\"model_dict.pt\"))\n",
        "model_new.eval()"
      ],
      "metadata": {
        "colab": {
          "base_uri": "https://localhost:8080/"
        },
        "id": "BgCAjkCTA0mK",
        "outputId": "d6de625a-1b16-4e70-b9b5-0f499acf2f53"
      },
      "execution_count": null,
      "outputs": [
        {
          "output_type": "execute_result",
          "data": {
            "text/plain": [
              "myCNN(\n",
              "  (model): Sequential(\n",
              "    (0): Conv2d(1, 32, kernel_size=(3, 3), stride=(1, 1))\n",
              "    (1): ReLU()\n",
              "    (2): Conv2d(32, 64, kernel_size=(3, 3), stride=(1, 1))\n",
              "    (3): ReLU()\n",
              "    (4): MaxPool2d(kernel_size=2, stride=2, padding=0, dilation=1, ceil_mode=False)\n",
              "    (5): Dropout(p=0.25, inplace=False)\n",
              "    (6): Flatten(start_dim=1, end_dim=-1)\n",
              "    (7): Linear(in_features=9216, out_features=128, bias=True)\n",
              "    (8): ReLU()\n",
              "    (9): Dropout(p=0.25, inplace=False)\n",
              "    (10): Linear(in_features=128, out_features=10, bias=True)\n",
              "    (11): LogSoftmax(dim=1)\n",
              "  )\n",
              ")"
            ]
          },
          "metadata": {},
          "execution_count": 18
        }
      ]
    },
    {
      "cell_type": "markdown",
      "source": [
        "### The checkpoint method"
      ],
      "metadata": {
        "id": "JLtaIIg8KybB"
      }
    },
    {
      "cell_type": "code",
      "source": [
        "# save checkpoint for resuming training\n",
        "torch.save({\n",
        "            'epoch': epoch,\n",
        "            'model_state_dict': model.state_dict(),\n",
        "            'optimizer_state_dict': optimizer.state_dict()\n",
        "            }, \"model_checkpoint.pt\")\n",
        "\n",
        "# When one wants to use saved model next time:\n",
        "# 1. initialize class and optimizer\n",
        "model_new = myCNN()\n",
        "optimizer_new = optim.Adam(model_new.parameters(), lr = 0.005)\n",
        "# 2. load checkpoints for both model and optimizer\n",
        "checkpoint = torch.load(\"model_checkpoint.pt\")\n",
        "model_new.load_state_dict(checkpoint['model_state_dict'])\n",
        "optimizer_new.load_state_dict(checkpoint['optimizer_state_dict'])\n",
        "epoch = checkpoint['epoch']\n",
        "# 3. do whatever you like :)\n",
        "# - either - evaluate the mode and do some inference\n",
        "model_new.eval()\n",
        "# - or - resume training from your last checkpoint\n",
        "model_new.train()"
      ],
      "metadata": {
        "colab": {
          "base_uri": "https://localhost:8080/"
        },
        "id": "xtObwHkxA6KR",
        "outputId": "df322b5f-ea72-431e-d0de-e2583789bf98"
      },
      "execution_count": null,
      "outputs": [
        {
          "output_type": "execute_result",
          "data": {
            "text/plain": [
              "myCNN(\n",
              "  (model): Sequential(\n",
              "    (0): Conv2d(1, 32, kernel_size=(3, 3), stride=(1, 1))\n",
              "    (1): ReLU()\n",
              "    (2): Conv2d(32, 64, kernel_size=(3, 3), stride=(1, 1))\n",
              "    (3): ReLU()\n",
              "    (4): MaxPool2d(kernel_size=2, stride=2, padding=0, dilation=1, ceil_mode=False)\n",
              "    (5): Dropout(p=0.25, inplace=False)\n",
              "    (6): Flatten(start_dim=1, end_dim=-1)\n",
              "    (7): Linear(in_features=9216, out_features=128, bias=True)\n",
              "    (8): ReLU()\n",
              "    (9): Dropout(p=0.25, inplace=False)\n",
              "    (10): Linear(in_features=128, out_features=10, bias=True)\n",
              "    (11): LogSoftmax(dim=1)\n",
              "  )\n",
              ")"
            ]
          },
          "metadata": {},
          "execution_count": 22
        }
      ]
    },
    {
      "cell_type": "code",
      "source": [
        "print(optimizer.state_dict()['param_groups'][0].keys())\n",
        "print(optimizer.state_dict()['state'][0].keys())"
      ],
      "metadata": {
        "colab": {
          "base_uri": "https://localhost:8080/"
        },
        "id": "kj8s2dnFXyBc",
        "outputId": "c18f775b-38a1-4be5-fbbb-0c938905e733"
      },
      "execution_count": null,
      "outputs": [
        {
          "output_type": "stream",
          "name": "stdout",
          "text": [
            "dict_keys(['lr', 'betas', 'eps', 'weight_decay', 'amsgrad', 'maximize', 'foreach', 'capturable', 'differentiable', 'fused', 'params'])\n",
            "dict_keys(['step', 'exp_avg', 'exp_avg_sq'])\n"
          ]
        }
      ]
    }
  ]
}