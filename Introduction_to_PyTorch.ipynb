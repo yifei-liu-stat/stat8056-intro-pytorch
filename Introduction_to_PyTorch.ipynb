{
  "nbformat": 4,
  "nbformat_minor": 0,
  "metadata": {
    "colab": {
      "name": "Introduction to PyTorch.ipynb",
      "provenance": [],
      "collapsed_sections": []
    },
    "kernelspec": {
      "name": "python3",
      "display_name": "Python 3"
    },
    "language_info": {
      "name": "python"
    },
    "accelerator": "GPU",
    "widgets": {
      "application/vnd.jupyter.widget-state+json": {
        "db0c77e524944885aede0759c4707c04": {
          "model_module": "@jupyter-widgets/controls",
          "model_name": "HBoxModel",
          "model_module_version": "1.5.0",
          "state": {
            "_dom_classes": [],
            "_model_module": "@jupyter-widgets/controls",
            "_model_module_version": "1.5.0",
            "_model_name": "HBoxModel",
            "_view_count": null,
            "_view_module": "@jupyter-widgets/controls",
            "_view_module_version": "1.5.0",
            "_view_name": "HBoxView",
            "box_style": "",
            "children": [
              "IPY_MODEL_7669f1b8a35a46cbb9858af7119f89ad",
              "IPY_MODEL_afd187d3cf98441488f83d11c9af3f69",
              "IPY_MODEL_5dc2216b5a19496ab2ee8a1dbd56edc3"
            ],
            "layout": "IPY_MODEL_4c911b47279846529f238fb9cd396851"
          }
        },
        "7669f1b8a35a46cbb9858af7119f89ad": {
          "model_module": "@jupyter-widgets/controls",
          "model_name": "HTMLModel",
          "model_module_version": "1.5.0",
          "state": {
            "_dom_classes": [],
            "_model_module": "@jupyter-widgets/controls",
            "_model_module_version": "1.5.0",
            "_model_name": "HTMLModel",
            "_view_count": null,
            "_view_module": "@jupyter-widgets/controls",
            "_view_module_version": "1.5.0",
            "_view_name": "HTMLView",
            "description": "",
            "description_tooltip": null,
            "layout": "IPY_MODEL_95c585bea0f647b9b839f49f894d2aaf",
            "placeholder": "​",
            "style": "IPY_MODEL_fbe5276def85413da567eaf15ef130dd",
            "value": ""
          }
        },
        "afd187d3cf98441488f83d11c9af3f69": {
          "model_module": "@jupyter-widgets/controls",
          "model_name": "FloatProgressModel",
          "model_module_version": "1.5.0",
          "state": {
            "_dom_classes": [],
            "_model_module": "@jupyter-widgets/controls",
            "_model_module_version": "1.5.0",
            "_model_name": "FloatProgressModel",
            "_view_count": null,
            "_view_module": "@jupyter-widgets/controls",
            "_view_module_version": "1.5.0",
            "_view_name": "ProgressView",
            "bar_style": "success",
            "description": "",
            "description_tooltip": null,
            "layout": "IPY_MODEL_fb62a4bc194a499ba139c33b4b397114",
            "max": 9912422,
            "min": 0,
            "orientation": "horizontal",
            "style": "IPY_MODEL_8727bf1ff559494a8d8942c5da12f0b2",
            "value": 9912422
          }
        },
        "5dc2216b5a19496ab2ee8a1dbd56edc3": {
          "model_module": "@jupyter-widgets/controls",
          "model_name": "HTMLModel",
          "model_module_version": "1.5.0",
          "state": {
            "_dom_classes": [],
            "_model_module": "@jupyter-widgets/controls",
            "_model_module_version": "1.5.0",
            "_model_name": "HTMLModel",
            "_view_count": null,
            "_view_module": "@jupyter-widgets/controls",
            "_view_module_version": "1.5.0",
            "_view_name": "HTMLView",
            "description": "",
            "description_tooltip": null,
            "layout": "IPY_MODEL_7c867d9d96e445fe9911b0a8573e2eb0",
            "placeholder": "​",
            "style": "IPY_MODEL_267b46f6d806424785c39b789024cc7f",
            "value": " 9913344/? [00:00&lt;00:00, 55003007.26it/s]"
          }
        },
        "4c911b47279846529f238fb9cd396851": {
          "model_module": "@jupyter-widgets/base",
          "model_name": "LayoutModel",
          "model_module_version": "1.2.0",
          "state": {
            "_model_module": "@jupyter-widgets/base",
            "_model_module_version": "1.2.0",
            "_model_name": "LayoutModel",
            "_view_count": null,
            "_view_module": "@jupyter-widgets/base",
            "_view_module_version": "1.2.0",
            "_view_name": "LayoutView",
            "align_content": null,
            "align_items": null,
            "align_self": null,
            "border": null,
            "bottom": null,
            "display": null,
            "flex": null,
            "flex_flow": null,
            "grid_area": null,
            "grid_auto_columns": null,
            "grid_auto_flow": null,
            "grid_auto_rows": null,
            "grid_column": null,
            "grid_gap": null,
            "grid_row": null,
            "grid_template_areas": null,
            "grid_template_columns": null,
            "grid_template_rows": null,
            "height": null,
            "justify_content": null,
            "justify_items": null,
            "left": null,
            "margin": null,
            "max_height": null,
            "max_width": null,
            "min_height": null,
            "min_width": null,
            "object_fit": null,
            "object_position": null,
            "order": null,
            "overflow": null,
            "overflow_x": null,
            "overflow_y": null,
            "padding": null,
            "right": null,
            "top": null,
            "visibility": null,
            "width": null
          }
        },
        "95c585bea0f647b9b839f49f894d2aaf": {
          "model_module": "@jupyter-widgets/base",
          "model_name": "LayoutModel",
          "model_module_version": "1.2.0",
          "state": {
            "_model_module": "@jupyter-widgets/base",
            "_model_module_version": "1.2.0",
            "_model_name": "LayoutModel",
            "_view_count": null,
            "_view_module": "@jupyter-widgets/base",
            "_view_module_version": "1.2.0",
            "_view_name": "LayoutView",
            "align_content": null,
            "align_items": null,
            "align_self": null,
            "border": null,
            "bottom": null,
            "display": null,
            "flex": null,
            "flex_flow": null,
            "grid_area": null,
            "grid_auto_columns": null,
            "grid_auto_flow": null,
            "grid_auto_rows": null,
            "grid_column": null,
            "grid_gap": null,
            "grid_row": null,
            "grid_template_areas": null,
            "grid_template_columns": null,
            "grid_template_rows": null,
            "height": null,
            "justify_content": null,
            "justify_items": null,
            "left": null,
            "margin": null,
            "max_height": null,
            "max_width": null,
            "min_height": null,
            "min_width": null,
            "object_fit": null,
            "object_position": null,
            "order": null,
            "overflow": null,
            "overflow_x": null,
            "overflow_y": null,
            "padding": null,
            "right": null,
            "top": null,
            "visibility": null,
            "width": null
          }
        },
        "fbe5276def85413da567eaf15ef130dd": {
          "model_module": "@jupyter-widgets/controls",
          "model_name": "DescriptionStyleModel",
          "model_module_version": "1.5.0",
          "state": {
            "_model_module": "@jupyter-widgets/controls",
            "_model_module_version": "1.5.0",
            "_model_name": "DescriptionStyleModel",
            "_view_count": null,
            "_view_module": "@jupyter-widgets/base",
            "_view_module_version": "1.2.0",
            "_view_name": "StyleView",
            "description_width": ""
          }
        },
        "fb62a4bc194a499ba139c33b4b397114": {
          "model_module": "@jupyter-widgets/base",
          "model_name": "LayoutModel",
          "model_module_version": "1.2.0",
          "state": {
            "_model_module": "@jupyter-widgets/base",
            "_model_module_version": "1.2.0",
            "_model_name": "LayoutModel",
            "_view_count": null,
            "_view_module": "@jupyter-widgets/base",
            "_view_module_version": "1.2.0",
            "_view_name": "LayoutView",
            "align_content": null,
            "align_items": null,
            "align_self": null,
            "border": null,
            "bottom": null,
            "display": null,
            "flex": null,
            "flex_flow": null,
            "grid_area": null,
            "grid_auto_columns": null,
            "grid_auto_flow": null,
            "grid_auto_rows": null,
            "grid_column": null,
            "grid_gap": null,
            "grid_row": null,
            "grid_template_areas": null,
            "grid_template_columns": null,
            "grid_template_rows": null,
            "height": null,
            "justify_content": null,
            "justify_items": null,
            "left": null,
            "margin": null,
            "max_height": null,
            "max_width": null,
            "min_height": null,
            "min_width": null,
            "object_fit": null,
            "object_position": null,
            "order": null,
            "overflow": null,
            "overflow_x": null,
            "overflow_y": null,
            "padding": null,
            "right": null,
            "top": null,
            "visibility": null,
            "width": null
          }
        },
        "8727bf1ff559494a8d8942c5da12f0b2": {
          "model_module": "@jupyter-widgets/controls",
          "model_name": "ProgressStyleModel",
          "model_module_version": "1.5.0",
          "state": {
            "_model_module": "@jupyter-widgets/controls",
            "_model_module_version": "1.5.0",
            "_model_name": "ProgressStyleModel",
            "_view_count": null,
            "_view_module": "@jupyter-widgets/base",
            "_view_module_version": "1.2.0",
            "_view_name": "StyleView",
            "bar_color": null,
            "description_width": ""
          }
        },
        "7c867d9d96e445fe9911b0a8573e2eb0": {
          "model_module": "@jupyter-widgets/base",
          "model_name": "LayoutModel",
          "model_module_version": "1.2.0",
          "state": {
            "_model_module": "@jupyter-widgets/base",
            "_model_module_version": "1.2.0",
            "_model_name": "LayoutModel",
            "_view_count": null,
            "_view_module": "@jupyter-widgets/base",
            "_view_module_version": "1.2.0",
            "_view_name": "LayoutView",
            "align_content": null,
            "align_items": null,
            "align_self": null,
            "border": null,
            "bottom": null,
            "display": null,
            "flex": null,
            "flex_flow": null,
            "grid_area": null,
            "grid_auto_columns": null,
            "grid_auto_flow": null,
            "grid_auto_rows": null,
            "grid_column": null,
            "grid_gap": null,
            "grid_row": null,
            "grid_template_areas": null,
            "grid_template_columns": null,
            "grid_template_rows": null,
            "height": null,
            "justify_content": null,
            "justify_items": null,
            "left": null,
            "margin": null,
            "max_height": null,
            "max_width": null,
            "min_height": null,
            "min_width": null,
            "object_fit": null,
            "object_position": null,
            "order": null,
            "overflow": null,
            "overflow_x": null,
            "overflow_y": null,
            "padding": null,
            "right": null,
            "top": null,
            "visibility": null,
            "width": null
          }
        },
        "267b46f6d806424785c39b789024cc7f": {
          "model_module": "@jupyter-widgets/controls",
          "model_name": "DescriptionStyleModel",
          "model_module_version": "1.5.0",
          "state": {
            "_model_module": "@jupyter-widgets/controls",
            "_model_module_version": "1.5.0",
            "_model_name": "DescriptionStyleModel",
            "_view_count": null,
            "_view_module": "@jupyter-widgets/base",
            "_view_module_version": "1.2.0",
            "_view_name": "StyleView",
            "description_width": ""
          }
        },
        "da3a928830a54d0ca855f83f821268b5": {
          "model_module": "@jupyter-widgets/controls",
          "model_name": "HBoxModel",
          "model_module_version": "1.5.0",
          "state": {
            "_dom_classes": [],
            "_model_module": "@jupyter-widgets/controls",
            "_model_module_version": "1.5.0",
            "_model_name": "HBoxModel",
            "_view_count": null,
            "_view_module": "@jupyter-widgets/controls",
            "_view_module_version": "1.5.0",
            "_view_name": "HBoxView",
            "box_style": "",
            "children": [
              "IPY_MODEL_a2a7eab2012b420d94d7cbf94f7db39f",
              "IPY_MODEL_2958a801dc2b4e49bd1cb433eb2a61c2",
              "IPY_MODEL_3ac89d8c0a044601baee794bd8af3e4c"
            ],
            "layout": "IPY_MODEL_79bd5f6346ab4df4bd4cf68c9a29dbd1"
          }
        },
        "a2a7eab2012b420d94d7cbf94f7db39f": {
          "model_module": "@jupyter-widgets/controls",
          "model_name": "HTMLModel",
          "model_module_version": "1.5.0",
          "state": {
            "_dom_classes": [],
            "_model_module": "@jupyter-widgets/controls",
            "_model_module_version": "1.5.0",
            "_model_name": "HTMLModel",
            "_view_count": null,
            "_view_module": "@jupyter-widgets/controls",
            "_view_module_version": "1.5.0",
            "_view_name": "HTMLView",
            "description": "",
            "description_tooltip": null,
            "layout": "IPY_MODEL_0276dd3f7ae54954b87fb862bded285f",
            "placeholder": "​",
            "style": "IPY_MODEL_33a78c7949424f62bbaccca4c8631e43",
            "value": ""
          }
        },
        "2958a801dc2b4e49bd1cb433eb2a61c2": {
          "model_module": "@jupyter-widgets/controls",
          "model_name": "FloatProgressModel",
          "model_module_version": "1.5.0",
          "state": {
            "_dom_classes": [],
            "_model_module": "@jupyter-widgets/controls",
            "_model_module_version": "1.5.0",
            "_model_name": "FloatProgressModel",
            "_view_count": null,
            "_view_module": "@jupyter-widgets/controls",
            "_view_module_version": "1.5.0",
            "_view_name": "ProgressView",
            "bar_style": "success",
            "description": "",
            "description_tooltip": null,
            "layout": "IPY_MODEL_e61751d16c294ee9b7734ab51e14a4f1",
            "max": 28881,
            "min": 0,
            "orientation": "horizontal",
            "style": "IPY_MODEL_fc2d6cbe61c14321bdac2925bd5f958c",
            "value": 28881
          }
        },
        "3ac89d8c0a044601baee794bd8af3e4c": {
          "model_module": "@jupyter-widgets/controls",
          "model_name": "HTMLModel",
          "model_module_version": "1.5.0",
          "state": {
            "_dom_classes": [],
            "_model_module": "@jupyter-widgets/controls",
            "_model_module_version": "1.5.0",
            "_model_name": "HTMLModel",
            "_view_count": null,
            "_view_module": "@jupyter-widgets/controls",
            "_view_module_version": "1.5.0",
            "_view_name": "HTMLView",
            "description": "",
            "description_tooltip": null,
            "layout": "IPY_MODEL_c2ceb44994f7491eb3f8f40399eb9d3b",
            "placeholder": "​",
            "style": "IPY_MODEL_f4f6f6111d874f769b6eca3d20efa4b6",
            "value": " 29696/? [00:00&lt;00:00, 721876.71it/s]"
          }
        },
        "79bd5f6346ab4df4bd4cf68c9a29dbd1": {
          "model_module": "@jupyter-widgets/base",
          "model_name": "LayoutModel",
          "model_module_version": "1.2.0",
          "state": {
            "_model_module": "@jupyter-widgets/base",
            "_model_module_version": "1.2.0",
            "_model_name": "LayoutModel",
            "_view_count": null,
            "_view_module": "@jupyter-widgets/base",
            "_view_module_version": "1.2.0",
            "_view_name": "LayoutView",
            "align_content": null,
            "align_items": null,
            "align_self": null,
            "border": null,
            "bottom": null,
            "display": null,
            "flex": null,
            "flex_flow": null,
            "grid_area": null,
            "grid_auto_columns": null,
            "grid_auto_flow": null,
            "grid_auto_rows": null,
            "grid_column": null,
            "grid_gap": null,
            "grid_row": null,
            "grid_template_areas": null,
            "grid_template_columns": null,
            "grid_template_rows": null,
            "height": null,
            "justify_content": null,
            "justify_items": null,
            "left": null,
            "margin": null,
            "max_height": null,
            "max_width": null,
            "min_height": null,
            "min_width": null,
            "object_fit": null,
            "object_position": null,
            "order": null,
            "overflow": null,
            "overflow_x": null,
            "overflow_y": null,
            "padding": null,
            "right": null,
            "top": null,
            "visibility": null,
            "width": null
          }
        },
        "0276dd3f7ae54954b87fb862bded285f": {
          "model_module": "@jupyter-widgets/base",
          "model_name": "LayoutModel",
          "model_module_version": "1.2.0",
          "state": {
            "_model_module": "@jupyter-widgets/base",
            "_model_module_version": "1.2.0",
            "_model_name": "LayoutModel",
            "_view_count": null,
            "_view_module": "@jupyter-widgets/base",
            "_view_module_version": "1.2.0",
            "_view_name": "LayoutView",
            "align_content": null,
            "align_items": null,
            "align_self": null,
            "border": null,
            "bottom": null,
            "display": null,
            "flex": null,
            "flex_flow": null,
            "grid_area": null,
            "grid_auto_columns": null,
            "grid_auto_flow": null,
            "grid_auto_rows": null,
            "grid_column": null,
            "grid_gap": null,
            "grid_row": null,
            "grid_template_areas": null,
            "grid_template_columns": null,
            "grid_template_rows": null,
            "height": null,
            "justify_content": null,
            "justify_items": null,
            "left": null,
            "margin": null,
            "max_height": null,
            "max_width": null,
            "min_height": null,
            "min_width": null,
            "object_fit": null,
            "object_position": null,
            "order": null,
            "overflow": null,
            "overflow_x": null,
            "overflow_y": null,
            "padding": null,
            "right": null,
            "top": null,
            "visibility": null,
            "width": null
          }
        },
        "33a78c7949424f62bbaccca4c8631e43": {
          "model_module": "@jupyter-widgets/controls",
          "model_name": "DescriptionStyleModel",
          "model_module_version": "1.5.0",
          "state": {
            "_model_module": "@jupyter-widgets/controls",
            "_model_module_version": "1.5.0",
            "_model_name": "DescriptionStyleModel",
            "_view_count": null,
            "_view_module": "@jupyter-widgets/base",
            "_view_module_version": "1.2.0",
            "_view_name": "StyleView",
            "description_width": ""
          }
        },
        "e61751d16c294ee9b7734ab51e14a4f1": {
          "model_module": "@jupyter-widgets/base",
          "model_name": "LayoutModel",
          "model_module_version": "1.2.0",
          "state": {
            "_model_module": "@jupyter-widgets/base",
            "_model_module_version": "1.2.0",
            "_model_name": "LayoutModel",
            "_view_count": null,
            "_view_module": "@jupyter-widgets/base",
            "_view_module_version": "1.2.0",
            "_view_name": "LayoutView",
            "align_content": null,
            "align_items": null,
            "align_self": null,
            "border": null,
            "bottom": null,
            "display": null,
            "flex": null,
            "flex_flow": null,
            "grid_area": null,
            "grid_auto_columns": null,
            "grid_auto_flow": null,
            "grid_auto_rows": null,
            "grid_column": null,
            "grid_gap": null,
            "grid_row": null,
            "grid_template_areas": null,
            "grid_template_columns": null,
            "grid_template_rows": null,
            "height": null,
            "justify_content": null,
            "justify_items": null,
            "left": null,
            "margin": null,
            "max_height": null,
            "max_width": null,
            "min_height": null,
            "min_width": null,
            "object_fit": null,
            "object_position": null,
            "order": null,
            "overflow": null,
            "overflow_x": null,
            "overflow_y": null,
            "padding": null,
            "right": null,
            "top": null,
            "visibility": null,
            "width": null
          }
        },
        "fc2d6cbe61c14321bdac2925bd5f958c": {
          "model_module": "@jupyter-widgets/controls",
          "model_name": "ProgressStyleModel",
          "model_module_version": "1.5.0",
          "state": {
            "_model_module": "@jupyter-widgets/controls",
            "_model_module_version": "1.5.0",
            "_model_name": "ProgressStyleModel",
            "_view_count": null,
            "_view_module": "@jupyter-widgets/base",
            "_view_module_version": "1.2.0",
            "_view_name": "StyleView",
            "bar_color": null,
            "description_width": ""
          }
        },
        "c2ceb44994f7491eb3f8f40399eb9d3b": {
          "model_module": "@jupyter-widgets/base",
          "model_name": "LayoutModel",
          "model_module_version": "1.2.0",
          "state": {
            "_model_module": "@jupyter-widgets/base",
            "_model_module_version": "1.2.0",
            "_model_name": "LayoutModel",
            "_view_count": null,
            "_view_module": "@jupyter-widgets/base",
            "_view_module_version": "1.2.0",
            "_view_name": "LayoutView",
            "align_content": null,
            "align_items": null,
            "align_self": null,
            "border": null,
            "bottom": null,
            "display": null,
            "flex": null,
            "flex_flow": null,
            "grid_area": null,
            "grid_auto_columns": null,
            "grid_auto_flow": null,
            "grid_auto_rows": null,
            "grid_column": null,
            "grid_gap": null,
            "grid_row": null,
            "grid_template_areas": null,
            "grid_template_columns": null,
            "grid_template_rows": null,
            "height": null,
            "justify_content": null,
            "justify_items": null,
            "left": null,
            "margin": null,
            "max_height": null,
            "max_width": null,
            "min_height": null,
            "min_width": null,
            "object_fit": null,
            "object_position": null,
            "order": null,
            "overflow": null,
            "overflow_x": null,
            "overflow_y": null,
            "padding": null,
            "right": null,
            "top": null,
            "visibility": null,
            "width": null
          }
        },
        "f4f6f6111d874f769b6eca3d20efa4b6": {
          "model_module": "@jupyter-widgets/controls",
          "model_name": "DescriptionStyleModel",
          "model_module_version": "1.5.0",
          "state": {
            "_model_module": "@jupyter-widgets/controls",
            "_model_module_version": "1.5.0",
            "_model_name": "DescriptionStyleModel",
            "_view_count": null,
            "_view_module": "@jupyter-widgets/base",
            "_view_module_version": "1.2.0",
            "_view_name": "StyleView",
            "description_width": ""
          }
        },
        "f04f2fa99d2a4e1ca22f77415028921c": {
          "model_module": "@jupyter-widgets/controls",
          "model_name": "HBoxModel",
          "model_module_version": "1.5.0",
          "state": {
            "_dom_classes": [],
            "_model_module": "@jupyter-widgets/controls",
            "_model_module_version": "1.5.0",
            "_model_name": "HBoxModel",
            "_view_count": null,
            "_view_module": "@jupyter-widgets/controls",
            "_view_module_version": "1.5.0",
            "_view_name": "HBoxView",
            "box_style": "",
            "children": [
              "IPY_MODEL_872adb9f8f3e44c3b0440e7d9b3e6fa6",
              "IPY_MODEL_13a85593b80c47d1b21d9eee3552bf2a",
              "IPY_MODEL_dfb00872ee464467968b069459fc662c"
            ],
            "layout": "IPY_MODEL_432b19dc1b1f45219dbb408301eab33f"
          }
        },
        "872adb9f8f3e44c3b0440e7d9b3e6fa6": {
          "model_module": "@jupyter-widgets/controls",
          "model_name": "HTMLModel",
          "model_module_version": "1.5.0",
          "state": {
            "_dom_classes": [],
            "_model_module": "@jupyter-widgets/controls",
            "_model_module_version": "1.5.0",
            "_model_name": "HTMLModel",
            "_view_count": null,
            "_view_module": "@jupyter-widgets/controls",
            "_view_module_version": "1.5.0",
            "_view_name": "HTMLView",
            "description": "",
            "description_tooltip": null,
            "layout": "IPY_MODEL_7ddf9627c6ed453481a9a3e74bb9d69d",
            "placeholder": "​",
            "style": "IPY_MODEL_271996d722dd4611948a33897feaeee5",
            "value": ""
          }
        },
        "13a85593b80c47d1b21d9eee3552bf2a": {
          "model_module": "@jupyter-widgets/controls",
          "model_name": "FloatProgressModel",
          "model_module_version": "1.5.0",
          "state": {
            "_dom_classes": [],
            "_model_module": "@jupyter-widgets/controls",
            "_model_module_version": "1.5.0",
            "_model_name": "FloatProgressModel",
            "_view_count": null,
            "_view_module": "@jupyter-widgets/controls",
            "_view_module_version": "1.5.0",
            "_view_name": "ProgressView",
            "bar_style": "success",
            "description": "",
            "description_tooltip": null,
            "layout": "IPY_MODEL_f018a7b937ed4db89e1c41f987865987",
            "max": 1648877,
            "min": 0,
            "orientation": "horizontal",
            "style": "IPY_MODEL_c905f665074e4ffaa96fc2e4597bc26a",
            "value": 1648877
          }
        },
        "dfb00872ee464467968b069459fc662c": {
          "model_module": "@jupyter-widgets/controls",
          "model_name": "HTMLModel",
          "model_module_version": "1.5.0",
          "state": {
            "_dom_classes": [],
            "_model_module": "@jupyter-widgets/controls",
            "_model_module_version": "1.5.0",
            "_model_name": "HTMLModel",
            "_view_count": null,
            "_view_module": "@jupyter-widgets/controls",
            "_view_module_version": "1.5.0",
            "_view_name": "HTMLView",
            "description": "",
            "description_tooltip": null,
            "layout": "IPY_MODEL_4313be0093144be79a7c611bb38ae2dd",
            "placeholder": "​",
            "style": "IPY_MODEL_f7708a93fcfb407a93dccc92ffc66d2c",
            "value": " 1649664/? [00:00&lt;00:00, 16904651.80it/s]"
          }
        },
        "432b19dc1b1f45219dbb408301eab33f": {
          "model_module": "@jupyter-widgets/base",
          "model_name": "LayoutModel",
          "model_module_version": "1.2.0",
          "state": {
            "_model_module": "@jupyter-widgets/base",
            "_model_module_version": "1.2.0",
            "_model_name": "LayoutModel",
            "_view_count": null,
            "_view_module": "@jupyter-widgets/base",
            "_view_module_version": "1.2.0",
            "_view_name": "LayoutView",
            "align_content": null,
            "align_items": null,
            "align_self": null,
            "border": null,
            "bottom": null,
            "display": null,
            "flex": null,
            "flex_flow": null,
            "grid_area": null,
            "grid_auto_columns": null,
            "grid_auto_flow": null,
            "grid_auto_rows": null,
            "grid_column": null,
            "grid_gap": null,
            "grid_row": null,
            "grid_template_areas": null,
            "grid_template_columns": null,
            "grid_template_rows": null,
            "height": null,
            "justify_content": null,
            "justify_items": null,
            "left": null,
            "margin": null,
            "max_height": null,
            "max_width": null,
            "min_height": null,
            "min_width": null,
            "object_fit": null,
            "object_position": null,
            "order": null,
            "overflow": null,
            "overflow_x": null,
            "overflow_y": null,
            "padding": null,
            "right": null,
            "top": null,
            "visibility": null,
            "width": null
          }
        },
        "7ddf9627c6ed453481a9a3e74bb9d69d": {
          "model_module": "@jupyter-widgets/base",
          "model_name": "LayoutModel",
          "model_module_version": "1.2.0",
          "state": {
            "_model_module": "@jupyter-widgets/base",
            "_model_module_version": "1.2.0",
            "_model_name": "LayoutModel",
            "_view_count": null,
            "_view_module": "@jupyter-widgets/base",
            "_view_module_version": "1.2.0",
            "_view_name": "LayoutView",
            "align_content": null,
            "align_items": null,
            "align_self": null,
            "border": null,
            "bottom": null,
            "display": null,
            "flex": null,
            "flex_flow": null,
            "grid_area": null,
            "grid_auto_columns": null,
            "grid_auto_flow": null,
            "grid_auto_rows": null,
            "grid_column": null,
            "grid_gap": null,
            "grid_row": null,
            "grid_template_areas": null,
            "grid_template_columns": null,
            "grid_template_rows": null,
            "height": null,
            "justify_content": null,
            "justify_items": null,
            "left": null,
            "margin": null,
            "max_height": null,
            "max_width": null,
            "min_height": null,
            "min_width": null,
            "object_fit": null,
            "object_position": null,
            "order": null,
            "overflow": null,
            "overflow_x": null,
            "overflow_y": null,
            "padding": null,
            "right": null,
            "top": null,
            "visibility": null,
            "width": null
          }
        },
        "271996d722dd4611948a33897feaeee5": {
          "model_module": "@jupyter-widgets/controls",
          "model_name": "DescriptionStyleModel",
          "model_module_version": "1.5.0",
          "state": {
            "_model_module": "@jupyter-widgets/controls",
            "_model_module_version": "1.5.0",
            "_model_name": "DescriptionStyleModel",
            "_view_count": null,
            "_view_module": "@jupyter-widgets/base",
            "_view_module_version": "1.2.0",
            "_view_name": "StyleView",
            "description_width": ""
          }
        },
        "f018a7b937ed4db89e1c41f987865987": {
          "model_module": "@jupyter-widgets/base",
          "model_name": "LayoutModel",
          "model_module_version": "1.2.0",
          "state": {
            "_model_module": "@jupyter-widgets/base",
            "_model_module_version": "1.2.0",
            "_model_name": "LayoutModel",
            "_view_count": null,
            "_view_module": "@jupyter-widgets/base",
            "_view_module_version": "1.2.0",
            "_view_name": "LayoutView",
            "align_content": null,
            "align_items": null,
            "align_self": null,
            "border": null,
            "bottom": null,
            "display": null,
            "flex": null,
            "flex_flow": null,
            "grid_area": null,
            "grid_auto_columns": null,
            "grid_auto_flow": null,
            "grid_auto_rows": null,
            "grid_column": null,
            "grid_gap": null,
            "grid_row": null,
            "grid_template_areas": null,
            "grid_template_columns": null,
            "grid_template_rows": null,
            "height": null,
            "justify_content": null,
            "justify_items": null,
            "left": null,
            "margin": null,
            "max_height": null,
            "max_width": null,
            "min_height": null,
            "min_width": null,
            "object_fit": null,
            "object_position": null,
            "order": null,
            "overflow": null,
            "overflow_x": null,
            "overflow_y": null,
            "padding": null,
            "right": null,
            "top": null,
            "visibility": null,
            "width": null
          }
        },
        "c905f665074e4ffaa96fc2e4597bc26a": {
          "model_module": "@jupyter-widgets/controls",
          "model_name": "ProgressStyleModel",
          "model_module_version": "1.5.0",
          "state": {
            "_model_module": "@jupyter-widgets/controls",
            "_model_module_version": "1.5.0",
            "_model_name": "ProgressStyleModel",
            "_view_count": null,
            "_view_module": "@jupyter-widgets/base",
            "_view_module_version": "1.2.0",
            "_view_name": "StyleView",
            "bar_color": null,
            "description_width": ""
          }
        },
        "4313be0093144be79a7c611bb38ae2dd": {
          "model_module": "@jupyter-widgets/base",
          "model_name": "LayoutModel",
          "model_module_version": "1.2.0",
          "state": {
            "_model_module": "@jupyter-widgets/base",
            "_model_module_version": "1.2.0",
            "_model_name": "LayoutModel",
            "_view_count": null,
            "_view_module": "@jupyter-widgets/base",
            "_view_module_version": "1.2.0",
            "_view_name": "LayoutView",
            "align_content": null,
            "align_items": null,
            "align_self": null,
            "border": null,
            "bottom": null,
            "display": null,
            "flex": null,
            "flex_flow": null,
            "grid_area": null,
            "grid_auto_columns": null,
            "grid_auto_flow": null,
            "grid_auto_rows": null,
            "grid_column": null,
            "grid_gap": null,
            "grid_row": null,
            "grid_template_areas": null,
            "grid_template_columns": null,
            "grid_template_rows": null,
            "height": null,
            "justify_content": null,
            "justify_items": null,
            "left": null,
            "margin": null,
            "max_height": null,
            "max_width": null,
            "min_height": null,
            "min_width": null,
            "object_fit": null,
            "object_position": null,
            "order": null,
            "overflow": null,
            "overflow_x": null,
            "overflow_y": null,
            "padding": null,
            "right": null,
            "top": null,
            "visibility": null,
            "width": null
          }
        },
        "f7708a93fcfb407a93dccc92ffc66d2c": {
          "model_module": "@jupyter-widgets/controls",
          "model_name": "DescriptionStyleModel",
          "model_module_version": "1.5.0",
          "state": {
            "_model_module": "@jupyter-widgets/controls",
            "_model_module_version": "1.5.0",
            "_model_name": "DescriptionStyleModel",
            "_view_count": null,
            "_view_module": "@jupyter-widgets/base",
            "_view_module_version": "1.2.0",
            "_view_name": "StyleView",
            "description_width": ""
          }
        },
        "5d8927f224d640bbb896a99e9864416f": {
          "model_module": "@jupyter-widgets/controls",
          "model_name": "HBoxModel",
          "model_module_version": "1.5.0",
          "state": {
            "_dom_classes": [],
            "_model_module": "@jupyter-widgets/controls",
            "_model_module_version": "1.5.0",
            "_model_name": "HBoxModel",
            "_view_count": null,
            "_view_module": "@jupyter-widgets/controls",
            "_view_module_version": "1.5.0",
            "_view_name": "HBoxView",
            "box_style": "",
            "children": [
              "IPY_MODEL_623d1659c1e54018a0f04febd60272ca",
              "IPY_MODEL_d2ea4a44cd1c453ea3b8e71696781693",
              "IPY_MODEL_b0d162d38c624a099d94a09e50365286"
            ],
            "layout": "IPY_MODEL_84c7a3043d844050b4fa9edfed492d4b"
          }
        },
        "623d1659c1e54018a0f04febd60272ca": {
          "model_module": "@jupyter-widgets/controls",
          "model_name": "HTMLModel",
          "model_module_version": "1.5.0",
          "state": {
            "_dom_classes": [],
            "_model_module": "@jupyter-widgets/controls",
            "_model_module_version": "1.5.0",
            "_model_name": "HTMLModel",
            "_view_count": null,
            "_view_module": "@jupyter-widgets/controls",
            "_view_module_version": "1.5.0",
            "_view_name": "HTMLView",
            "description": "",
            "description_tooltip": null,
            "layout": "IPY_MODEL_47161fb43b434df58f78f5ef54975cd8",
            "placeholder": "​",
            "style": "IPY_MODEL_7fb1ed19c7fc4907b6b9a860d3dd7951",
            "value": ""
          }
        },
        "d2ea4a44cd1c453ea3b8e71696781693": {
          "model_module": "@jupyter-widgets/controls",
          "model_name": "FloatProgressModel",
          "model_module_version": "1.5.0",
          "state": {
            "_dom_classes": [],
            "_model_module": "@jupyter-widgets/controls",
            "_model_module_version": "1.5.0",
            "_model_name": "FloatProgressModel",
            "_view_count": null,
            "_view_module": "@jupyter-widgets/controls",
            "_view_module_version": "1.5.0",
            "_view_name": "ProgressView",
            "bar_style": "success",
            "description": "",
            "description_tooltip": null,
            "layout": "IPY_MODEL_8f6ef419c64f4163924c8137711669dc",
            "max": 4542,
            "min": 0,
            "orientation": "horizontal",
            "style": "IPY_MODEL_6d4474007b5240a9bb214539e3bf164d",
            "value": 4542
          }
        },
        "b0d162d38c624a099d94a09e50365286": {
          "model_module": "@jupyter-widgets/controls",
          "model_name": "HTMLModel",
          "model_module_version": "1.5.0",
          "state": {
            "_dom_classes": [],
            "_model_module": "@jupyter-widgets/controls",
            "_model_module_version": "1.5.0",
            "_model_name": "HTMLModel",
            "_view_count": null,
            "_view_module": "@jupyter-widgets/controls",
            "_view_module_version": "1.5.0",
            "_view_name": "HTMLView",
            "description": "",
            "description_tooltip": null,
            "layout": "IPY_MODEL_43bea079b2b84c17a739413773d6c130",
            "placeholder": "​",
            "style": "IPY_MODEL_47efe212ce944aa3b6d4511acf29e0aa",
            "value": " 5120/? [00:00&lt;00:00, 126473.59it/s]"
          }
        },
        "84c7a3043d844050b4fa9edfed492d4b": {
          "model_module": "@jupyter-widgets/base",
          "model_name": "LayoutModel",
          "model_module_version": "1.2.0",
          "state": {
            "_model_module": "@jupyter-widgets/base",
            "_model_module_version": "1.2.0",
            "_model_name": "LayoutModel",
            "_view_count": null,
            "_view_module": "@jupyter-widgets/base",
            "_view_module_version": "1.2.0",
            "_view_name": "LayoutView",
            "align_content": null,
            "align_items": null,
            "align_self": null,
            "border": null,
            "bottom": null,
            "display": null,
            "flex": null,
            "flex_flow": null,
            "grid_area": null,
            "grid_auto_columns": null,
            "grid_auto_flow": null,
            "grid_auto_rows": null,
            "grid_column": null,
            "grid_gap": null,
            "grid_row": null,
            "grid_template_areas": null,
            "grid_template_columns": null,
            "grid_template_rows": null,
            "height": null,
            "justify_content": null,
            "justify_items": null,
            "left": null,
            "margin": null,
            "max_height": null,
            "max_width": null,
            "min_height": null,
            "min_width": null,
            "object_fit": null,
            "object_position": null,
            "order": null,
            "overflow": null,
            "overflow_x": null,
            "overflow_y": null,
            "padding": null,
            "right": null,
            "top": null,
            "visibility": null,
            "width": null
          }
        },
        "47161fb43b434df58f78f5ef54975cd8": {
          "model_module": "@jupyter-widgets/base",
          "model_name": "LayoutModel",
          "model_module_version": "1.2.0",
          "state": {
            "_model_module": "@jupyter-widgets/base",
            "_model_module_version": "1.2.0",
            "_model_name": "LayoutModel",
            "_view_count": null,
            "_view_module": "@jupyter-widgets/base",
            "_view_module_version": "1.2.0",
            "_view_name": "LayoutView",
            "align_content": null,
            "align_items": null,
            "align_self": null,
            "border": null,
            "bottom": null,
            "display": null,
            "flex": null,
            "flex_flow": null,
            "grid_area": null,
            "grid_auto_columns": null,
            "grid_auto_flow": null,
            "grid_auto_rows": null,
            "grid_column": null,
            "grid_gap": null,
            "grid_row": null,
            "grid_template_areas": null,
            "grid_template_columns": null,
            "grid_template_rows": null,
            "height": null,
            "justify_content": null,
            "justify_items": null,
            "left": null,
            "margin": null,
            "max_height": null,
            "max_width": null,
            "min_height": null,
            "min_width": null,
            "object_fit": null,
            "object_position": null,
            "order": null,
            "overflow": null,
            "overflow_x": null,
            "overflow_y": null,
            "padding": null,
            "right": null,
            "top": null,
            "visibility": null,
            "width": null
          }
        },
        "7fb1ed19c7fc4907b6b9a860d3dd7951": {
          "model_module": "@jupyter-widgets/controls",
          "model_name": "DescriptionStyleModel",
          "model_module_version": "1.5.0",
          "state": {
            "_model_module": "@jupyter-widgets/controls",
            "_model_module_version": "1.5.0",
            "_model_name": "DescriptionStyleModel",
            "_view_count": null,
            "_view_module": "@jupyter-widgets/base",
            "_view_module_version": "1.2.0",
            "_view_name": "StyleView",
            "description_width": ""
          }
        },
        "8f6ef419c64f4163924c8137711669dc": {
          "model_module": "@jupyter-widgets/base",
          "model_name": "LayoutModel",
          "model_module_version": "1.2.0",
          "state": {
            "_model_module": "@jupyter-widgets/base",
            "_model_module_version": "1.2.0",
            "_model_name": "LayoutModel",
            "_view_count": null,
            "_view_module": "@jupyter-widgets/base",
            "_view_module_version": "1.2.0",
            "_view_name": "LayoutView",
            "align_content": null,
            "align_items": null,
            "align_self": null,
            "border": null,
            "bottom": null,
            "display": null,
            "flex": null,
            "flex_flow": null,
            "grid_area": null,
            "grid_auto_columns": null,
            "grid_auto_flow": null,
            "grid_auto_rows": null,
            "grid_column": null,
            "grid_gap": null,
            "grid_row": null,
            "grid_template_areas": null,
            "grid_template_columns": null,
            "grid_template_rows": null,
            "height": null,
            "justify_content": null,
            "justify_items": null,
            "left": null,
            "margin": null,
            "max_height": null,
            "max_width": null,
            "min_height": null,
            "min_width": null,
            "object_fit": null,
            "object_position": null,
            "order": null,
            "overflow": null,
            "overflow_x": null,
            "overflow_y": null,
            "padding": null,
            "right": null,
            "top": null,
            "visibility": null,
            "width": null
          }
        },
        "6d4474007b5240a9bb214539e3bf164d": {
          "model_module": "@jupyter-widgets/controls",
          "model_name": "ProgressStyleModel",
          "model_module_version": "1.5.0",
          "state": {
            "_model_module": "@jupyter-widgets/controls",
            "_model_module_version": "1.5.0",
            "_model_name": "ProgressStyleModel",
            "_view_count": null,
            "_view_module": "@jupyter-widgets/base",
            "_view_module_version": "1.2.0",
            "_view_name": "StyleView",
            "bar_color": null,
            "description_width": ""
          }
        },
        "43bea079b2b84c17a739413773d6c130": {
          "model_module": "@jupyter-widgets/base",
          "model_name": "LayoutModel",
          "model_module_version": "1.2.0",
          "state": {
            "_model_module": "@jupyter-widgets/base",
            "_model_module_version": "1.2.0",
            "_model_name": "LayoutModel",
            "_view_count": null,
            "_view_module": "@jupyter-widgets/base",
            "_view_module_version": "1.2.0",
            "_view_name": "LayoutView",
            "align_content": null,
            "align_items": null,
            "align_self": null,
            "border": null,
            "bottom": null,
            "display": null,
            "flex": null,
            "flex_flow": null,
            "grid_area": null,
            "grid_auto_columns": null,
            "grid_auto_flow": null,
            "grid_auto_rows": null,
            "grid_column": null,
            "grid_gap": null,
            "grid_row": null,
            "grid_template_areas": null,
            "grid_template_columns": null,
            "grid_template_rows": null,
            "height": null,
            "justify_content": null,
            "justify_items": null,
            "left": null,
            "margin": null,
            "max_height": null,
            "max_width": null,
            "min_height": null,
            "min_width": null,
            "object_fit": null,
            "object_position": null,
            "order": null,
            "overflow": null,
            "overflow_x": null,
            "overflow_y": null,
            "padding": null,
            "right": null,
            "top": null,
            "visibility": null,
            "width": null
          }
        },
        "47efe212ce944aa3b6d4511acf29e0aa": {
          "model_module": "@jupyter-widgets/controls",
          "model_name": "DescriptionStyleModel",
          "model_module_version": "1.5.0",
          "state": {
            "_model_module": "@jupyter-widgets/controls",
            "_model_module_version": "1.5.0",
            "_model_name": "DescriptionStyleModel",
            "_view_count": null,
            "_view_module": "@jupyter-widgets/base",
            "_view_module_version": "1.2.0",
            "_view_name": "StyleView",
            "description_width": ""
          }
        }
      }
    }
  },
  "cells": [
    {
      "cell_type": "markdown",
      "source": [
        "This is a complementary notebook for tutorial lectures on introduction to PyTorch for [STAT8056](http://users.stat.umn.edu/~xshen/stat8056.htm), 2022 Spring. To access the slides for this tutorial, please visit [https://github.umn.edu/liu00980/STAT8056_intro_pytorch](https://github.umn.edu/liu00980/STAT8056_intro_pytorch)."
      ],
      "metadata": {
        "id": "CO3escq1gLUJ"
      }
    },
    {
      "cell_type": "code",
      "source": [
        "# basic torch modules, classes and functions\n",
        "import torch\n",
        "from torch import nn, optim\n",
        "import torch.nn.functional as F\n",
        "from torch.utils.data import Dataset, DataLoader, Subset\n",
        "\n",
        "# image datasets and pre-processing\n",
        "import torchvision\n",
        "from torchvision import datasets\n",
        "import torchvision.transforms as transforms\n",
        "\n",
        "# other utils libraries\n",
        "import time\n",
        "import numpy as np\n",
        "import matplotlib.pyplot as plt"
      ],
      "metadata": {
        "id": "lS8ECVdvIaDh"
      },
      "execution_count": 1,
      "outputs": []
    },
    {
      "cell_type": "markdown",
      "source": [
        "# Tensor"
      ],
      "metadata": {
        "id": "wym0K-dJJWAa"
      }
    },
    {
      "cell_type": "markdown",
      "source": [
        "## Create tensors with gradient tracing"
      ],
      "metadata": {
        "id": "43U8df32JeY6"
      }
    },
    {
      "cell_type": "code",
      "source": [
        "t = torch.tensor(3, dtype = float)\n",
        "t.requires_grad_(True)\n",
        "\n",
        "# or alternatively\n",
        "t = torch.tensor(3.0, requires_grad = True)"
      ],
      "metadata": {
        "id": "CnNI-UWeIa90"
      },
      "execution_count": 2,
      "outputs": []
    },
    {
      "cell_type": "code",
      "source": [
        "t"
      ],
      "metadata": {
        "colab": {
          "base_uri": "https://localhost:8080/"
        },
        "id": "KUrDgykxB_K7",
        "outputId": "cae5f8fe-112e-4e6b-81e8-9bd41271ad39"
      },
      "execution_count": 3,
      "outputs": [
        {
          "output_type": "execute_result",
          "data": {
            "text/plain": [
              "tensor(3., requires_grad=True)"
            ]
          },
          "metadata": {},
          "execution_count": 3
        }
      ]
    },
    {
      "cell_type": "markdown",
      "source": [
        "## Calculate and access the gradient"
      ],
      "metadata": {
        "id": "e6oZBKm4JkzS"
      }
    },
    {
      "cell_type": "code",
      "source": [
        "# create tensors\n",
        "c = torch.tensor(1.)\n",
        "t = torch.tensor(3., requires_grad = True)\n",
        "print(c)\n",
        "print(t)\n",
        "\n",
        "# do your calculation based on t\n",
        "s = t**2\n",
        "f = 3 * s + c\n",
        "\n",
        "# calculate the gradient w.r.t. t\n",
        "f.backward()\n",
        "\n",
        "# access the gradient\n",
        "t.grad"
      ],
      "metadata": {
        "colab": {
          "base_uri": "https://localhost:8080/"
        },
        "id": "Ahm5TNASSrYv",
        "outputId": "aafb84d5-f549-4565-ae19-b6d15582c159"
      },
      "execution_count": 4,
      "outputs": [
        {
          "output_type": "stream",
          "name": "stdout",
          "text": [
            "tensor(1.)\n",
            "tensor(3., requires_grad=True)\n"
          ]
        },
        {
          "output_type": "execute_result",
          "data": {
            "text/plain": [
              "tensor(18.)"
            ]
          },
          "metadata": {},
          "execution_count": 4
        }
      ]
    },
    {
      "cell_type": "markdown",
      "source": [
        "## Some MISTAKES regarding gradient and computation graph"
      ],
      "metadata": {
        "id": "arqw1924fBeW"
      }
    },
    {
      "cell_type": "markdown",
      "source": [
        "### Call `.backward` when there is no graph (or the graph has been destroyed)"
      ],
      "metadata": {
        "id": "taBvmfPwfGmg"
      }
    },
    {
      "cell_type": "code",
      "source": [
        "t = torch.tensor(3., requires_grad = True)\n",
        "s = t**2\n",
        "s.backward() # graph is destroyed\n",
        "\n",
        "s.backward() # error!"
      ],
      "metadata": {
        "colab": {
          "base_uri": "https://localhost:8080/",
          "height": 380
        },
        "id": "qmjCjM0dfNRX",
        "outputId": "41baf133-c59e-4f71-dc2f-fe4938d09de7"
      },
      "execution_count": 5,
      "outputs": [
        {
          "output_type": "error",
          "ename": "RuntimeError",
          "evalue": "ignored",
          "traceback": [
            "\u001b[0;31m---------------------------------------------------------------------------\u001b[0m",
            "\u001b[0;31mRuntimeError\u001b[0m                              Traceback (most recent call last)",
            "\u001b[0;32m<ipython-input-5-f3e0d0766fdf>\u001b[0m in \u001b[0;36m<module>\u001b[0;34m()\u001b[0m\n\u001b[1;32m      3\u001b[0m \u001b[0ms\u001b[0m\u001b[0;34m.\u001b[0m\u001b[0mbackward\u001b[0m\u001b[0;34m(\u001b[0m\u001b[0;34m)\u001b[0m \u001b[0;31m# graph is destroyed\u001b[0m\u001b[0;34m\u001b[0m\u001b[0;34m\u001b[0m\u001b[0m\n\u001b[1;32m      4\u001b[0m \u001b[0;34m\u001b[0m\u001b[0m\n\u001b[0;32m----> 5\u001b[0;31m \u001b[0ms\u001b[0m\u001b[0;34m.\u001b[0m\u001b[0mbackward\u001b[0m\u001b[0;34m(\u001b[0m\u001b[0;34m)\u001b[0m \u001b[0;31m# error!\u001b[0m\u001b[0;34m\u001b[0m\u001b[0;34m\u001b[0m\u001b[0m\n\u001b[0m",
            "\u001b[0;32m/usr/local/lib/python3.7/dist-packages/torch/_tensor.py\u001b[0m in \u001b[0;36mbackward\u001b[0;34m(self, gradient, retain_graph, create_graph, inputs)\u001b[0m\n\u001b[1;32m    305\u001b[0m                 \u001b[0mcreate_graph\u001b[0m\u001b[0;34m=\u001b[0m\u001b[0mcreate_graph\u001b[0m\u001b[0;34m,\u001b[0m\u001b[0;34m\u001b[0m\u001b[0;34m\u001b[0m\u001b[0m\n\u001b[1;32m    306\u001b[0m                 inputs=inputs)\n\u001b[0;32m--> 307\u001b[0;31m         \u001b[0mtorch\u001b[0m\u001b[0;34m.\u001b[0m\u001b[0mautograd\u001b[0m\u001b[0;34m.\u001b[0m\u001b[0mbackward\u001b[0m\u001b[0;34m(\u001b[0m\u001b[0mself\u001b[0m\u001b[0;34m,\u001b[0m \u001b[0mgradient\u001b[0m\u001b[0;34m,\u001b[0m \u001b[0mretain_graph\u001b[0m\u001b[0;34m,\u001b[0m \u001b[0mcreate_graph\u001b[0m\u001b[0;34m,\u001b[0m \u001b[0minputs\u001b[0m\u001b[0;34m=\u001b[0m\u001b[0minputs\u001b[0m\u001b[0;34m)\u001b[0m\u001b[0;34m\u001b[0m\u001b[0;34m\u001b[0m\u001b[0m\n\u001b[0m\u001b[1;32m    308\u001b[0m \u001b[0;34m\u001b[0m\u001b[0m\n\u001b[1;32m    309\u001b[0m     \u001b[0;32mdef\u001b[0m \u001b[0mregister_hook\u001b[0m\u001b[0;34m(\u001b[0m\u001b[0mself\u001b[0m\u001b[0;34m,\u001b[0m \u001b[0mhook\u001b[0m\u001b[0;34m)\u001b[0m\u001b[0;34m:\u001b[0m\u001b[0;34m\u001b[0m\u001b[0;34m\u001b[0m\u001b[0m\n",
            "\u001b[0;32m/usr/local/lib/python3.7/dist-packages/torch/autograd/__init__.py\u001b[0m in \u001b[0;36mbackward\u001b[0;34m(tensors, grad_tensors, retain_graph, create_graph, grad_variables, inputs)\u001b[0m\n\u001b[1;32m    154\u001b[0m     Variable._execution_engine.run_backward(\n\u001b[1;32m    155\u001b[0m         \u001b[0mtensors\u001b[0m\u001b[0;34m,\u001b[0m \u001b[0mgrad_tensors_\u001b[0m\u001b[0;34m,\u001b[0m \u001b[0mretain_graph\u001b[0m\u001b[0;34m,\u001b[0m \u001b[0mcreate_graph\u001b[0m\u001b[0;34m,\u001b[0m \u001b[0minputs\u001b[0m\u001b[0;34m,\u001b[0m\u001b[0;34m\u001b[0m\u001b[0;34m\u001b[0m\u001b[0m\n\u001b[0;32m--> 156\u001b[0;31m         allow_unreachable=True, accumulate_grad=True)  # allow_unreachable flag\n\u001b[0m\u001b[1;32m    157\u001b[0m \u001b[0;34m\u001b[0m\u001b[0m\n\u001b[1;32m    158\u001b[0m \u001b[0;34m\u001b[0m\u001b[0m\n",
            "\u001b[0;31mRuntimeError\u001b[0m: Trying to backward through the graph a second time (or directly access saved tensors after they have already been freed). Saved intermediate values of the graph are freed when you call .backward() or autograd.grad(). Specify retain_graph=True if you need to backward through the graph a second time or if you need to access saved tensors after calling backward."
          ]
        }
      ]
    },
    {
      "cell_type": "markdown",
      "source": [
        "### Call `.grad` on non-leaf nodes"
      ],
      "metadata": {
        "id": "LlzNHCVcfojn"
      }
    },
    {
      "cell_type": "code",
      "source": [
        "t = torch.tensor(3., requires_grad = True) # the leaf node\n",
        "s = t**2 # the intermediate node\n",
        "f = 3 * s + 1 # the objective\n",
        "f.backward() \n",
        "\n",
        "s.grad # warning and no result"
      ],
      "metadata": {
        "colab": {
          "base_uri": "https://localhost:8080/"
        },
        "id": "JRDnszIvfuvv",
        "outputId": "237ff77d-401d-4625-97c4-cb822269debc"
      },
      "execution_count": 6,
      "outputs": [
        {
          "output_type": "stream",
          "name": "stderr",
          "text": [
            "/usr/local/lib/python3.7/dist-packages/torch/_tensor.py:1013: UserWarning: The .grad attribute of a Tensor that is not a leaf Tensor is being accessed. Its .grad attribute won't be populated during autograd.backward(). If you indeed want the .grad field to be populated for a non-leaf Tensor, use .retain_grad() on the non-leaf Tensor. If you access the non-leaf Tensor by mistake, make sure you access the leaf Tensor instead. See github.com/pytorch/pytorch/pull/30531 for more informations. (Triggered internally at  aten/src/ATen/core/TensorBody.h:417.)\n",
            "  return self._grad\n"
          ]
        }
      ]
    },
    {
      "cell_type": "markdown",
      "source": [
        "### Gradient accumulation"
      ],
      "metadata": {
        "id": "68zFdBwzJrhB"
      }
    },
    {
      "cell_type": "code",
      "source": [
        "# first back propagation\n",
        "t = torch.tensor(3., requires_grad = True)\n",
        "s = t**2\n",
        "s.backward()\n",
        "print(t.grad)\n",
        "\n",
        "# second propagation (WITHOUT RE-CREATING t)\n",
        "f = 5 * t + 1\n",
        "f.backward()\n",
        "print(t.grad)"
      ],
      "metadata": {
        "colab": {
          "base_uri": "https://localhost:8080/"
        },
        "id": "nQz6OzCUgDCo",
        "outputId": "52501652-0983-44f0-ee62-6baaa7a990b7"
      },
      "execution_count": 7,
      "outputs": [
        {
          "output_type": "stream",
          "name": "stdout",
          "text": [
            "tensor(6.)\n",
            "tensor(11.)\n"
          ]
        }
      ]
    },
    {
      "cell_type": "code",
      "source": [
        "t.grad.zero_() # zero out the gradient\n",
        "f = 5 * t + 1\n",
        "f.backward()\n",
        "print(t.grad)"
      ],
      "metadata": {
        "colab": {
          "base_uri": "https://localhost:8080/"
        },
        "id": "w_Ayg_urjT8F",
        "outputId": "e2fa3f8f-2859-47db-c315-83dd3744e8b8"
      },
      "execution_count": 8,
      "outputs": [
        {
          "output_type": "stream",
          "name": "stdout",
          "text": [
            "tensor(5.)\n"
          ]
        }
      ]
    },
    {
      "cell_type": "markdown",
      "source": [
        "# Tensor manipulation on GPU"
      ],
      "metadata": {
        "id": "C3S4IMcMJx2h"
      }
    },
    {
      "cell_type": "markdown",
      "source": [
        "## Check GPU availability"
      ],
      "metadata": {
        "id": "Iv5QqzEiJ24w"
      }
    },
    {
      "cell_type": "code",
      "source": [
        "device = 'cuda' if torch.cuda.is_available() else 'cpu'\n",
        "print(device)"
      ],
      "metadata": {
        "colab": {
          "base_uri": "https://localhost:8080/"
        },
        "id": "YDwiA1cUnhjF",
        "outputId": "14860a11-f2b4-477f-95d8-11bf0df48ad6"
      },
      "execution_count": 9,
      "outputs": [
        {
          "output_type": "stream",
          "name": "stdout",
          "text": [
            "cuda\n"
          ]
        }
      ]
    },
    {
      "cell_type": "markdown",
      "source": [
        "## Matrix multiplication on CPU versus GPU"
      ],
      "metadata": {
        "id": "cf81OOjVJ6VK"
      }
    },
    {
      "cell_type": "code",
      "source": [
        "d = 3000\n",
        "\n",
        "# C = A B with numpy on CPU\n",
        "A = np.random.rand(d, d)\n",
        "B = np.random.rand(d, d)\n",
        "begin = time.time()\n",
        "C = A.dot(B)\n",
        "print(f\"CPU time (numpy): {time.time() - begin} s\")\n",
        "\n",
        "# C = A B with torch on CPU\n",
        "A_t_cpu = torch.tensor(A)\n",
        "B_t_cpu = torch.tensor(B)\n",
        "begin = time.time()\n",
        "C = torch.mm(A_t_cpu, B_t_cpu)\n",
        "print(f\"CPU time (torch): {time.time() - begin} s\")\n",
        "\n",
        "# C = A B with torch on GPU\n",
        "# make sure GPU is available\n",
        "A_t_gpu = torch.tensor(A).cuda()\n",
        "B_t_gpu = torch.tensor(B).cuda()\n",
        "begin = time.time()\n",
        "C = torch.mm(A_t_gpu, B_t_gpu)\n",
        "print(f\"GPU time (torch): {time.time() - begin} s\")"
      ],
      "metadata": {
        "colab": {
          "base_uri": "https://localhost:8080/"
        },
        "id": "s-0jdfztpqM1",
        "outputId": "69a7bdd4-53c8-49bd-ea58-43d5d090037d"
      },
      "execution_count": 10,
      "outputs": [
        {
          "output_type": "stream",
          "name": "stdout",
          "text": [
            "CPU time (numpy): 1.6032278537750244 s\n",
            "CPU time (torch): 1.5308353900909424 s\n",
            "GPU time (torch): 0.047821044921875 s\n"
          ]
        }
      ]
    },
    {
      "cell_type": "markdown",
      "source": [
        "## Transmission time from CPU to GPU"
      ],
      "metadata": {
        "id": "ODmpDsYyJ_LJ"
      }
    },
    {
      "cell_type": "code",
      "source": [
        "d = 3000\n",
        "begin = time.time()\n",
        "A = torch.rand((d, d)).cuda()\n",
        "B = torch.rand((d, d)).cuda()\n",
        "print(f\"Time from CPU to GPU: {time.time() - begin} s\")\n",
        "begin = time.time()\n",
        "C = torch.mm(A, B)\n",
        "print(f\"GPU time (torch): {time.time() - begin} s\")"
      ],
      "metadata": {
        "colab": {
          "base_uri": "https://localhost:8080/"
        },
        "id": "gtXsYBPy28nu",
        "outputId": "52551343-3767-4105-a0c0-e47b3720eae6"
      },
      "execution_count": 11,
      "outputs": [
        {
          "output_type": "stream",
          "name": "stdout",
          "text": [
            "Time from CPU to GPU: 0.1591038703918457 s\n",
            "GPU time (torch): 0.009942293167114258 s\n"
          ]
        }
      ]
    },
    {
      "cell_type": "markdown",
      "source": [
        "# Linear regression in PyTorch"
      ],
      "metadata": {
        "id": "zaWyabaOKEe8"
      }
    },
    {
      "cell_type": "markdown",
      "source": [
        "## Linear regression --- the naive approach"
      ],
      "metadata": {
        "id": "gIJE1aDlKGrx"
      }
    },
    {
      "cell_type": "code",
      "source": [
        "n = 2000\n",
        "x = torch.rand(n)\n",
        "\n",
        "# create dataset with true model\n",
        "a0 = 2\n",
        "b0 = 1\n",
        "y = a0 * x + b0\n",
        "\n",
        "# set up optimization parameter of SGD\n",
        "a = torch.rand(1, requires_grad = True)\n",
        "b = torch.rand(1, requires_grad = True)\n",
        "nepochs = 10\n",
        "batch_size = 200\n",
        "lr = 0.5"
      ],
      "metadata": {
        "id": "Ae6zZ9b4Symz"
      },
      "execution_count": 12,
      "outputs": []
    },
    {
      "cell_type": "code",
      "source": [
        "for epoch in range(nepochs):\n",
        "  for batch in range(round(n / batch_size)):\n",
        "    start = batch * batch_size\n",
        "    end = start + batch_size\n",
        "    # perform update on a batch\n",
        "    x_batch = x[start:end]\n",
        "    y_batch = y[start:end]\n",
        "\n",
        "    # build computation graph\n",
        "    y_hat = a * x_batch + b\n",
        "    myloss = torch.mean((y_batch - y_hat)**2)\n",
        "\n",
        "    # gradient calculation\n",
        "    myloss.backward()\n",
        "\n",
        "    # SGD update\n",
        "    with torch.no_grad():\n",
        "      a -= lr * a.grad\n",
        "      b -= lr * b.grad\n",
        "    \n",
        "    # avoid gradient accumulation\n",
        "    a.grad.zero_()\n",
        "    b.grad.zero_()\n",
        "\n",
        "  print(f\"Epoch: {epoch + 1} / {nepochs}\")\n",
        "  print(f\"MSE: {myloss: .2e}; a: {a.item():.4f}; b: {b.item():.4f}\")\n"
      ],
      "metadata": {
        "colab": {
          "base_uri": "https://localhost:8080/"
        },
        "id": "MFfUbTArYzqz",
        "outputId": "4371cf93-ac17-446d-9b2b-0632d31f5938"
      },
      "execution_count": 13,
      "outputs": [
        {
          "output_type": "stream",
          "name": "stdout",
          "text": [
            "Epoch: 1 / 10\n",
            "MSE:  1.97e-02; a: 1.5698; b: 1.2276\n",
            "Epoch: 2 / 10\n",
            "MSE:  5.12e-03; a: 1.7805; b: 1.1161\n",
            "Epoch: 3 / 10\n",
            "MSE:  1.33e-03; a: 1.8880; b: 1.0592\n",
            "Epoch: 4 / 10\n",
            "MSE:  3.47e-04; a: 1.9429; b: 1.0302\n",
            "Epoch: 5 / 10\n",
            "MSE:  9.02e-05; a: 1.9709; b: 1.0154\n",
            "Epoch: 6 / 10\n",
            "MSE:  2.35e-05; a: 1.9851; b: 1.0079\n",
            "Epoch: 7 / 10\n",
            "MSE:  6.11e-06; a: 1.9924; b: 1.0040\n",
            "Epoch: 8 / 10\n",
            "MSE:  1.59e-06; a: 1.9961; b: 1.0020\n",
            "Epoch: 9 / 10\n",
            "MSE:  4.14e-07; a: 1.9980; b: 1.0010\n",
            "Epoch: 10 / 10\n",
            "MSE:  1.08e-07; a: 1.9990; b: 1.0005\n"
          ]
        }
      ]
    },
    {
      "cell_type": "markdown",
      "source": [
        "## Linear regression --- the PyTorch way"
      ],
      "metadata": {
        "id": "Qnbnc_lfKUlN"
      }
    },
    {
      "cell_type": "code",
      "source": [
        "class SimpleLinear(Dataset):\n",
        "    def __init__(self, n, a, b, sigma = 0):\n",
        "      self.n = n\n",
        "      self.x = torch.rand(n, 1)\n",
        "      self.y = a * self.x + b + sigma * torch.randn(n, 1)\n",
        "\n",
        "    def __len__(self):\n",
        "        return self.n\n",
        "        \n",
        "    def __getitem__(self, idx):\n",
        "        return self.x[idx], self.y[idx]\n",
        "\n",
        "# create a training model\n",
        "# (cont.) also initializes a and b\n",
        "mymodel = nn.Sequential(nn.Linear(1, 1))\n",
        "\n",
        "# prepare dataset and dataloaders\n",
        "mydata = SimpleLinear(n = 2000, a = 2, b = 1)\n",
        "mydataloader = DataLoader(mydata, batch_size = 200)\n",
        "\n",
        "# set up optimization with SGD\n",
        "criterion = nn.MSELoss()\n",
        "optimizer = optim.SGD(mymodel.parameters(), lr = 0.5)"
      ],
      "metadata": {
        "id": "8MPbZu6xsOKQ"
      },
      "execution_count": 14,
      "outputs": []
    },
    {
      "cell_type": "code",
      "source": [
        "nepochs = 10\n",
        "for epoch in range(nepochs):\n",
        "  for x_batch, y_batch in mydataloader:\n",
        "    # build computation graph\n",
        "    yhat = mymodel(x_batch)\n",
        "    myloss = criterion(y_batch, yhat)\n",
        "\n",
        "    # optimization\n",
        "    optimizer.zero_grad() # zero out gradient\n",
        "    myloss.backward() # back propagation\n",
        "    optimizer.step() # updata parameters\n",
        "\n",
        "  a = mymodel[0].weight.item()\n",
        "  b = mymodel[0].bias.item()\n",
        "  print(f\"Epoch: {epoch + 1} / {nepochs}\")\n",
        "  print(f\"MSE: {myloss: .2e}; a: {a:.4f}; b: {b:.4f}\")"
      ],
      "metadata": {
        "colab": {
          "base_uri": "https://localhost:8080/"
        },
        "id": "GZ35xOAOtCfS",
        "outputId": "6234fe57-6606-47b1-ee90-a6fb7dec5e42"
      },
      "execution_count": 15,
      "outputs": [
        {
          "output_type": "stream",
          "name": "stdout",
          "text": [
            "Epoch: 1 / 10\n",
            "MSE:  1.62e-02; a: 1.5634; b: 1.2351\n",
            "Epoch: 2 / 10\n",
            "MSE:  4.09e-03; a: 1.7804; b: 1.1182\n",
            "Epoch: 3 / 10\n",
            "MSE:  1.03e-03; a: 1.8896; b: 1.0595\n",
            "Epoch: 4 / 10\n",
            "MSE:  2.61e-04; a: 1.9445; b: 1.0299\n",
            "Epoch: 5 / 10\n",
            "MSE:  6.61e-05; a: 1.9721; b: 1.0150\n",
            "Epoch: 6 / 10\n",
            "MSE:  1.67e-05; a: 1.9860; b: 1.0076\n",
            "Epoch: 7 / 10\n",
            "MSE:  4.23e-06; a: 1.9929; b: 1.0038\n",
            "Epoch: 8 / 10\n",
            "MSE:  1.07e-06; a: 1.9964; b: 1.0019\n",
            "Epoch: 9 / 10\n",
            "MSE:  2.71e-07; a: 1.9982; b: 1.0010\n",
            "Epoch: 10 / 10\n",
            "MSE:  6.84e-08; a: 1.9991; b: 1.0005\n"
          ]
        }
      ]
    },
    {
      "cell_type": "markdown",
      "source": [
        "# Regression with shallow ReLU net"
      ],
      "metadata": {
        "id": "R8Fydg4OKZEJ"
      }
    },
    {
      "cell_type": "code",
      "source": [
        "class SinData(Dataset):\n",
        "    def __init__(self, n, p = 5, sigma = 0):\n",
        "      self.n = n\n",
        "      self.x = 2 * torch.rand(n, p) - 1\n",
        "      self.x1 = self.x[:, :1]\n",
        "      self.y = torch.sin(4 * self.x1) + sigma * torch.randn(n, 1)\n",
        "\n",
        "    def __len__(self):\n",
        "        return self.n\n",
        "        \n",
        "    def __getitem__(self, idx):\n",
        "        return self.x[idx], self.y[idx]\n",
        "\n",
        "# initialize a training model\n",
        "train_model = nn.Sequential(\n",
        "    nn.Linear(5, 256), \n",
        "    nn.ReLU(),\n",
        "    nn.Linear(256, 1)\n",
        ")\n",
        "\n",
        "# prepare TRAINING dataset and dataloaders \n",
        "train_data = SinData(n = 200, sigma = 0.2)\n",
        "train_loader = DataLoader(train_data, batch_size = 200) # simple GD\n",
        "test_data = SinData(n = 200, sigma = 0.2)\n",
        "test_loader = DataLoader(test_data, batch_size = 200) # simple GD\n",
        "\n",
        "# set up optimization with SGD\n",
        "criterion = nn.MSELoss()\n",
        "\n",
        "# WITHOUT WEIGHT DECAY\n",
        "optimizer = optim.Adam(train_model.parameters(), lr = 0.001)\n",
        "# # WITH WEIGHT DECAY\n",
        "# optimizer = optim.Adam(train_model.parameters(), lr = 0.001, weight_decay = 0.01)"
      ],
      "metadata": {
        "id": "psX71cACP7pD"
      },
      "execution_count": 16,
      "outputs": []
    },
    {
      "cell_type": "code",
      "source": [
        "nepochs = 3000\n",
        "for epoch in range(nepochs):\n",
        "  for x_batch, y_batch in train_loader:\n",
        "    # build computation graph\n",
        "    yhat = train_model(x_batch)\n",
        "    myloss = criterion(y_batch, yhat)\n",
        "\n",
        "    # optimizatin\n",
        "    optimizer.zero_grad() # zero out gradient\n",
        "    myloss.backward() # back propagation\n",
        "    optimizer.step() # updata parameters\n",
        "\n",
        "  if epoch % 300 == 299:\n",
        "    # evalulate MSE on the WHOLE traning / testing dataset\n",
        "    with torch.no_grad():\n",
        "      # training MSE\n",
        "      y_hat_train = train_model(train_data.x)\n",
        "      myloss_train = criterion(y_hat_train, train_data.y)\n",
        "      # testing MSE\n",
        "      x_test, y_test = next(iter(test_loader))\n",
        "      y_test_hat = train_model(x_test)\n",
        "      myloss_test = criterion(y_test_hat, y_test)\n",
        "    print(f\"Epoch: {epoch + 1} / {nepochs}; MSE (training): {myloss_train: .2e}; MSE (testing): {myloss_test: .2e}\")\n"
      ],
      "metadata": {
        "colab": {
          "base_uri": "https://localhost:8080/"
        },
        "id": "tBF2mHMFQjk7",
        "outputId": "5ca56bef-24fb-4412-bda3-4c9ff90c0b0c"
      },
      "execution_count": 17,
      "outputs": [
        {
          "output_type": "stream",
          "name": "stdout",
          "text": [
            "Epoch: 300 / 3000; MSE (training):  5.44e-02; MSE (testing):  2.89e-01\n",
            "Epoch: 600 / 3000; MSE (training):  4.22e-03; MSE (testing):  1.54e-01\n",
            "Epoch: 900 / 3000; MSE (training):  9.92e-04; MSE (testing):  1.47e-01\n",
            "Epoch: 1200 / 3000; MSE (training):  2.69e-04; MSE (testing):  1.50e-01\n",
            "Epoch: 1500 / 3000; MSE (training):  7.66e-05; MSE (testing):  1.53e-01\n",
            "Epoch: 1800 / 3000; MSE (training):  2.39e-05; MSE (testing):  1.54e-01\n",
            "Epoch: 2100 / 3000; MSE (training):  1.39e-05; MSE (testing):  1.56e-01\n",
            "Epoch: 2400 / 3000; MSE (training):  3.35e-05; MSE (testing):  1.56e-01\n",
            "Epoch: 2700 / 3000; MSE (training):  6.26e-07; MSE (testing):  1.56e-01\n",
            "Epoch: 3000 / 3000; MSE (training):  7.77e-05; MSE (testing):  1.57e-01\n"
          ]
        }
      ]
    },
    {
      "cell_type": "code",
      "source": [
        "# fitted value\n",
        "x1_train, y_train = train_data.x1, train_data.y\n",
        "x1_test, y_test = test_data.x1, test_data.y\n",
        "with torch.no_grad():\n",
        "  y_train_hat = train_model(train_data.x)\n",
        "  y_test_hat = train_model(test_data.x)"
      ],
      "metadata": {
        "id": "TR6Yzk6qFE8f"
      },
      "execution_count": 18,
      "outputs": []
    },
    {
      "cell_type": "code",
      "source": [
        "plt.rcParams['figure.figsize'] = [6, 6]\n",
        "\n",
        "plt.plot(x1_train, y_train, '.')\n",
        "plt.xlabel(\"x1\")\n",
        "plt.ylabel(\"y\")\n",
        "plt.title(\"True data (n = 200)\")"
      ],
      "metadata": {
        "colab": {
          "base_uri": "https://localhost:8080/",
          "height": 421
        },
        "id": "GN2exy1qkevt",
        "outputId": "1d80ccaa-a307-4ea3-e09d-e3e8b28d2474"
      },
      "execution_count": 19,
      "outputs": [
        {
          "output_type": "execute_result",
          "data": {
            "text/plain": [
              "Text(0.5, 1.0, 'True data (n = 200)')"
            ]
          },
          "metadata": {},
          "execution_count": 19
        },
        {
          "output_type": "display_data",
          "data": {
            "text/plain": [
              "<Figure size 432x432 with 1 Axes>"
            ],
            "image/png": "[encoded data removed]"
          },
          "metadata": {
            "needs_background": "light"
          }
        }
      ]
    },
    {
      "cell_type": "code",
      "source": [
        "plt.rcParams['figure.figsize'] = [15, 6]\n",
        "\n",
        "plt.subplot(1, 2, 1)\n",
        "plt.plot(x1_train, y_train_hat, '.')\n",
        "plt.xlabel(\"x1\")\n",
        "plt.ylabel(\"fitted y\")\n",
        "plt.title(\"Fitted data\")\n",
        "\n",
        "plt.subplot(1, 2, 2)\n",
        "plt.plot(y_train, y_train_hat, '.')\n",
        "plt.xlabel(\"fitted y\")\n",
        "plt.ylabel(\"true y\")\n",
        "plt.title(\"Fitted y versus true y\")"
      ],
      "metadata": {
        "colab": {
          "base_uri": "https://localhost:8080/",
          "height": 421
        },
        "id": "m4xebrTAVJiI",
        "outputId": "3618272e-e65e-40e5-a789-51c4fcc4a35c"
      },
      "execution_count": 20,
      "outputs": [
        {
          "output_type": "execute_result",
          "data": {
            "text/plain": [
              "Text(0.5, 1.0, 'Fitted y versus true y')"
            ]
          },
          "metadata": {},
          "execution_count": 20
        },
        {
          "output_type": "display_data",
          "data": {
            "text/plain": [
              "<Figure size 1080x432 with 2 Axes>"
            ],
            "image/png": "[encoded data removed]"
          },
          "metadata": {
            "needs_background": "light"
          }
        }
      ]
    },
    {
      "cell_type": "code",
      "source": [
        "plt.rcParams['figure.figsize'] = [15, 6]\n",
        "\n",
        "plt.subplot(1, 2, 1)\n",
        "plt.plot(x1_test, y_test_hat, '.')\n",
        "plt.xlabel(\"x1\")\n",
        "plt.ylabel(\"fitted y\")\n",
        "plt.title(\"Fitted test data\")\n",
        "\n",
        "plt.subplot(1, 2, 2)\n",
        "plt.plot(y_test, y_test_hat, '.')\n",
        "plt.xlabel(\"fitted y\")\n",
        "plt.ylabel(\"true y\")\n",
        "plt.title(\"Fitted y versus true y\")"
      ],
      "metadata": {
        "colab": {
          "base_uri": "https://localhost:8080/",
          "height": 421
        },
        "id": "ttOfeIDoX5V8",
        "outputId": "169e1517-e59a-4230-8c6b-396da2b29219"
      },
      "execution_count": 21,
      "outputs": [
        {
          "output_type": "execute_result",
          "data": {
            "text/plain": [
              "Text(0.5, 1.0, 'Fitted y versus true y')"
            ]
          },
          "metadata": {},
          "execution_count": 21
        },
        {
          "output_type": "display_data",
          "data": {
            "text/plain": [
              "<Figure size 1080x432 with 2 Axes>"
            ],
            "image/png": "[encoded data removed]"
          },
          "metadata": {
            "needs_background": "light"
          }
        }
      ]
    },
    {
      "cell_type": "markdown",
      "source": [
        "# Image classification with CNN"
      ],
      "metadata": {
        "id": "32bDIdqmKeOC"
      }
    },
    {
      "cell_type": "markdown",
      "source": [
        "## Check GPU availability"
      ],
      "metadata": {
        "id": "XGvogMBDK9iJ"
      }
    },
    {
      "cell_type": "code",
      "source": [
        "# check device availability\n",
        "device = torch.device(\"cuda\" if torch.cuda.is_available() else \"cpu\")\n",
        "print(device)"
      ],
      "metadata": {
        "colab": {
          "base_uri": "https://localhost:8080/"
        },
        "id": "hAUgA8wOrV2b",
        "outputId": "9a70b762-a50d-4af2-dd80-25f460ca97ed"
      },
      "execution_count": 22,
      "outputs": [
        {
          "output_type": "stream",
          "name": "stdout",
          "text": [
            "cuda\n"
          ]
        }
      ]
    },
    {
      "cell_type": "markdown",
      "source": [
        "## Prepare datasets and data loaders"
      ],
      "metadata": {
        "id": "TC4GzO79LCNb"
      }
    },
    {
      "cell_type": "code",
      "source": [
        "# define image transformation\n",
        "transform=transforms.Compose([\n",
        "                              transforms.ToTensor(),\n",
        "                              transforms.Normalize((0.1307,), (0.3081,))\n",
        "                              ])\n",
        "\n",
        "# import MNIST dataset\n",
        "dataset1 = datasets.MNIST('../data', train = True, download = True, transform = transform)\n",
        "dataset2 = datasets.MNIST('../data', train = False, transform = transform)\n",
        "\n",
        "# only use 2000 training images and 20 testing images\n",
        "train_index = np.random.choice(range(60000), 2000, replace = False)\n",
        "test_index = np.random.choice(range(10000), 200, replace = False)\n",
        "train_data = Subset(dataset1, train_index)\n",
        "test_data = Subset(dataset2, test_index)\n",
        "\n",
        "# prepare dataset loaders\n",
        "train_loader = torch.utils.data.DataLoader(train_data, batch_size = 256)\n",
        "test_loader = torch.utils.data.DataLoader(test_data, batch_size = 256)"
      ],
      "metadata": {
        "id": "2ed6fVmz457c",
        "colab": {
          "base_uri": "https://localhost:8080/",
          "height": 423,
          "referenced_widgets": [
            "db0c77e524944885aede0759c4707c04",
            "7669f1b8a35a46cbb9858af7119f89ad",
            "afd187d3cf98441488f83d11c9af3f69",
            "5dc2216b5a19496ab2ee8a1dbd56edc3",
            "4c911b47279846529f238fb9cd396851",
            "95c585bea0f647b9b839f49f894d2aaf",
            "fbe5276def85413da567eaf15ef130dd",
            "fb62a4bc194a499ba139c33b4b397114",
            "8727bf1ff559494a8d8942c5da12f0b2",
            "7c867d9d96e445fe9911b0a8573e2eb0",
            "267b46f6d806424785c39b789024cc7f",
            "da3a928830a54d0ca855f83f821268b5",
            "a2a7eab2012b420d94d7cbf94f7db39f",
            "2958a801dc2b4e49bd1cb433eb2a61c2",
            "3ac89d8c0a044601baee794bd8af3e4c",
            "79bd5f6346ab4df4bd4cf68c9a29dbd1",
            "0276dd3f7ae54954b87fb862bded285f",
            "33a78c7949424f62bbaccca4c8631e43",
            "e61751d16c294ee9b7734ab51e14a4f1",
            "fc2d6cbe61c14321bdac2925bd5f958c",
            "c2ceb44994f7491eb3f8f40399eb9d3b",
            "f4f6f6111d874f769b6eca3d20efa4b6",
            "f04f2fa99d2a4e1ca22f77415028921c",
            "872adb9f8f3e44c3b0440e7d9b3e6fa6",
            "13a85593b80c47d1b21d9eee3552bf2a",
            "dfb00872ee464467968b069459fc662c",
            "432b19dc1b1f45219dbb408301eab33f",
            "7ddf9627c6ed453481a9a3e74bb9d69d",
            "271996d722dd4611948a33897feaeee5",
            "f018a7b937ed4db89e1c41f987865987",
            "c905f665074e4ffaa96fc2e4597bc26a",
            "4313be0093144be79a7c611bb38ae2dd",
            "f7708a93fcfb407a93dccc92ffc66d2c",
            "5d8927f224d640bbb896a99e9864416f",
            "623d1659c1e54018a0f04febd60272ca",
            "d2ea4a44cd1c453ea3b8e71696781693",
            "b0d162d38c624a099d94a09e50365286",
            "84c7a3043d844050b4fa9edfed492d4b",
            "47161fb43b434df58f78f5ef54975cd8",
            "7fb1ed19c7fc4907b6b9a860d3dd7951",
            "8f6ef419c64f4163924c8137711669dc",
            "6d4474007b5240a9bb214539e3bf164d",
            "43bea079b2b84c17a739413773d6c130",
            "47efe212ce944aa3b6d4511acf29e0aa"
          ]
        },
        "outputId": "93a99315-6878-417f-f1c4-b1a1bc645eb2"
      },
      "execution_count": 23,
      "outputs": [
        {
          "output_type": "stream",
          "name": "stdout",
          "text": [
            "Downloading http://yann.lecun.com/exdb/mnist/train-images-idx3-ubyte.gz\n",
            "Downloading http://yann.lecun.com/exdb/mnist/train-images-idx3-ubyte.gz to ../data/MNIST/raw/train-images-idx3-ubyte.gz\n"
          ]
        },
        {
          "output_type": "display_data",
          "data": {
            "text/plain": [
              "  0%|          | 0/9912422 [00:00<?, ?it/s]"
            ],
            "application/vnd.jupyter.widget-view+json": {
              "version_major": 2,
              "version_minor": 0,
              "model_id": "db0c77e524944885aede0759c4707c04"
            }
          },
          "metadata": {}
        },
        {
          "output_type": "stream",
          "name": "stdout",
          "text": [
            "Extracting ../data/MNIST/raw/train-images-idx3-ubyte.gz to ../data/MNIST/raw\n",
            "\n",
            "Downloading http://yann.lecun.com/exdb/mnist/train-labels-idx1-ubyte.gz\n",
            "Downloading http://yann.lecun.com/exdb/mnist/train-labels-idx1-ubyte.gz to ../data/MNIST/raw/train-labels-idx1-ubyte.gz\n"
          ]
        },
        {
          "output_type": "display_data",
          "data": {
            "text/plain": [
              "  0%|          | 0/28881 [00:00<?, ?it/s]"
            ],
            "application/vnd.jupyter.widget-view+json": {
              "version_major": 2,
              "version_minor": 0,
              "model_id": "da3a928830a54d0ca855f83f821268b5"
            }
          },
          "metadata": {}
        },
        {
          "output_type": "stream",
          "name": "stdout",
          "text": [
            "Extracting ../data/MNIST/raw/train-labels-idx1-ubyte.gz to ../data/MNIST/raw\n",
            "\n",
            "Downloading http://yann.lecun.com/exdb/mnist/t10k-images-idx3-ubyte.gz\n",
            "Downloading http://yann.lecun.com/exdb/mnist/t10k-images-idx3-ubyte.gz to ../data/MNIST/raw/t10k-images-idx3-ubyte.gz\n"
          ]
        },
        {
          "output_type": "display_data",
          "data": {
            "text/plain": [
              "  0%|          | 0/1648877 [00:00<?, ?it/s]"
            ],
            "application/vnd.jupyter.widget-view+json": {
              "version_major": 2,
              "version_minor": 0,
              "model_id": "f04f2fa99d2a4e1ca22f77415028921c"
            }
          },
          "metadata": {}
        },
        {
          "output_type": "stream",
          "name": "stdout",
          "text": [
            "Extracting ../data/MNIST/raw/t10k-images-idx3-ubyte.gz to ../data/MNIST/raw\n",
            "\n",
            "Downloading http://yann.lecun.com/exdb/mnist/t10k-labels-idx1-ubyte.gz\n",
            "Downloading http://yann.lecun.com/exdb/mnist/t10k-labels-idx1-ubyte.gz to ../data/MNIST/raw/t10k-labels-idx1-ubyte.gz\n"
          ]
        },
        {
          "output_type": "display_data",
          "data": {
            "text/plain": [
              "  0%|          | 0/4542 [00:00<?, ?it/s]"
            ],
            "application/vnd.jupyter.widget-view+json": {
              "version_major": 2,
              "version_minor": 0,
              "model_id": "5d8927f224d640bbb896a99e9864416f"
            }
          },
          "metadata": {}
        },
        {
          "output_type": "stream",
          "name": "stdout",
          "text": [
            "Extracting ../data/MNIST/raw/t10k-labels-idx1-ubyte.gz to ../data/MNIST/raw\n",
            "\n"
          ]
        }
      ]
    },
    {
      "cell_type": "markdown",
      "source": [
        "## Visualize some images"
      ],
      "metadata": {
        "id": "nVJVdXLLLGdL"
      }
    },
    {
      "cell_type": "code",
      "source": [
        "# visualize some digits\n",
        "examples = enumerate(test_loader)\n",
        "batch_idx, (example_data, example_targets) = next(examples)\n",
        "print(example_data.shape)\n",
        "\n",
        "plt.rcParams['figure.figsize'] = [9, 6]\n",
        "fig = plt.figure()\n",
        "for i in range(6):\n",
        "  plt.subplot(2,3,i+1)\n",
        "  plt.imshow(example_data[i][0], cmap='gray', interpolation='none')\n",
        "  plt.title(\"Ground Truth: {}\".format(example_targets[i]))\n",
        "  plt.xticks([])\n",
        "  plt.yticks([])"
      ],
      "metadata": {
        "colab": {
          "base_uri": "https://localhost:8080/",
          "height": 393
        },
        "id": "TtIIT-DYyTMv",
        "outputId": "d2fa4283-0ceb-4fc3-a849-03ac52d8c6f5"
      },
      "execution_count": 24,
      "outputs": [
        {
          "output_type": "stream",
          "name": "stdout",
          "text": [
            "torch.Size([200, 1, 28, 28])\n"
          ]
        },
        {
          "output_type": "display_data",
          "data": {
            "text/plain": [
              "<Figure size 648x432 with 6 Axes>"
            ],
            "image/png": "[encoded data removed]"
          },
          "metadata": {}
        }
      ]
    },
    {
      "cell_type": "markdown",
      "source": [
        "## Define CNN structure and some utils functions"
      ],
      "metadata": {
        "id": "mkpii3MBLKOA"
      }
    },
    {
      "cell_type": "code",
      "source": [
        "# our CNN network structure\n",
        "class Net(nn.Module):\n",
        "    def __init__(self):\n",
        "        super(Net, self).__init__()\n",
        "        self.conv1 = nn.Conv2d(1, 32, 3, 1)\n",
        "        self.conv2 = nn.Conv2d(32, 64, 3, 1)\n",
        "        self.dropout1 = nn.Dropout(0.25)\n",
        "        self.dropout2 = nn.Dropout(0.5)\n",
        "        self.fc1 = nn.Linear(9216, 128)\n",
        "        self.fc2 = nn.Linear(128, 10)\n",
        "\n",
        "    def forward(self, x):\n",
        "        x = self.conv1(x)\n",
        "        x = F.relu(x)\n",
        "        x = self.conv2(x)\n",
        "        x = F.relu(x)\n",
        "        x = F.max_pool2d(x, 2)\n",
        "        x = self.dropout1(x)\n",
        "        x = torch.flatten(x, 1)\n",
        "        x = self.fc1(x)\n",
        "        x = F.relu(x)\n",
        "        x = self.dropout2(x)\n",
        "        x = self.fc2(x)\n",
        "        output = F.log_softmax(x, dim=1)\n",
        "        return output\n",
        "\n",
        "# a utils function for training\n",
        "def train(model, device, train_loader, optimizer, epoch):\n",
        "    model.train() # enable dropout\n",
        "    correct = 0\n",
        "    for batch_idx, (data, target) in enumerate(train_loader):\n",
        "        # transfer batches of data to specified device\n",
        "        data, target = data.to(device), target.to(device)\n",
        "\n",
        "        # build computation graph\n",
        "        output = model(data)\n",
        "        loss = F.nll_loss(output, target)\n",
        "\n",
        "        # the optimization part\n",
        "        optimizer.zero_grad()\n",
        "        loss.backward()\n",
        "        optimizer.step()\n",
        "\n",
        "        # count the corrected classified cases\n",
        "        pred = output.argmax(dim = 1, keepdim = True)  # get the index of the max log-probability\n",
        "        correct += pred.eq(target.view_as(pred)).sum().item()\n",
        "\n",
        "    print(f\"Epoch {epoch + 1}:\", end = \"\")\n",
        "    print(f\" Training accuracy: {100. * correct / len(train_loader.dataset): .2f} %\", end = \";\")\n",
        "\n",
        "# a utils function for evaluation on test dataset\n",
        "def test(model, device, test_loader):\n",
        "    model.eval() # disable dropout\n",
        "    test_loss = 0\n",
        "    correct = 0\n",
        "    with torch.no_grad():\n",
        "        for data, target in test_loader:\n",
        "            data, target = data.to(device), target.to(device)\n",
        "            output = model(data)\n",
        "            test_loss += F.nll_loss(output, target, reduction='sum').item()  # sum up batch loss\n",
        "            pred = output.argmax(dim=1, keepdim=True)  # get the index of the max log-probability\n",
        "            correct += pred.eq(target.view_as(pred)).sum().item()\n",
        "\n",
        "    test_loss /= len(test_loader.dataset)\n",
        "\n",
        "    print(' Testing accuracy: {}/{} ({:.0f}%)'.format(\n",
        "        correct, len(test_loader.dataset),\n",
        "        100. * correct / len(test_loader.dataset)))\n"
      ],
      "metadata": {
        "id": "iqLrjqPzrUgb"
      },
      "execution_count": 25,
      "outputs": []
    },
    {
      "cell_type": "markdown",
      "source": [
        "## Train CNN"
      ],
      "metadata": {
        "id": "QgwDZcPRLOgq"
      }
    },
    {
      "cell_type": "code",
      "source": [
        "# the training\n",
        "model = Net().to(device)\n",
        "optimizer = optim.Adam(model.parameters(), lr = 0.005)\n",
        "\n",
        "nepochs = 20\n",
        "for epoch in range(nepochs):\n",
        "  train(model, device, train_loader, optimizer, epoch)\n",
        "  test(model, device, test_loader)"
      ],
      "metadata": {
        "colab": {
          "base_uri": "https://localhost:8080/"
        },
        "id": "3dVJzkQisV11",
        "outputId": "36131450-b4ce-4920-97bd-deef18a63a1f"
      },
      "execution_count": 26,
      "outputs": [
        {
          "output_type": "stream",
          "name": "stdout",
          "text": [
            "Epoch 1: Training accuracy:  43.90 %; Testing accuracy: 167/200 (84%)\n",
            "Epoch 2: Training accuracy:  80.25 %; Testing accuracy: 177/200 (88%)\n",
            "Epoch 3: Training accuracy:  87.20 %; Testing accuracy: 184/200 (92%)\n",
            "Epoch 4: Training accuracy:  91.75 %; Testing accuracy: 187/200 (94%)\n",
            "Epoch 5: Training accuracy:  94.75 %; Testing accuracy: 188/200 (94%)\n",
            "Epoch 6: Training accuracy:  95.60 %; Testing accuracy: 189/200 (94%)\n",
            "Epoch 7: Training accuracy:  96.25 %; Testing accuracy: 193/200 (96%)\n",
            "Epoch 8: Training accuracy:  97.40 %; Testing accuracy: 194/200 (97%)\n",
            "Epoch 9: Training accuracy:  97.85 %; Testing accuracy: 193/200 (96%)\n",
            "Epoch 10: Training accuracy:  97.65 %; Testing accuracy: 194/200 (97%)\n",
            "Epoch 11: Training accuracy:  98.35 %; Testing accuracy: 196/200 (98%)\n",
            "Epoch 12: Training accuracy:  98.15 %; Testing accuracy: 195/200 (98%)\n",
            "Epoch 13: Training accuracy:  98.65 %; Testing accuracy: 193/200 (96%)\n",
            "Epoch 14: Training accuracy:  98.60 %; Testing accuracy: 193/200 (96%)\n",
            "Epoch 15: Training accuracy:  98.75 %; Testing accuracy: 195/200 (98%)\n",
            "Epoch 16: Training accuracy:  98.85 %; Testing accuracy: 195/200 (98%)\n",
            "Epoch 17: Training accuracy:  98.55 %; Testing accuracy: 196/200 (98%)\n",
            "Epoch 18: Training accuracy:  99.20 %; Testing accuracy: 195/200 (98%)\n",
            "Epoch 19: Training accuracy:  98.90 %; Testing accuracy: 195/200 (98%)\n",
            "Epoch 20: Training accuracy:  98.40 %; Testing accuracy: 196/200 (98%)\n"
          ]
        }
      ]
    },
    {
      "cell_type": "markdown",
      "source": [
        "## Evaluate CNN on digit images (written and taken from iPad, not from MNIST test dataset)"
      ],
      "metadata": {
        "id": "AQCkMYgPm4FR"
      }
    },
    {
      "cell_type": "markdown",
      "source": [
        "MAKE SURE you have already downloaded the `test.pkl` file from https://github.umn.edu/liu00980/STAT8056_intro_pytorch. Also, MAKE SURE you have uploaded it in Colab's current working directory."
      ],
      "metadata": {
        "id": "riQfF_Y7_vNZ"
      }
    },
    {
      "cell_type": "code",
      "source": [
        "import pickle\n",
        "testdata = pickle.load(open(\"test.pkl\", \"rb\"))\n",
        "\n",
        "# digit images (written by myself and taken from my iPad)\n",
        "# (cont.) will be served as an additional test dataset to evaluate the CNN\n",
        "plt.rcParams['figure.figsize'] = [12, 6]\n",
        "for i in range(10):\n",
        "  plt.subplot(2,5,i + 1)\n",
        "  plt.imshow(testdata[i][0][0], cmap='gray', interpolation='none')\n",
        "  plt.title(\"Label: {}\".format(testdata[i][1].item()))\n",
        "  plt.xticks([])\n",
        "  plt.yticks([])"
      ],
      "metadata": {
        "colab": {
          "base_uri": "https://localhost:8080/",
          "height": 344
        },
        "id": "0AkUYkionF9T",
        "outputId": "da0b0121-dfd7-4267-c5de-e3b85f714d86"
      },
      "execution_count": 28,
      "outputs": [
        {
          "output_type": "display_data",
          "data": {
            "text/plain": [
              "<Figure size 864x432 with 10 Axes>"
            ],
            "image/png": "[encoded data removed]"
          },
          "metadata": {}
        }
      ]
    },
    {
      "cell_type": "code",
      "source": [
        "# prepare dataset and dataloader for this test dataset\n",
        "class myMNIST(Dataset):\n",
        "    def __init__(self, dataset):\n",
        "      self.sample_size = len(dataset)\n",
        "      self.dataset = dataset\n",
        "    \n",
        "    def __len__(self):\n",
        "        return self.sample_size\n",
        "        \n",
        "    def __getitem__(self, idx):\n",
        "        return self.dataset[idx][0], self.dataset[idx][1]\n",
        "\n",
        "mytestdataset = myMNIST(testdata)\n",
        "mytestloader = DataLoader(mytestdataset, batch_size = 10)\n",
        "\n",
        "# prediction\n",
        "with torch.no_grad():\n",
        "  data, target = next(iter(mytestloader))\n",
        "  data, target = data.to(device), target.to(device)\n",
        "  output = model(data)\n",
        "  pred = output.argmax(dim=1, keepdim = True)  # get the index of the max log-probability"
      ],
      "metadata": {
        "id": "jbXNe-nDlg6q"
      },
      "execution_count": 29,
      "outputs": []
    },
    {
      "cell_type": "code",
      "source": [
        "# visualize the prediction result\n",
        "plt.rcParams['figure.figsize'] = [12, 6]\n",
        "for i in range(10):\n",
        "  plt.subplot(2,5,i + 1)\n",
        "  plt.imshow(testdata[i][0][0], cmap='gray', interpolation='none')\n",
        "  plt.title(\"Truth: {}; Pred: {}\".format(testdata[i][1].item(), pred[i][0]))\n",
        "  plt.xticks([])\n",
        "  plt.yticks([])\n",
        "\n",
        "print(f\"Test accuracy on my own test images: {pred.eq(target.view_as(pred)).sum().item() / 10}\")"
      ],
      "metadata": {
        "colab": {
          "base_uri": "https://localhost:8080/",
          "height": 361
        },
        "id": "HNj1M07JmIlp",
        "outputId": "eaa7de0d-3307-4d2e-a664-ef363f43ad4c"
      },
      "execution_count": 30,
      "outputs": [
        {
          "output_type": "stream",
          "name": "stdout",
          "text": [
            "Test accuracy on my own test images: 0.7\n"
          ]
        },
        {
          "output_type": "display_data",
          "data": {
            "text/plain": [
              "<Figure size 864x432 with 10 Axes>"
            ],
            "image/png": "[encoded data removed]"
          },
          "metadata": {}
        }
      ]
    },
    {
      "cell_type": "markdown",
      "source": [
        "## Model summary using pytorch-model-summary"
      ],
      "metadata": {
        "id": "qhKbBVOZK5PR"
      }
    },
    {
      "cell_type": "code",
      "source": [
        "# model summary\n",
        "! pip install pytorch-model-summary\n",
        "from pytorch_model_summary import summary\n",
        "print(summary(Net(), torch.zeros((1, 1, 28, 28)), show_input=True))"
      ],
      "metadata": {
        "colab": {
          "base_uri": "https://localhost:8080/"
        },
        "id": "gMMTwgwg3l1T",
        "outputId": "7a9e8890-18f3-40d0-fbfe-6de816de76a3"
      },
      "execution_count": 31,
      "outputs": [
        {
          "output_type": "stream",
          "name": "stdout",
          "text": [
            "Collecting pytorch-model-summary\n",
            "  Downloading pytorch_model_summary-0.1.2-py3-none-any.whl (9.3 kB)\n",
            "Requirement already satisfied: tqdm in /usr/local/lib/python3.7/dist-packages (from pytorch-model-summary) (4.63.0)\n",
            "Requirement already satisfied: numpy in /usr/local/lib/python3.7/dist-packages (from pytorch-model-summary) (1.21.5)\n",
            "Requirement already satisfied: torch in /usr/local/lib/python3.7/dist-packages (from pytorch-model-summary) (1.10.0+cu111)\n",
            "Requirement already satisfied: typing-extensions in /usr/local/lib/python3.7/dist-packages (from torch->pytorch-model-summary) (3.10.0.2)\n",
            "Installing collected packages: pytorch-model-summary\n",
            "Successfully installed pytorch-model-summary-0.1.2\n",
            "-----------------------------------------------------------------------\n",
            "      Layer (type)         Input Shape         Param #     Tr. Param #\n",
            "=======================================================================\n",
            "          Conv2d-1      [1, 1, 28, 28]             320             320\n",
            "          Conv2d-2     [1, 32, 26, 26]          18,496          18,496\n",
            "         Dropout-3     [1, 64, 12, 12]               0               0\n",
            "          Linear-4           [1, 9216]       1,179,776       1,179,776\n",
            "         Dropout-5            [1, 128]               0               0\n",
            "          Linear-6            [1, 128]           1,290           1,290\n",
            "=======================================================================\n",
            "Total params: 1,199,882\n",
            "Trainable params: 1,199,882\n",
            "Non-trainable params: 0\n",
            "-----------------------------------------------------------------------\n"
          ]
        }
      ]
    },
    {
      "cell_type": "markdown",
      "source": [
        "## Save models"
      ],
      "metadata": {
        "id": "ipQEn8QsKsDZ"
      }
    },
    {
      "cell_type": "markdown",
      "source": [
        "### The state dictionary method"
      ],
      "metadata": {
        "id": "cmuKn3gXKvsR"
      }
    },
    {
      "cell_type": "code",
      "source": [
        "# save parameter values\n",
        "torch.save(model.state_dict(), \"model_dict.pt\")\n",
        "\n",
        "# load parameter values\n",
        "model_new = Net()\n",
        "model_new.load_state_dict(torch.load(\"model_dict.pt\"))\n",
        "model_new.eval()"
      ],
      "metadata": {
        "colab": {
          "base_uri": "https://localhost:8080/"
        },
        "id": "BgCAjkCTA0mK",
        "outputId": "b9e6e60c-7120-49cb-a342-d3e4e4f80034"
      },
      "execution_count": 32,
      "outputs": [
        {
          "output_type": "execute_result",
          "data": {
            "text/plain": [
              "Net(\n",
              "  (conv1): Conv2d(1, 32, kernel_size=(3, 3), stride=(1, 1))\n",
              "  (conv2): Conv2d(32, 64, kernel_size=(3, 3), stride=(1, 1))\n",
              "  (dropout1): Dropout(p=0.25, inplace=False)\n",
              "  (dropout2): Dropout(p=0.5, inplace=False)\n",
              "  (fc1): Linear(in_features=9216, out_features=128, bias=True)\n",
              "  (fc2): Linear(in_features=128, out_features=10, bias=True)\n",
              ")"
            ]
          },
          "metadata": {},
          "execution_count": 32
        }
      ]
    },
    {
      "cell_type": "markdown",
      "source": [
        "### The checkpoint method"
      ],
      "metadata": {
        "id": "JLtaIIg8KybB"
      }
    },
    {
      "cell_type": "code",
      "source": [
        "# save checkpoint for resuming training\n",
        "torch.save({\n",
        "            'epoch': epoch,\n",
        "            'model_state_dict': model.state_dict(),\n",
        "            'optimizer_state_dict': optimizer.state_dict()\n",
        "            }, \"model_checkpoint.pt\")\n",
        "\n",
        "# initialize class and optimizer\n",
        "model_new = Net()\n",
        "optimizer_new = optim.Adam(model_new.parameters(), lr = 0.005)\n",
        "\n",
        "# load checkpoint\n",
        "checkpoint = torch.load(\"model_checkpoint.pt\")\n",
        "model_new.load_state_dict(checkpoint['model_state_dict'])\n",
        "optimizer_new.load_state_dict(checkpoint['optimizer_state_dict'])\n",
        "epoch = checkpoint['epoch']\n",
        "\n",
        "# do whatever you like :)\n",
        "model_new.eval()\n",
        "# - or -\n",
        "model_new.train()"
      ],
      "metadata": {
        "colab": {
          "base_uri": "https://localhost:8080/"
        },
        "id": "xtObwHkxA6KR",
        "outputId": "05074505-4241-45ca-da42-3d096f5f8213"
      },
      "execution_count": 33,
      "outputs": [
        {
          "output_type": "execute_result",
          "data": {
            "text/plain": [
              "Net(\n",
              "  (conv1): Conv2d(1, 32, kernel_size=(3, 3), stride=(1, 1))\n",
              "  (conv2): Conv2d(32, 64, kernel_size=(3, 3), stride=(1, 1))\n",
              "  (dropout1): Dropout(p=0.25, inplace=False)\n",
              "  (dropout2): Dropout(p=0.5, inplace=False)\n",
              "  (fc1): Linear(in_features=9216, out_features=128, bias=True)\n",
              "  (fc2): Linear(in_features=128, out_features=10, bias=True)\n",
              ")"
            ]
          },
          "metadata": {},
          "execution_count": 33
        }
      ]
    }
  ]
}